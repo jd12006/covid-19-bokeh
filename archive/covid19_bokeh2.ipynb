{
 "cells": [
  {
   "cell_type": "markdown",
   "metadata": {},
   "source": [
    "This notebook contains experimental code used for covid data cleansing and plots, from before i moved code into covid_app.py.\n",
    "Kept for reference but not used now"
   ]
  },
  {
   "cell_type": "markdown",
   "metadata": {},
   "source": [
    "Ideas\n",
    "- add population data per country\n",
    "- NOTE: lat/long were added to daily data on march 1st: jan and feb tables only have province/country!\n",
    "\n",
    "#XXX NEXT STEPS\n",
    "- SLIDER TO SELECT DATES\n",
    "- TOGGLE TO SELECT MEASURE\n",
    "- shading by counts - how to scale colourbar?\n",
    "\n",
    "- add second tab for global totals by date\n",
    "\n",
    "\n",
    "- "
   ]
  },
  {
   "cell_type": "markdown",
   "metadata": {},
   "source": [
    "# Imports and functions"
   ]
  },
  {
   "cell_type": "code",
   "execution_count": 31,
   "metadata": {
    "ExecuteTime": {
     "end_time": "2020-04-08T19:03:42.556415Z",
     "start_time": "2020-04-08T19:03:41.545800Z"
    },
    "execution": {
     "iopub.execute_input": "2020-04-24T17:04:59.279747Z",
     "iopub.status.busy": "2020-04-24T17:04:59.279493Z",
     "iopub.status.idle": "2020-04-24T17:04:59.827040Z",
     "shell.execute_reply": "2020-04-24T17:04:59.826525Z",
     "shell.execute_reply.started": "2020-04-24T17:04:59.279708Z"
    }
   },
   "outputs": [],
   "source": [
    "import logging\n",
    "import glob\n",
    "import pandas as pd\n",
    "import os\n",
    "import geopandas as gpd\n",
    "import json \n",
    "import datetime\n",
    "import itertools\n",
    "from bokeh.io import output_notebook, show, output_file, curdoc\n",
    "from bokeh.plotting import figure, ColumnDataSource\n",
    "from bokeh.models import GeoJSONDataSource, LinearColorMapper, ColorBar\n",
    "from bokeh.models import DateSlider, Select, HoverTool, DatetimeTickFormatter, NumeralTickFormatter\n",
    "from bokeh.layouts import widgetbox, row, column\n",
    "from bokeh.models.annotations import Title\n",
    "from bokeh.models.widgets import Panel, Tabs\n",
    "import colorcet "
   ]
  },
  {
   "cell_type": "code",
   "execution_count": 2,
   "metadata": {
    "ExecuteTime": {
     "end_time": "2020-04-08T19:03:42.609446Z",
     "start_time": "2020-04-08T19:03:42.601761Z"
    },
    "execution": {
     "iopub.execute_input": "2020-04-24T16:44:03.883667Z",
     "iopub.status.busy": "2020-04-24T16:44:03.883403Z",
     "iopub.status.idle": "2020-04-24T16:44:03.890811Z",
     "shell.execute_reply": "2020-04-24T16:44:03.890020Z",
     "shell.execute_reply.started": "2020-04-24T16:44:03.883626Z"
    },
    "scrolled": true
   },
   "outputs": [],
   "source": [
    "def prepare_data(df, metric):\n",
    "    \n",
    "    # organise cols\n",
    "    \n",
    "    df.rename({'Country/Region': 'country', 'Province/State': 'province'}, axis=1, inplace=True)\n",
    "    df.columns = [x.lower() for x in df.columns]\n",
    "    df.fillna('No data', inplace=True)\n",
    "    \n",
    "    # convert from wide to long \n",
    "    # to get one row per province/country/date\n",
    "\n",
    "    df = pd.melt(df, id_vars=['country', 'province', 'lat', 'long'],\n",
    "                 var_name='day', value_name=metric)\n",
    "\n",
    "    df.set_index(['country', 'province', 'lat', 'long', 'day'], inplace=True)\n",
    "    \n",
    "    return df.sort_values(by=['country', 'province'])\n",
    "\n",
    "\n",
    "\n",
    "# def prepare_geojsondata(df):\n",
    "#     \"\"\"used in plot 1 only, not in app so commented out\"\"\"\n",
    "#     ## Convert GeoDataFrame to GeoJSON format so it can be read by Bokeh \n",
    "#     # (Bokeh consumes GeoJSON format which represents geographical features with JSON)\n",
    "\n",
    "#     # Read data to json.\n",
    "#     df_json = json.loads(df.to_json())\n",
    "\n",
    "#     # Convert to String like object.\n",
    "#     json_data = json.dumps(df_json)\n",
    "    \n",
    "#     # Convert JSON to GeoDataSource to be read by Bokeh\n",
    "#     geosource = GeoJSONDataSource(geojson=json_data)\n",
    "    \n",
    "#     return geosource"
   ]
  },
  {
   "cell_type": "markdown",
   "metadata": {},
   "source": [
    "# Data: COVID cases"
   ]
  },
  {
   "cell_type": "markdown",
   "metadata": {},
   "source": [
    "## Time series - USE\n",
    "- one file per measure (confirmed dealths, recovered)\n",
    "- one row per province/country\n",
    "- no duplicates from latlongs or multiple entries in same day\n",
    "    - however, latlongs have dodgy numbers of digits so not very accurate: prob wont use these!\n",
    "- dates are columns, with new col added each day and zeros for missing data"
   ]
  },
  {
   "cell_type": "code",
   "execution_count": 3,
   "metadata": {
    "ExecuteTime": {
     "end_time": "2020-04-08T19:03:42.974360Z",
     "start_time": "2020-04-08T19:03:42.938806Z"
    },
    "execution": {
     "iopub.execute_input": "2020-04-24T16:44:12.850634Z",
     "iopub.status.busy": "2020-04-24T16:44:12.850371Z",
     "iopub.status.idle": "2020-04-24T16:44:12.888467Z",
     "shell.execute_reply": "2020-04-24T16:44:12.887815Z",
     "shell.execute_reply.started": "2020-04-24T16:44:12.850595Z"
    }
   },
   "outputs": [],
   "source": [
    "os.chdir('/Users/jdorni/Documents/training/covid-19-bokeh/data/csse_covid_19_data/csse_covid_19_time_series')\n",
    "\n",
    "confirmed = pd.read_csv('time_series_covid19_confirmed_global.csv')\n",
    "deaths = pd.read_csv('time_series_covid19_deaths_global.csv')\n",
    "recovered = pd.read_csv('time_series_covid19_recovered_global.csv')"
   ]
  },
  {
   "cell_type": "code",
   "execution_count": 4,
   "metadata": {
    "ExecuteTime": {
     "end_time": "2020-04-08T19:03:43.397505Z",
     "start_time": "2020-04-08T19:03:43.325014Z"
    },
    "execution": {
     "iopub.execute_input": "2020-04-24T16:44:14.774024Z",
     "iopub.status.busy": "2020-04-24T16:44:14.773716Z",
     "iopub.status.idle": "2020-04-24T16:44:14.849414Z",
     "shell.execute_reply": "2020-04-24T16:44:14.848657Z",
     "shell.execute_reply.started": "2020-04-24T16:44:14.773974Z"
    },
    "scrolled": true
   },
   "outputs": [],
   "source": [
    "confirmed_melted = prepare_data(df=confirmed, metric='confirmed')\n",
    "deaths_melted = prepare_data(df=deaths, metric='deaths')\n",
    "recovered_melted = prepare_data(df=recovered, metric='recovered')"
   ]
  },
  {
   "cell_type": "code",
   "execution_count": 5,
   "metadata": {
    "ExecuteTime": {
     "end_time": "2020-04-08T19:03:43.827246Z",
     "start_time": "2020-04-08T19:03:43.822787Z"
    },
    "execution": {
     "iopub.execute_input": "2020-04-24T16:44:15.262371Z",
     "iopub.status.busy": "2020-04-24T16:44:15.262118Z",
     "iopub.status.idle": "2020-04-24T16:44:15.267572Z",
     "shell.execute_reply": "2020-04-24T16:44:15.266644Z",
     "shell.execute_reply.started": "2020-04-24T16:44:15.262330Z"
    },
    "scrolled": true
   },
   "outputs": [
    {
     "name": "stdout",
     "output_type": "stream",
     "text": [
      "264 24552\n",
      "264 24552\n",
      "250 23250\n"
     ]
    }
   ],
   "source": [
    "print(len(confirmed), len(confirmed_melted))\n",
    "print(len(deaths), len(deaths_melted))\n",
    "print(len(recovered), len(recovered_melted))"
   ]
  },
  {
   "cell_type": "code",
   "execution_count": 6,
   "metadata": {
    "ExecuteTime": {
     "end_time": "2020-04-08T19:03:44.661524Z",
     "start_time": "2020-04-08T19:03:44.336765Z"
    },
    "execution": {
     "iopub.execute_input": "2020-04-24T16:44:18.220340Z",
     "iopub.status.busy": "2020-04-24T16:44:18.220086Z",
     "iopub.status.idle": "2020-04-24T16:44:18.609411Z",
     "shell.execute_reply": "2020-04-24T16:44:18.608848Z",
     "shell.execute_reply.started": "2020-04-24T16:44:18.220300Z"
    }
   },
   "outputs": [
    {
     "data": {
      "text/html": [
       "<div>\n",
       "<style scoped>\n",
       "    .dataframe tbody tr th:only-of-type {\n",
       "        vertical-align: middle;\n",
       "    }\n",
       "\n",
       "    .dataframe tbody tr th {\n",
       "        vertical-align: top;\n",
       "    }\n",
       "\n",
       "    .dataframe thead th {\n",
       "        text-align: right;\n",
       "    }\n",
       "</style>\n",
       "<table border=\"1\" class=\"dataframe\">\n",
       "  <thead>\n",
       "    <tr style=\"text-align: right;\">\n",
       "      <th></th>\n",
       "      <th>country</th>\n",
       "      <th>day</th>\n",
       "      <th>confirmed</th>\n",
       "      <th>deaths</th>\n",
       "      <th>recovered</th>\n",
       "    </tr>\n",
       "  </thead>\n",
       "  <tbody>\n",
       "    <tr>\n",
       "      <th>0</th>\n",
       "      <td>Afghanistan</td>\n",
       "      <td>2020-01-22</td>\n",
       "      <td>0.0</td>\n",
       "      <td>0.0</td>\n",
       "      <td>0.0</td>\n",
       "    </tr>\n",
       "    <tr>\n",
       "      <th>1</th>\n",
       "      <td>Afghanistan</td>\n",
       "      <td>2020-01-23</td>\n",
       "      <td>0.0</td>\n",
       "      <td>0.0</td>\n",
       "      <td>0.0</td>\n",
       "    </tr>\n",
       "    <tr>\n",
       "      <th>2</th>\n",
       "      <td>Afghanistan</td>\n",
       "      <td>2020-01-24</td>\n",
       "      <td>0.0</td>\n",
       "      <td>0.0</td>\n",
       "      <td>0.0</td>\n",
       "    </tr>\n",
       "    <tr>\n",
       "      <th>3</th>\n",
       "      <td>Afghanistan</td>\n",
       "      <td>2020-01-25</td>\n",
       "      <td>0.0</td>\n",
       "      <td>0.0</td>\n",
       "      <td>0.0</td>\n",
       "    </tr>\n",
       "    <tr>\n",
       "      <th>4</th>\n",
       "      <td>Afghanistan</td>\n",
       "      <td>2020-01-26</td>\n",
       "      <td>0.0</td>\n",
       "      <td>0.0</td>\n",
       "      <td>0.0</td>\n",
       "    </tr>\n",
       "  </tbody>\n",
       "</table>\n",
       "</div>"
      ],
      "text/plain": [
       "       country         day  confirmed  deaths  recovered\n",
       "0  Afghanistan  2020-01-22        0.0     0.0        0.0\n",
       "1  Afghanistan  2020-01-23        0.0     0.0        0.0\n",
       "2  Afghanistan  2020-01-24        0.0     0.0        0.0\n",
       "3  Afghanistan  2020-01-25        0.0     0.0        0.0\n",
       "4  Afghanistan  2020-01-26        0.0     0.0        0.0"
      ]
     },
     "execution_count": 6,
     "metadata": {},
     "output_type": "execute_result"
    }
   ],
   "source": [
    "df = pd.concat([confirmed_melted, deaths_melted, recovered_melted], axis=1)\n",
    "df.reset_index(inplace=True)\n",
    "\n",
    "\n",
    "# sum provinces to get totals by whole countries  \n",
    "\n",
    "df = df.groupby(['country', 'day']).agg(\n",
    "    confirmed=pd.NamedAgg(column='confirmed', aggfunc='sum'),\n",
    "    deaths=pd.NamedAgg(column='deaths', aggfunc='sum'),\n",
    "    recovered=pd.NamedAgg(column='recovered', aggfunc='sum'))\n",
    "\n",
    "df = df.reset_index()\n",
    "\n",
    "# convert date to a sortable string format\n",
    "df['day'] = pd.to_datetime(df['day']).dt.strftime(\"%Y-%m-%d\")\n",
    "#df['day'] = pd.to_datetime(df['day']).dt.date\n",
    "\n",
    "df.head()"
   ]
  },
  {
   "cell_type": "markdown",
   "metadata": {
    "ExecuteTime": {
     "end_time": "2020-03-23T21:53:41.599531Z",
     "start_time": "2020-03-23T21:53:41.597336Z"
    },
    "heading_collapsed": true
   },
   "source": [
    "## daily reports - DON'T USE, TOO MESSY\n",
    "- One file per day with latest results from certain countries.\n",
    "- Contains all 3 measures: confirmed, deaths, recovered\n",
    "- Countries dont send updated figures every day, so single files arent much use on their own\n",
    "\n",
    "__NOTE: to use this data format i still need to create one row per date per country with a cumulative total for each measure, to ensure the date slider will work. Since countries dont have daily records. This is too much effort. Let's use the columnar time series dataset that is already cleaned, only one file and presumably no duplicates. Much simpler to import this in a myapp.py code structure.__"
   ]
  },
  {
   "cell_type": "markdown",
   "metadata": {
    "hidden": true
   },
   "source": [
    "### Get single dated files"
   ]
  },
  {
   "cell_type": "code",
   "execution_count": 8,
   "metadata": {
    "ExecuteTime": {
     "end_time": "2020-03-26T18:01:05.863564Z",
     "start_time": "2020-03-26T18:01:05.860743Z"
    },
    "hidden": true
   },
   "outputs": [],
   "source": [
    "# os.chdir('/Users/jdorni/Documents/training/COVID-19/csse_covid_19_data/csse_covid_19_daily_reports')\n",
    "# df = pd.read_csv('03-16-2020.csv')\n",
    "\n",
    "# # organise cols\n",
    "# df.rename({'Country/Region': 'country', 'Province/State': 'province'}, axis=1, inplace=True)\n",
    "# df.columns = [x.lower() for x in df.columns]\n",
    "# df.fillna('No data', inplace=True)\n",
    "\n",
    "# # fix timestamps\n",
    "# df['last_updated_ts'] = pd.to_datetime(df[\"last update\"])\n",
    "# df['date'] = df[\"last_updated_ts\"].dt.date\n",
    "# df.drop('last update', axis=1, inplace=True)\n",
    "# #df.drop(['last update', 'last_updated_ts'], axis=1, inplace=True)\n",
    "\n",
    "# df.head()"
   ]
  },
  {
   "cell_type": "markdown",
   "metadata": {
    "hidden": true
   },
   "source": [
    "### Get all files"
   ]
  },
  {
   "cell_type": "code",
   "execution_count": 303,
   "metadata": {
    "ExecuteTime": {
     "end_time": "2020-03-23T23:26:10.222233Z",
     "start_time": "2020-03-23T23:26:10.217405Z"
    },
    "hidden": true
   },
   "outputs": [
    {
     "name": "stdout",
     "output_type": "stream",
     "text": [
      "61\n",
      "['01-22-2020.csv', '01-23-2020.csv', '01-24-2020.csv', '01-25-2020.csv', '01-26-2020.csv', '01-27-2020.csv', '01-28-2020.csv', '01-29-2020.csv', '01-30-2020.csv', '01-31-2020.csv', '02-01-2020.csv', '02-02-2020.csv', '02-03-2020.csv', '02-04-2020.csv', '02-05-2020.csv', '02-06-2020.csv', '02-07-2020.csv', '02-08-2020.csv', '02-09-2020.csv', '02-10-2020.csv', '02-11-2020.csv', '02-12-2020.csv', '02-13-2020.csv', '02-14-2020.csv', '02-15-2020.csv', '02-16-2020.csv', '02-17-2020.csv', '02-18-2020.csv', '02-19-2020.csv', '02-20-2020.csv', '02-21-2020.csv', '02-22-2020.csv', '02-23-2020.csv', '02-24-2020.csv', '02-25-2020.csv', '02-26-2020.csv', '02-27-2020.csv', '02-28-2020.csv', '02-29-2020.csv', '03-01-2020.csv', '03-02-2020.csv', '03-03-2020.csv', '03-04-2020.csv', '03-05-2020.csv', '03-06-2020.csv', '03-07-2020.csv', '03-08-2020.csv', '03-09-2020.csv', '03-10-2020.csv', '03-11-2020.csv', '03-12-2020.csv', '03-13-2020.csv', '03-14-2020.csv', '03-15-2020.csv', '03-16-2020.csv', '03-17-2020.csv', '03-18-2020.csv', '03-19-2020.csv', '03-20-2020.csv', '03-21-2020.csv', '03-22-2020.csv']\n"
     ]
    }
   ],
   "source": [
    "# print all the files in folder (just to see)\n",
    "\n",
    "path = '/Users/jdorni/Documents/training/COVID-19/csse_covid_19_data/csse_covid_19_daily_reports/'\n",
    "files = [x for x in os.listdir(path) if x.endswith(\".csv\")]\n",
    "\n",
    "print(len(files))\n",
    "print(sorted(files))"
   ]
  },
  {
   "cell_type": "code",
   "execution_count": 304,
   "metadata": {
    "ExecuteTime": {
     "end_time": "2020-03-23T23:26:10.973693Z",
     "start_time": "2020-03-23T23:26:10.812280Z"
    },
    "hidden": true
   },
   "outputs": [],
   "source": [
    "# Read in all CSVs for all dates\n",
    "# save as dataframes in a dict keyed on month\n",
    "\n",
    "# NOTE: lat/long were added to daily data on march 1st: jan and feb tables only have province/country!\n",
    "# So need to load months separately\n",
    "\n",
    "\n",
    "file_dict = {}\n",
    "months = ['01', '02', '03', '04', '05', '06', '07', '08', '09', '10', '11', '12']\n",
    "path = '/Users/jdorni/Documents/training/COVID-19/csse_covid_19_data/csse_covid_19_daily_reports/'\n",
    "\n",
    "for mon in months:\n",
    "    try:\n",
    "        file_path = f'{path}{mon}-*.csv'\n",
    "        file_dict[mon] = pd.concat(map(pd.read_csv, glob.glob(os.path.join('', file_path))))\n",
    "    except Exception as e:\n",
    "        break"
   ]
  },
  {
   "cell_type": "code",
   "execution_count": 305,
   "metadata": {
    "ExecuteTime": {
     "end_time": "2020-03-23T23:26:11.431656Z",
     "start_time": "2020-03-23T23:26:11.422235Z"
    },
    "hidden": true
   },
   "outputs": [],
   "source": [
    "# add NaNs for lat/long in jan/feb \n",
    "# (can join on country and province later if needed?)\n",
    "\n",
    "df_janfeb = pd.concat([file_dict['01'], file_dict['02']]).drop_duplicates()\n",
    "df_janfeb['Latitude'] = np.nan\n",
    "df_janfeb['Longitude'] = np.nan"
   ]
  },
  {
   "cell_type": "code",
   "execution_count": 306,
   "metadata": {
    "ExecuteTime": {
     "end_time": "2020-03-23T23:26:11.890373Z",
     "start_time": "2020-03-23T23:26:11.885847Z"
    },
    "hidden": true
   },
   "outputs": [],
   "source": [
    "# get the later months that incl lat/long data\n",
    "\n",
    "df_march_onwards = pd.concat([file_dict[k] for k in file_dict.keys() if k not in ['01', '02']])"
   ]
  },
  {
   "cell_type": "code",
   "execution_count": 307,
   "metadata": {
    "ExecuteTime": {
     "end_time": "2020-03-23T23:26:12.410347Z",
     "start_time": "2020-03-23T23:26:12.405125Z"
    },
    "hidden": true
   },
   "outputs": [],
   "source": [
    "# combine all months\n",
    "\n",
    "df = pd.concat([df_janfeb, df_march_onwards])"
   ]
  },
  {
   "cell_type": "code",
   "execution_count": 309,
   "metadata": {
    "ExecuteTime": {
     "end_time": "2020-03-23T23:26:37.992960Z",
     "start_time": "2020-03-23T23:26:37.928896Z"
    },
    "hidden": true
   },
   "outputs": [
    {
     "name": "stdout",
     "output_type": "stream",
     "text": [
      "dropped 1608 duplicated rows\n",
      "dropped 0 duplicated rows\n"
     ]
    },
    {
     "data": {
      "text/html": [
       "<div>\n",
       "<style scoped>\n",
       "    .dataframe tbody tr th:only-of-type {\n",
       "        vertical-align: middle;\n",
       "    }\n",
       "\n",
       "    .dataframe tbody tr th {\n",
       "        vertical-align: top;\n",
       "    }\n",
       "\n",
       "    .dataframe thead th {\n",
       "        text-align: right;\n",
       "    }\n",
       "</style>\n",
       "<table border=\"1\" class=\"dataframe\">\n",
       "  <thead>\n",
       "    <tr style=\"text-align: right;\">\n",
       "      <th></th>\n",
       "      <th>province</th>\n",
       "      <th>country</th>\n",
       "      <th>last update</th>\n",
       "      <th>confirmed</th>\n",
       "      <th>deaths</th>\n",
       "      <th>recovered</th>\n",
       "      <th>latitude</th>\n",
       "      <th>longitude</th>\n",
       "      <th>last_updated_ts</th>\n",
       "      <th>last_updated_d</th>\n",
       "    </tr>\n",
       "  </thead>\n",
       "  <tbody>\n",
       "    <tr>\n",
       "      <th>0</th>\n",
       "      <td>Hubei</td>\n",
       "      <td>Mainland China</td>\n",
       "      <td>1/31/2020 23:59</td>\n",
       "      <td>5806</td>\n",
       "      <td>204</td>\n",
       "      <td>141</td>\n",
       "      <td>No data</td>\n",
       "      <td>No data</td>\n",
       "      <td>2020-01-31 23:59:00</td>\n",
       "      <td>2020-01-31</td>\n",
       "    </tr>\n",
       "    <tr>\n",
       "      <th>1</th>\n",
       "      <td>Zhejiang</td>\n",
       "      <td>Mainland China</td>\n",
       "      <td>1/31/2020 23:59</td>\n",
       "      <td>538</td>\n",
       "      <td>No data</td>\n",
       "      <td>14</td>\n",
       "      <td>No data</td>\n",
       "      <td>No data</td>\n",
       "      <td>2020-01-31 23:59:00</td>\n",
       "      <td>2020-01-31</td>\n",
       "    </tr>\n",
       "    <tr>\n",
       "      <th>2</th>\n",
       "      <td>Guangdong</td>\n",
       "      <td>Mainland China</td>\n",
       "      <td>1/31/2020 23:59</td>\n",
       "      <td>436</td>\n",
       "      <td>No data</td>\n",
       "      <td>11</td>\n",
       "      <td>No data</td>\n",
       "      <td>No data</td>\n",
       "      <td>2020-01-31 23:59:00</td>\n",
       "      <td>2020-01-31</td>\n",
       "    </tr>\n",
       "    <tr>\n",
       "      <th>3</th>\n",
       "      <td>Henan</td>\n",
       "      <td>Mainland China</td>\n",
       "      <td>1/31/2020 23:59</td>\n",
       "      <td>352</td>\n",
       "      <td>2</td>\n",
       "      <td>3</td>\n",
       "      <td>No data</td>\n",
       "      <td>No data</td>\n",
       "      <td>2020-01-31 23:59:00</td>\n",
       "      <td>2020-01-31</td>\n",
       "    </tr>\n",
       "    <tr>\n",
       "      <th>4</th>\n",
       "      <td>Hunan</td>\n",
       "      <td>Mainland China</td>\n",
       "      <td>1/31/2020 23:59</td>\n",
       "      <td>332</td>\n",
       "      <td>No data</td>\n",
       "      <td>2</td>\n",
       "      <td>No data</td>\n",
       "      <td>No data</td>\n",
       "      <td>2020-01-31 23:59:00</td>\n",
       "      <td>2020-01-31</td>\n",
       "    </tr>\n",
       "  </tbody>\n",
       "</table>\n",
       "</div>"
      ],
      "text/plain": [
       "    province         country      last update confirmed   deaths recovered  \\\n",
       "0      Hubei  Mainland China  1/31/2020 23:59      5806      204       141   \n",
       "1   Zhejiang  Mainland China  1/31/2020 23:59       538  No data        14   \n",
       "2  Guangdong  Mainland China  1/31/2020 23:59       436  No data        11   \n",
       "3      Henan  Mainland China  1/31/2020 23:59       352        2         3   \n",
       "4      Hunan  Mainland China  1/31/2020 23:59       332  No data         2   \n",
       "\n",
       "  latitude longitude     last_updated_ts last_updated_d  \n",
       "0  No data   No data 2020-01-31 23:59:00     2020-01-31  \n",
       "1  No data   No data 2020-01-31 23:59:00     2020-01-31  \n",
       "2  No data   No data 2020-01-31 23:59:00     2020-01-31  \n",
       "3  No data   No data 2020-01-31 23:59:00     2020-01-31  \n",
       "4  No data   No data 2020-01-31 23:59:00     2020-01-31  "
      ]
     },
     "execution_count": 309,
     "metadata": {},
     "output_type": "execute_result"
    }
   ],
   "source": [
    "# cleaning\n",
    "\n",
    "len0 = len(df)\n",
    "df = df.drop_duplicates(subset=None, keep='first', inplace=False)\n",
    "print('dropped', len0 - len(df), 'duplicated rows')\n",
    "\n",
    "# organise cols\n",
    "df.rename({'Country/Region': 'country', 'Province/State': 'province'}, axis=1, inplace=True)\n",
    "df.columns = [x.lower() for x in df.columns]\n",
    "df.fillna('No data', inplace=True) \n",
    "\n",
    "# fix timestamps\n",
    "df['last_updated_ts'] = pd.to_datetime(df[\"last update\"])\n",
    "df['last_updated_d'] = df[\"last_updated_ts\"].dt.date\n",
    "#df.drop('last update', axis=1, inplace=True)\n",
    "#df.drop(['last update', 'last_updated_ts'], axis=1, inplace=True)\n",
    "\n",
    "# check incase 2 updates in a day\n",
    "len0 = len(df)\n",
    "df = df.drop_duplicates(subset=None, keep='first', inplace=False)\n",
    "print('dropped', len0 - len(df), 'duplicated rows')\n",
    "\n",
    "df.head()"
   ]
  },
  {
   "cell_type": "code",
   "execution_count": 310,
   "metadata": {
    "ExecuteTime": {
     "end_time": "2020-03-23T23:26:40.154110Z",
     "start_time": "2020-03-23T23:26:40.125329Z"
    },
    "hidden": true,
    "scrolled": true
   },
   "outputs": [
    {
     "data": {
      "text/plain": [
       "(5296, 5027)"
      ]
     },
     "execution_count": 310,
     "metadata": {},
     "output_type": "execute_result"
    }
   ],
   "source": [
    "# some provinces are updated twice in a day\n",
    "# take the record with the latest (max) timestamp for each date\n",
    "\n",
    "df_dailyagg = df.groupby(\n",
    "    ['province', 'country', 'last_updated_d']).agg(\n",
    "    last_updated_ts=pd.NamedAgg(column='last_updated_ts', aggfunc='max'))\n",
    "\n",
    "len(df), len(df_dailyagg)"
   ]
  },
  {
   "cell_type": "code",
   "execution_count": 311,
   "metadata": {
    "ExecuteTime": {
     "end_time": "2020-03-23T23:26:42.229021Z",
     "start_time": "2020-03-23T23:26:42.220972Z"
    },
    "hidden": true,
    "scrolled": true
   },
   "outputs": [
    {
     "data": {
      "text/html": [
       "<div>\n",
       "<style scoped>\n",
       "    .dataframe tbody tr th:only-of-type {\n",
       "        vertical-align: middle;\n",
       "    }\n",
       "\n",
       "    .dataframe tbody tr th {\n",
       "        vertical-align: top;\n",
       "    }\n",
       "\n",
       "    .dataframe thead th {\n",
       "        text-align: right;\n",
       "    }\n",
       "</style>\n",
       "<table border=\"1\" class=\"dataframe\">\n",
       "  <thead>\n",
       "    <tr style=\"text-align: right;\">\n",
       "      <th></th>\n",
       "      <th></th>\n",
       "      <th></th>\n",
       "      <th>last_updated_ts</th>\n",
       "    </tr>\n",
       "    <tr>\n",
       "      <th>province</th>\n",
       "      <th>country</th>\n",
       "      <th>last_updated_d</th>\n",
       "      <th></th>\n",
       "    </tr>\n",
       "  </thead>\n",
       "  <tbody>\n",
       "    <tr>\n",
       "      <th rowspan=\"4\" valign=\"top\">Montreal, QC</th>\n",
       "      <th rowspan=\"4\" valign=\"top\">Canada</th>\n",
       "      <th>2020-02-28</th>\n",
       "      <td>2020-02-28 05:23:07</td>\n",
       "    </tr>\n",
       "    <tr>\n",
       "      <th>2020-03-05</th>\n",
       "      <td>2020-03-05 14:03:04</td>\n",
       "    </tr>\n",
       "    <tr>\n",
       "      <th>2020-03-07</th>\n",
       "      <td>2020-03-07 02:23:08</td>\n",
       "    </tr>\n",
       "    <tr>\n",
       "      <th>2020-03-08</th>\n",
       "      <td>2020-03-08 16:03:05</td>\n",
       "    </tr>\n",
       "    <tr>\n",
       "      <th>Norfolk County, MA</th>\n",
       "      <th>US</th>\n",
       "      <th>2020-03-03</th>\n",
       "      <td>2020-03-03 14:33:03</td>\n",
       "    </tr>\n",
       "  </tbody>\n",
       "</table>\n",
       "</div>"
      ],
      "text/plain": [
       "                                               last_updated_ts\n",
       "province            country last_updated_d                    \n",
       " Montreal, QC       Canada  2020-02-28     2020-02-28 05:23:07\n",
       "                            2020-03-05     2020-03-05 14:03:04\n",
       "                            2020-03-07     2020-03-07 02:23:08\n",
       "                            2020-03-08     2020-03-08 16:03:05\n",
       " Norfolk County, MA US      2020-03-03     2020-03-03 14:33:03"
      ]
     },
     "execution_count": 311,
     "metadata": {},
     "output_type": "execute_result"
    }
   ],
   "source": [
    "# some countries not updated daily!\n",
    "\n",
    "df_dailyagg.head()"
   ]
  },
  {
   "cell_type": "code",
   "execution_count": 312,
   "metadata": {
    "ExecuteTime": {
     "end_time": "2020-03-23T23:26:44.900878Z",
     "start_time": "2020-03-23T23:26:44.872122Z"
    },
    "hidden": true,
    "scrolled": true
   },
   "outputs": [
    {
     "data": {
      "text/plain": [
       "5117"
      ]
     },
     "execution_count": 312,
     "metadata": {},
     "output_type": "execute_result"
    }
   ],
   "source": [
    "# merge columns from df back in on index\n",
    "\n",
    "df_merged = pd.merge(df_dailyagg.reset_index(), df,\n",
    "                     how='left', indicator=True)\n",
    "\n",
    "len(df_merged)  # there are more rows than in df_dailyagg"
   ]
  },
  {
   "cell_type": "code",
   "execution_count": 313,
   "metadata": {
    "ExecuteTime": {
     "end_time": "2020-03-23T23:26:50.165904Z",
     "start_time": "2020-03-23T23:26:50.152017Z"
    },
    "hidden": true,
    "scrolled": true
   },
   "outputs": [
    {
     "data": {
      "text/html": [
       "<div>\n",
       "<style scoped>\n",
       "    .dataframe tbody tr th:only-of-type {\n",
       "        vertical-align: middle;\n",
       "    }\n",
       "\n",
       "    .dataframe tbody tr th {\n",
       "        vertical-align: top;\n",
       "    }\n",
       "\n",
       "    .dataframe thead th {\n",
       "        text-align: right;\n",
       "    }\n",
       "</style>\n",
       "<table border=\"1\" class=\"dataframe\">\n",
       "  <thead>\n",
       "    <tr style=\"text-align: right;\">\n",
       "      <th></th>\n",
       "      <th>province</th>\n",
       "      <th>country</th>\n",
       "      <th>last_updated_d</th>\n",
       "      <th>last_updated_ts</th>\n",
       "      <th>last update</th>\n",
       "      <th>confirmed</th>\n",
       "      <th>deaths</th>\n",
       "      <th>recovered</th>\n",
       "      <th>latitude</th>\n",
       "      <th>longitude</th>\n",
       "      <th>_merge</th>\n",
       "    </tr>\n",
       "  </thead>\n",
       "  <tbody>\n",
       "    <tr>\n",
       "      <th>0</th>\n",
       "      <td>Montreal, QC</td>\n",
       "      <td>Canada</td>\n",
       "      <td>2020-02-28</td>\n",
       "      <td>2020-02-28 05:23:07</td>\n",
       "      <td>2020-02-28T05:23:07</td>\n",
       "      <td>1</td>\n",
       "      <td>0</td>\n",
       "      <td>0</td>\n",
       "      <td>No data</td>\n",
       "      <td>No data</td>\n",
       "      <td>both</td>\n",
       "    </tr>\n",
       "    <tr>\n",
       "      <th>1</th>\n",
       "      <td>Montreal, QC</td>\n",
       "      <td>Canada</td>\n",
       "      <td>2020-02-28</td>\n",
       "      <td>2020-02-28 05:23:07</td>\n",
       "      <td>2020-02-28T05:23:07</td>\n",
       "      <td>1</td>\n",
       "      <td>0</td>\n",
       "      <td>0</td>\n",
       "      <td>45.5017</td>\n",
       "      <td>-73.5673</td>\n",
       "      <td>both</td>\n",
       "    </tr>\n",
       "    <tr>\n",
       "      <th>2</th>\n",
       "      <td>Montreal, QC</td>\n",
       "      <td>Canada</td>\n",
       "      <td>2020-03-05</td>\n",
       "      <td>2020-03-05 14:03:04</td>\n",
       "      <td>2020-03-05T14:03:04</td>\n",
       "      <td>2</td>\n",
       "      <td>0</td>\n",
       "      <td>0</td>\n",
       "      <td>45.5017</td>\n",
       "      <td>-73.5673</td>\n",
       "      <td>both</td>\n",
       "    </tr>\n",
       "    <tr>\n",
       "      <th>3</th>\n",
       "      <td>Montreal, QC</td>\n",
       "      <td>Canada</td>\n",
       "      <td>2020-03-07</td>\n",
       "      <td>2020-03-07 02:23:08</td>\n",
       "      <td>2020-03-07T02:23:08</td>\n",
       "      <td>3</td>\n",
       "      <td>0</td>\n",
       "      <td>0</td>\n",
       "      <td>45.5017</td>\n",
       "      <td>-73.5673</td>\n",
       "      <td>both</td>\n",
       "    </tr>\n",
       "    <tr>\n",
       "      <th>4</th>\n",
       "      <td>Montreal, QC</td>\n",
       "      <td>Canada</td>\n",
       "      <td>2020-03-08</td>\n",
       "      <td>2020-03-08 16:03:05</td>\n",
       "      <td>2020-03-08T16:03:05</td>\n",
       "      <td>4</td>\n",
       "      <td>0</td>\n",
       "      <td>0</td>\n",
       "      <td>45.5017</td>\n",
       "      <td>-73.5673</td>\n",
       "      <td>both</td>\n",
       "    </tr>\n",
       "  </tbody>\n",
       "</table>\n",
       "</div>"
      ],
      "text/plain": [
       "        province country last_updated_d     last_updated_ts  \\\n",
       "0   Montreal, QC  Canada     2020-02-28 2020-02-28 05:23:07   \n",
       "1   Montreal, QC  Canada     2020-02-28 2020-02-28 05:23:07   \n",
       "2   Montreal, QC  Canada     2020-03-05 2020-03-05 14:03:04   \n",
       "3   Montreal, QC  Canada     2020-03-07 2020-03-07 02:23:08   \n",
       "4   Montreal, QC  Canada     2020-03-08 2020-03-08 16:03:05   \n",
       "\n",
       "           last update confirmed deaths recovered latitude longitude _merge  \n",
       "0  2020-02-28T05:23:07         1      0         0  No data   No data   both  \n",
       "1  2020-02-28T05:23:07         1      0         0  45.5017  -73.5673   both  \n",
       "2  2020-03-05T14:03:04         2      0         0  45.5017  -73.5673   both  \n",
       "3  2020-03-07T02:23:08         3      0         0  45.5017  -73.5673   both  \n",
       "4  2020-03-08T16:03:05         4      0         0  45.5017  -73.5673   both  "
      ]
     },
     "execution_count": 313,
     "metadata": {},
     "output_type": "execute_result"
    }
   ],
   "source": [
    "df_merged.head()"
   ]
  },
  {
   "cell_type": "code",
   "execution_count": 314,
   "metadata": {
    "ExecuteTime": {
     "end_time": "2020-03-23T23:26:57.886457Z",
     "start_time": "2020-03-23T23:26:56.618941Z"
    },
    "hidden": true,
    "scrolled": true
   },
   "outputs": [
    {
     "data": {
      "text/plain": [
       "5027"
      ]
     },
     "execution_count": 314,
     "metadata": {},
     "output_type": "execute_result"
    }
   ],
   "source": [
    "# some provinces have more than one row with same timestamp, due to merging a row with a lat/long and one without\n",
    "# select max numbers for measures and last for latlong (as 'older' records more likely to have no data)\n",
    "\n",
    "df_merged = df_merged.groupby(\n",
    "    ['province', 'country', 'last_updated_ts']).agg(\n",
    "    confirmed=pd.NamedAgg(column='confirmed', aggfunc='max'),\n",
    "    deaths=pd.NamedAgg(column='deaths', aggfunc='max'),\n",
    "    recovered=pd.NamedAgg(column='recovered', aggfunc='max'),\n",
    "    latitude=pd.NamedAgg(column='latitude', aggfunc='last'),\n",
    "    longitude=pd.NamedAgg(column='longitude', aggfunc='last'))\n",
    "\n",
    "df_merged = df_merged.reset_index()\n",
    "\n",
    "len(df_merged)"
   ]
  },
  {
   "cell_type": "code",
   "execution_count": 318,
   "metadata": {
    "ExecuteTime": {
     "end_time": "2020-03-23T23:27:37.409982Z",
     "start_time": "2020-03-23T23:27:37.395424Z"
    },
    "hidden": true,
    "scrolled": true
   },
   "outputs": [
    {
     "data": {
      "text/html": [
       "<div>\n",
       "<style scoped>\n",
       "    .dataframe tbody tr th:only-of-type {\n",
       "        vertical-align: middle;\n",
       "    }\n",
       "\n",
       "    .dataframe tbody tr th {\n",
       "        vertical-align: top;\n",
       "    }\n",
       "\n",
       "    .dataframe thead th {\n",
       "        text-align: right;\n",
       "    }\n",
       "</style>\n",
       "<table border=\"1\" class=\"dataframe\">\n",
       "  <thead>\n",
       "    <tr style=\"text-align: right;\">\n",
       "      <th></th>\n",
       "      <th>province</th>\n",
       "      <th>country</th>\n",
       "      <th>last_updated_ts</th>\n",
       "      <th>confirmed</th>\n",
       "      <th>deaths</th>\n",
       "      <th>recovered</th>\n",
       "      <th>latitude</th>\n",
       "      <th>longitude</th>\n",
       "      <th>last_updated_d</th>\n",
       "    </tr>\n",
       "  </thead>\n",
       "  <tbody>\n",
       "    <tr>\n",
       "      <th>0</th>\n",
       "      <td>Montreal, QC</td>\n",
       "      <td>Canada</td>\n",
       "      <td>2020-02-28 05:23:07</td>\n",
       "      <td>1</td>\n",
       "      <td>0</td>\n",
       "      <td>0</td>\n",
       "      <td>45.5017</td>\n",
       "      <td>-73.5673</td>\n",
       "      <td>2020-02-28</td>\n",
       "    </tr>\n",
       "    <tr>\n",
       "      <th>1</th>\n",
       "      <td>Montreal, QC</td>\n",
       "      <td>Canada</td>\n",
       "      <td>2020-03-05 14:03:04</td>\n",
       "      <td>2</td>\n",
       "      <td>0</td>\n",
       "      <td>0</td>\n",
       "      <td>45.5017</td>\n",
       "      <td>-73.5673</td>\n",
       "      <td>2020-03-05</td>\n",
       "    </tr>\n",
       "    <tr>\n",
       "      <th>2</th>\n",
       "      <td>Montreal, QC</td>\n",
       "      <td>Canada</td>\n",
       "      <td>2020-03-07 02:23:08</td>\n",
       "      <td>3</td>\n",
       "      <td>0</td>\n",
       "      <td>0</td>\n",
       "      <td>45.5017</td>\n",
       "      <td>-73.5673</td>\n",
       "      <td>2020-03-07</td>\n",
       "    </tr>\n",
       "    <tr>\n",
       "      <th>3</th>\n",
       "      <td>Montreal, QC</td>\n",
       "      <td>Canada</td>\n",
       "      <td>2020-03-08 16:03:05</td>\n",
       "      <td>4</td>\n",
       "      <td>0</td>\n",
       "      <td>0</td>\n",
       "      <td>45.5017</td>\n",
       "      <td>-73.5673</td>\n",
       "      <td>2020-03-08</td>\n",
       "    </tr>\n",
       "    <tr>\n",
       "      <th>4</th>\n",
       "      <td>Norfolk County, MA</td>\n",
       "      <td>US</td>\n",
       "      <td>2020-03-03 14:33:03</td>\n",
       "      <td>1</td>\n",
       "      <td>0</td>\n",
       "      <td>0</td>\n",
       "      <td>42.1767</td>\n",
       "      <td>-71.1449</td>\n",
       "      <td>2020-03-03</td>\n",
       "    </tr>\n",
       "  </tbody>\n",
       "</table>\n",
       "</div>"
      ],
      "text/plain": [
       "              province country     last_updated_ts confirmed deaths recovered  \\\n",
       "0         Montreal, QC  Canada 2020-02-28 05:23:07         1      0         0   \n",
       "1         Montreal, QC  Canada 2020-03-05 14:03:04         2      0         0   \n",
       "2         Montreal, QC  Canada 2020-03-07 02:23:08         3      0         0   \n",
       "3         Montreal, QC  Canada 2020-03-08 16:03:05         4      0         0   \n",
       "4   Norfolk County, MA      US 2020-03-03 14:33:03         1      0         0   \n",
       "\n",
       "  latitude longitude last_updated_d  \n",
       "0  45.5017  -73.5673     2020-02-28  \n",
       "1  45.5017  -73.5673     2020-03-05  \n",
       "2  45.5017  -73.5673     2020-03-07  \n",
       "3  45.5017  -73.5673     2020-03-08  \n",
       "4  42.1767  -71.1449     2020-03-03  "
      ]
     },
     "execution_count": 318,
     "metadata": {},
     "output_type": "execute_result"
    }
   ],
   "source": [
    "df_merged['last_updated_d'] = df_merged['last_updated_ts'].dt.date\n",
    "\n",
    "df_merged.head()"
   ]
  },
  {
   "cell_type": "code",
   "execution_count": 319,
   "metadata": {
    "ExecuteTime": {
     "end_time": "2020-03-23T23:27:41.779606Z",
     "start_time": "2020-03-23T23:27:41.743900Z"
    },
    "hidden": true
   },
   "outputs": [
    {
     "data": {
      "text/html": [
       "<div>\n",
       "<style scoped>\n",
       "    .dataframe tbody tr th:only-of-type {\n",
       "        vertical-align: middle;\n",
       "    }\n",
       "\n",
       "    .dataframe tbody tr th {\n",
       "        vertical-align: top;\n",
       "    }\n",
       "\n",
       "    .dataframe thead th {\n",
       "        text-align: right;\n",
       "    }\n",
       "</style>\n",
       "<table border=\"1\" class=\"dataframe\">\n",
       "  <thead>\n",
       "    <tr style=\"text-align: right;\">\n",
       "      <th></th>\n",
       "      <th>country</th>\n",
       "      <th>province</th>\n",
       "      <th>latitude</th>\n",
       "      <th>longitude</th>\n",
       "      <th>last_updated_d</th>\n",
       "      <th>measure</th>\n",
       "      <th>count</th>\n",
       "    </tr>\n",
       "  </thead>\n",
       "  <tbody>\n",
       "    <tr>\n",
       "      <th>1888</th>\n",
       "      <td>Azerbaijan</td>\n",
       "      <td>No data</td>\n",
       "      <td>No data</td>\n",
       "      <td>No data</td>\n",
       "      <td>2020-02-28</td>\n",
       "      <td>confirmed</td>\n",
       "      <td>1</td>\n",
       "    </tr>\n",
       "    <tr>\n",
       "      <th>6915</th>\n",
       "      <td>Azerbaijan</td>\n",
       "      <td>No data</td>\n",
       "      <td>No data</td>\n",
       "      <td>No data</td>\n",
       "      <td>2020-02-28</td>\n",
       "      <td>deaths</td>\n",
       "      <td>0</td>\n",
       "    </tr>\n",
       "    <tr>\n",
       "      <th>11942</th>\n",
       "      <td>Azerbaijan</td>\n",
       "      <td>No data</td>\n",
       "      <td>No data</td>\n",
       "      <td>No data</td>\n",
       "      <td>2020-02-28</td>\n",
       "      <td>recovered</td>\n",
       "      <td>0</td>\n",
       "    </tr>\n",
       "    <tr>\n",
       "      <th>1889</th>\n",
       "      <td>Afghanistan</td>\n",
       "      <td>No data</td>\n",
       "      <td>33</td>\n",
       "      <td>65</td>\n",
       "      <td>2020-02-24</td>\n",
       "      <td>confirmed</td>\n",
       "      <td>1</td>\n",
       "    </tr>\n",
       "    <tr>\n",
       "      <th>1890</th>\n",
       "      <td>Afghanistan</td>\n",
       "      <td>No data</td>\n",
       "      <td>33</td>\n",
       "      <td>65</td>\n",
       "      <td>2020-03-08</td>\n",
       "      <td>confirmed</td>\n",
       "      <td>4</td>\n",
       "    </tr>\n",
       "  </tbody>\n",
       "</table>\n",
       "</div>"
      ],
      "text/plain": [
       "           country province latitude longitude last_updated_d    measure count\n",
       "1888    Azerbaijan  No data  No data   No data     2020-02-28  confirmed     1\n",
       "6915    Azerbaijan  No data  No data   No data     2020-02-28     deaths     0\n",
       "11942   Azerbaijan  No data  No data   No data     2020-02-28  recovered     0\n",
       "1889   Afghanistan  No data       33        65     2020-02-24  confirmed     1\n",
       "1890   Afghanistan  No data       33        65     2020-03-08  confirmed     4"
      ]
     },
     "execution_count": 319,
     "metadata": {},
     "output_type": "execute_result"
    }
   ],
   "source": [
    "# convert to long format\n",
    "\n",
    "df_long = pd.melt(df_merged, id_vars=['country', 'province', 'latitude', 'longitude', 'last_updated_d'],\n",
    "        value_vars=['confirmed', 'deaths', 'recovered'],\n",
    "       var_name='measure', value_name='count'\n",
    "       ).sort_values(by=['country', 'province'])\n",
    "\n",
    "df_long.head()"
   ]
  },
  {
   "cell_type": "code",
   "execution_count": 329,
   "metadata": {
    "ExecuteTime": {
     "end_time": "2020-03-23T23:31:04.614156Z",
     "start_time": "2020-03-23T23:31:04.573500Z"
    },
    "hidden": true
   },
   "outputs": [
    {
     "data": {
      "text/html": [
       "<div>\n",
       "<style scoped>\n",
       "    .dataframe tbody tr th:only-of-type {\n",
       "        vertical-align: middle;\n",
       "    }\n",
       "\n",
       "    .dataframe tbody tr th {\n",
       "        vertical-align: top;\n",
       "    }\n",
       "\n",
       "    .dataframe thead th {\n",
       "        text-align: right;\n",
       "    }\n",
       "</style>\n",
       "<table border=\"1\" class=\"dataframe\">\n",
       "  <thead>\n",
       "    <tr style=\"text-align: right;\">\n",
       "      <th></th>\n",
       "      <th>country</th>\n",
       "      <th>last_updated_d</th>\n",
       "      <th>measure</th>\n",
       "      <th>total_count</th>\n",
       "      <th>n_rows</th>\n",
       "    </tr>\n",
       "  </thead>\n",
       "  <tbody>\n",
       "    <tr>\n",
       "      <th>7009</th>\n",
       "      <td>US</td>\n",
       "      <td>2020-03-20</td>\n",
       "      <td>deaths</td>\n",
       "      <td>244.0</td>\n",
       "      <td>56</td>\n",
       "    </tr>\n",
       "    <tr>\n",
       "      <th>7010</th>\n",
       "      <td>US</td>\n",
       "      <td>2020-03-20</td>\n",
       "      <td>recovered</td>\n",
       "      <td>147.0</td>\n",
       "      <td>56</td>\n",
       "    </tr>\n",
       "    <tr>\n",
       "      <th>7008</th>\n",
       "      <td>US</td>\n",
       "      <td>2020-03-20</td>\n",
       "      <td>confirmed</td>\n",
       "      <td>19057.0</td>\n",
       "      <td>56</td>\n",
       "    </tr>\n",
       "    <tr>\n",
       "      <th>7014</th>\n",
       "      <td>US</td>\n",
       "      <td>2020-03-22</td>\n",
       "      <td>confirmed</td>\n",
       "      <td>33193.0</td>\n",
       "      <td>54</td>\n",
       "    </tr>\n",
       "    <tr>\n",
       "      <th>7016</th>\n",
       "      <td>US</td>\n",
       "      <td>2020-03-22</td>\n",
       "      <td>recovered</td>\n",
       "      <td>178.0</td>\n",
       "      <td>54</td>\n",
       "    </tr>\n",
       "    <tr>\n",
       "      <th>7015</th>\n",
       "      <td>US</td>\n",
       "      <td>2020-03-22</td>\n",
       "      <td>deaths</td>\n",
       "      <td>417.0</td>\n",
       "      <td>54</td>\n",
       "    </tr>\n",
       "  </tbody>\n",
       "</table>\n",
       "</div>"
      ],
      "text/plain": [
       "     country last_updated_d    measure  total_count  n_rows\n",
       "7009      US     2020-03-20     deaths        244.0      56\n",
       "7010      US     2020-03-20  recovered        147.0      56\n",
       "7008      US     2020-03-20  confirmed      19057.0      56\n",
       "7014      US     2020-03-22  confirmed      33193.0      54\n",
       "7016      US     2020-03-22  recovered        178.0      54\n",
       "7015      US     2020-03-22     deaths        417.0      54"
      ]
     },
     "execution_count": 329,
     "metadata": {},
     "output_type": "execute_result"
    }
   ],
   "source": [
    "# summarise by whole countries\n",
    "\n",
    "# replace str with nans so can find averages\n",
    "df_long['latitude'] = df_long['latitude'].replace('No data', np.nan)\n",
    "df_long['longitude'] = df_long['longitude'].replace('No data', np.nan)\n",
    "df_long['count'] = df_long['count'].replace('No data', np.nan)\n",
    "\n",
    "\n",
    "df_agg = df_long.groupby(['country', 'last_updated_d', 'measure']).agg(\n",
    "    total_count=pd.NamedAgg(column='count', aggfunc=np.nansum), # to ignore nans\n",
    "    n_rows=pd.NamedAgg(column='last_updated_d', aggfunc='count'))\n",
    "\n",
    "\n",
    "df_agg = df_agg.reset_index()\n",
    "df_agg.sort_values(by='n_rows', ascending=False).head(6)"
   ]
  },
  {
   "cell_type": "markdown",
   "metadata": {
    "hidden": true
   },
   "source": [
    "__NOTE: to use this data format i still need to create one row per date per country with a cumulative total for each measure, to ensure the date slider will work. Since countries dont have daily records. This is too much effort. Let's use the columnar time series dataset that is already cleaned, only one file and presumably no duplicates. Much simpler to import this in a myapp.py code structure.__"
   ]
  },
  {
   "cell_type": "markdown",
   "metadata": {},
   "source": [
    "# Data: country borders"
   ]
  },
  {
   "cell_type": "markdown",
   "metadata": {
    "heading_collapsed": true
   },
   "source": [
    "## 10m resolution - CAN'T RENDER!\n",
    "Data too big"
   ]
  },
  {
   "cell_type": "code",
   "execution_count": 18,
   "metadata": {
    "ExecuteTime": {
     "end_time": "2020-03-20T18:07:13.334536Z",
     "start_time": "2020-03-20T18:07:13.332161Z"
    },
    "hidden": true
   },
   "outputs": [],
   "source": [
    "# # 10m resolution\n",
    "# #shapefile = '/Users/jdorni/Documents/training/COVID-19/country_boundaries/ne_10m_admin_0_countries/ne_10m_admin_0_countries.shp'\n",
    "\n",
    "# # Read shapefile using Geopandas\n",
    "# gdf = gpd.read_file(shapefile)[['ADMIN', 'ADM0_A3', 'geometry']]\n",
    "\n",
    "# #Rename columns.\n",
    "# gdf.columns = ['country', 'country_code', 'geometry']\n",
    "# gdf.head()"
   ]
  },
  {
   "cell_type": "markdown",
   "metadata": {},
   "source": [
    "## 100m resolution - USE"
   ]
  },
  {
   "cell_type": "code",
   "execution_count": 8,
   "metadata": {
    "ExecuteTime": {
     "end_time": "2020-04-08T19:03:49.227966Z",
     "start_time": "2020-04-08T19:03:49.143646Z"
    },
    "execution": {
     "iopub.execute_input": "2020-04-24T16:45:08.098342Z",
     "iopub.status.busy": "2020-04-24T16:45:08.098086Z",
     "iopub.status.idle": "2020-04-24T16:45:08.174243Z",
     "shell.execute_reply": "2020-04-24T16:45:08.173492Z",
     "shell.execute_reply.started": "2020-04-24T16:45:08.098302Z"
    }
   },
   "outputs": [
    {
     "name": "stdout",
     "output_type": "stream",
     "text": [
      "177\n"
     ]
    },
    {
     "data": {
      "text/html": [
       "<div>\n",
       "<style scoped>\n",
       "    .dataframe tbody tr th:only-of-type {\n",
       "        vertical-align: middle;\n",
       "    }\n",
       "\n",
       "    .dataframe tbody tr th {\n",
       "        vertical-align: top;\n",
       "    }\n",
       "\n",
       "    .dataframe thead th {\n",
       "        text-align: right;\n",
       "    }\n",
       "</style>\n",
       "<table border=\"1\" class=\"dataframe\">\n",
       "  <thead>\n",
       "    <tr style=\"text-align: right;\">\n",
       "      <th></th>\n",
       "      <th>country</th>\n",
       "      <th>country_code</th>\n",
       "      <th>geometry</th>\n",
       "    </tr>\n",
       "  </thead>\n",
       "  <tbody>\n",
       "    <tr>\n",
       "      <th>0</th>\n",
       "      <td>Fiji</td>\n",
       "      <td>FJI</td>\n",
       "      <td>MULTIPOLYGON (((180.00000 -16.06713, 180.00000...</td>\n",
       "    </tr>\n",
       "    <tr>\n",
       "      <th>1</th>\n",
       "      <td>United Republic of Tanzania</td>\n",
       "      <td>TZA</td>\n",
       "      <td>POLYGON ((33.90371 -0.95000, 34.07262 -1.05982...</td>\n",
       "    </tr>\n",
       "    <tr>\n",
       "      <th>2</th>\n",
       "      <td>Western Sahara</td>\n",
       "      <td>SAH</td>\n",
       "      <td>POLYGON ((-8.66559 27.65643, -8.66512 27.58948...</td>\n",
       "    </tr>\n",
       "    <tr>\n",
       "      <th>3</th>\n",
       "      <td>Canada</td>\n",
       "      <td>CAN</td>\n",
       "      <td>MULTIPOLYGON (((-122.84000 49.00000, -122.9742...</td>\n",
       "    </tr>\n",
       "    <tr>\n",
       "      <th>4</th>\n",
       "      <td>United States of America</td>\n",
       "      <td>USA</td>\n",
       "      <td>MULTIPOLYGON (((-122.84000 49.00000, -120.0000...</td>\n",
       "    </tr>\n",
       "  </tbody>\n",
       "</table>\n",
       "</div>"
      ],
      "text/plain": [
       "                       country country_code  \\\n",
       "0                         Fiji          FJI   \n",
       "1  United Republic of Tanzania          TZA   \n",
       "2               Western Sahara          SAH   \n",
       "3                       Canada          CAN   \n",
       "4     United States of America          USA   \n",
       "\n",
       "                                            geometry  \n",
       "0  MULTIPOLYGON (((180.00000 -16.06713, 180.00000...  \n",
       "1  POLYGON ((33.90371 -0.95000, 34.07262 -1.05982...  \n",
       "2  POLYGON ((-8.66559 27.65643, -8.66512 27.58948...  \n",
       "3  MULTIPOLYGON (((-122.84000 49.00000, -122.9742...  \n",
       "4  MULTIPOLYGON (((-122.84000 49.00000, -120.0000...  "
      ]
     },
     "execution_count": 8,
     "metadata": {},
     "output_type": "execute_result"
    }
   ],
   "source": [
    "# 100m resolution\n",
    "shapefile = '/Users/jdorni/Documents/training/covid-19-bokeh/data/country_boundaries/ne_110m_admin_0_countries/ne_110m_admin_0_countries.shp'\n",
    " \n",
    "# Read shapefile using Geopandas\n",
    "gdf = gpd.read_file(shapefile)[['ADMIN', 'ADM0_A3', 'geometry']]\n",
    "\n",
    "#Rename columns.\n",
    "gdf.columns = ['country', 'country_code', 'geometry']\n",
    " \n",
    "print(len(gdf))\n",
    "\n",
    "gdf.head()"
   ]
  },
  {
   "cell_type": "markdown",
   "metadata": {},
   "source": [
    "# PLOT 1. Simple map without COVID cases\n"
   ]
  },
  {
   "cell_type": "code",
   "execution_count": 17,
   "metadata": {
    "ExecuteTime": {
     "end_time": "2020-04-08T19:03:49.835278Z",
     "start_time": "2020-04-08T19:03:49.755021Z"
    }
   },
   "outputs": [
    {
     "ename": "NameError",
     "evalue": "name 'prepare_geojsondata' is not defined",
     "output_type": "error",
     "traceback": [
      "\u001b[0;31m---------------------------------------------------------------------------\u001b[0m",
      "\u001b[0;31mNameError\u001b[0m                                 Traceback (most recent call last)",
      "\u001b[0;32m<ipython-input-17-3ba02b5465a6>\u001b[0m in \u001b[0;36m<module>\u001b[0;34m\u001b[0m\n\u001b[0;32m----> 1\u001b[0;31m \u001b[0mborders_source\u001b[0m \u001b[0;34m=\u001b[0m \u001b[0mprepare_geojsondata\u001b[0m\u001b[0;34m(\u001b[0m\u001b[0mgdf\u001b[0m\u001b[0;34m)\u001b[0m\u001b[0;34m\u001b[0m\u001b[0;34m\u001b[0m\u001b[0m\n\u001b[0m\u001b[1;32m      2\u001b[0m \u001b[0;34m\u001b[0m\u001b[0m\n\u001b[1;32m      3\u001b[0m \u001b[0;31m#borders_source.geojson[:600]\u001b[0m\u001b[0;34m\u001b[0m\u001b[0;34m\u001b[0m\u001b[0;34m\u001b[0m\u001b[0m\n",
      "\u001b[0;31mNameError\u001b[0m: name 'prepare_geojsondata' is not defined"
     ]
    }
   ],
   "source": [
    "borders_source = prepare_geojsondata(gdf)\n",
    "\n",
    "#borders_source.geojson[:600]"
   ]
  },
  {
   "cell_type": "code",
   "execution_count": 18,
   "metadata": {
    "ExecuteTime": {
     "end_time": "2020-04-08T19:03:49.964077Z",
     "start_time": "2020-04-08T19:03:49.943825Z"
    }
   },
   "outputs": [
    {
     "ename": "NameError",
     "evalue": "name 'borders_source' is not defined",
     "output_type": "error",
     "traceback": [
      "\u001b[0;31m---------------------------------------------------------------------------\u001b[0m",
      "\u001b[0;31mNameError\u001b[0m                                 Traceback (most recent call last)",
      "\u001b[0;32m<ipython-input-18-8918cb69a5fa>\u001b[0m in \u001b[0;36m<module>\u001b[0;34m\u001b[0m\n\u001b[1;32m      7\u001b[0m p = figure(title='World Map', plot_height=600 , plot_width=950, tooltips=TOOLTIPS,\n\u001b[1;32m      8\u001b[0m           x_axis_label='Longitude', y_axis_label='Latitude')\n\u001b[0;32m----> 9\u001b[0;31m p.patches('xs','ys', source=borders_source, fill_color='white', line_color='black', \n\u001b[0m\u001b[1;32m     10\u001b[0m           hover_fill_color='lightblue', hover_line_color='black')\n\u001b[1;32m     11\u001b[0m \u001b[0;34m\u001b[0m\u001b[0m\n",
      "\u001b[0;31mNameError\u001b[0m: name 'borders_source' is not defined"
     ]
    }
   ],
   "source": [
    "# plot\n",
    "\n",
    "TOOLTIPS = [\n",
    "    ('UN country', '@country')\n",
    "]\n",
    "\n",
    "p = figure(title='World Map', plot_height=600 , plot_width=950, tooltips=TOOLTIPS,\n",
    "          x_axis_label='Longitude', y_axis_label='Latitude')\n",
    "p.patches('xs','ys', source=borders_source, fill_color='white', line_color='black', \n",
    "          hover_fill_color='lightblue', hover_line_color='black')\n",
    "\n",
    "# # Create a HoverTool: hover\n",
    "# hover = HoverTool(tooltips=TOOLTIPS)\n",
    "\n",
    "# # Add the hover tool to the figure p\n",
    "# p.add_tools(hover)\n",
    "\n",
    "\n",
    "# to display in browser (and save)\n",
    "# output_file('/Users/jdorni/Documents/training/COVID-19/outputs/worldmap.html')\n",
    "# show(p)\n",
    "\n",
    "\n",
    "# # to display figure inline in Jupyter Notebook.\n",
    "output_notebook()\n",
    "show(p) "
   ]
  },
  {
   "cell_type": "markdown",
   "metadata": {},
   "source": [
    "# Join country borders to COVID cases\n",
    "Not needed, can plot glyphs from separate data sources as layers"
   ]
  },
  {
   "cell_type": "code",
   "execution_count": 10,
   "metadata": {
    "ExecuteTime": {
     "end_time": "2020-04-08T19:03:50.556602Z",
     "start_time": "2020-04-08T19:03:50.553657Z"
    },
    "execution": {
     "iopub.execute_input": "2020-04-24T16:46:26.072925Z",
     "iopub.status.busy": "2020-04-24T16:46:26.072672Z",
     "iopub.status.idle": "2020-04-24T16:46:26.076815Z",
     "shell.execute_reply": "2020-04-24T16:46:26.075778Z",
     "shell.execute_reply.started": "2020-04-24T16:46:26.072885Z"
    },
    "scrolled": true
   },
   "outputs": [],
   "source": [
    "# keep record of original country name\n",
    "df['country_original'] = df['country']"
   ]
  },
  {
   "cell_type": "markdown",
   "metadata": {},
   "source": [
    "## Rename some countries missing from the 110m res countries\n",
    "- For countries too small to be plotted i assign them to the nearest plotted country\n",
    "- Other adjustments are simplye naming conventions\n",
    "- THIS IS AN ITERATION"
   ]
  },
  {
   "cell_type": "code",
   "execution_count": 11,
   "metadata": {
    "ExecuteTime": {
     "end_time": "2020-04-08T19:03:51.020241Z",
     "start_time": "2020-04-08T19:03:51.016339Z"
    },
    "execution": {
     "iopub.execute_input": "2020-04-24T16:46:28.619839Z",
     "iopub.status.busy": "2020-04-24T16:46:28.619579Z",
     "iopub.status.idle": "2020-04-24T16:46:28.624669Z",
     "shell.execute_reply": "2020-04-24T16:46:28.623950Z",
     "shell.execute_reply.started": "2020-04-24T16:46:28.619797Z"
    }
   },
   "outputs": [],
   "source": [
    "# how many countries in COVID dataset appear in country borders dataset?\n",
    "\n",
    "def match_countries(covid_df, countries_df):\n",
    "    matched = []\n",
    "    unmatched = []\n",
    "\n",
    "    # COVID countries\n",
    "    for i in covid_df['country'].unique():\n",
    "        # country_borders countries\n",
    "        if i in countries_df['country'].unique():\n",
    "            matched.append(i)\n",
    "        else:\n",
    "            unmatched.append(i)\n",
    "    \n",
    "    return matched, unmatched"
   ]
  },
  {
   "cell_type": "code",
   "execution_count": 12,
   "metadata": {
    "ExecuteTime": {
     "end_time": "2020-04-08T19:03:51.519404Z",
     "start_time": "2020-04-08T19:03:51.477530Z"
    },
    "execution": {
     "iopub.execute_input": "2020-04-24T16:46:29.125970Z",
     "iopub.status.busy": "2020-04-24T16:46:29.125667Z",
     "iopub.status.idle": "2020-04-24T16:46:29.167546Z",
     "shell.execute_reply": "2020-04-24T16:46:29.166935Z",
     "shell.execute_reply.started": "2020-04-24T16:46:29.125922Z"
    }
   },
   "outputs": [
    {
     "name": "stdout",
     "output_type": "stream",
     "text": [
      "149\n",
      "36\n",
      "['Andorra', 'Antigua and Barbuda', 'Bahamas', 'Bahrain', 'Barbados', 'Burma', 'Cabo Verde', 'Congo (Brazzaville)', 'Congo (Kinshasa)', \"Cote d'Ivoire\", 'Diamond Princess', 'Dominica', 'Eswatini', 'Grenada', 'Holy See', 'Korea, South', 'Liechtenstein', 'MS Zaandam', 'Maldives', 'Malta', 'Mauritius', 'Monaco', 'North Macedonia', 'Saint Kitts and Nevis', 'Saint Lucia', 'Saint Vincent and the Grenadines', 'San Marino', 'Sao Tome and Principe', 'Serbia', 'Seychelles', 'Singapore', 'Taiwan*', 'Tanzania', 'Timor-Leste', 'US', 'West Bank and Gaza']\n"
     ]
    }
   ],
   "source": [
    "# Round 1, before remapped some unmatched country names\n",
    "\n",
    "matched, unmatched = match_countries(covid_df=df, countries_df=gdf)\n",
    "\n",
    "print(len(matched)), print(len(unmatched))\n",
    "print(sorted(unmatched))\n",
    "\n",
    "# 'Cruise Ship' was not in any national waters "
   ]
  },
  {
   "cell_type": "code",
   "execution_count": 22,
   "metadata": {
    "ExecuteTime": {
     "end_time": "2020-04-08T19:03:52.018040Z",
     "start_time": "2020-04-08T19:03:52.015652Z"
    },
    "scrolled": true
   },
   "outputs": [],
   "source": [
    "# see if these actually appear in countries data\n",
    "#print(sorted(gdf['country'].unique()))"
   ]
  },
  {
   "cell_type": "code",
   "execution_count": 13,
   "metadata": {
    "ExecuteTime": {
     "end_time": "2020-04-08T19:03:52.463293Z",
     "start_time": "2020-04-08T19:03:52.449175Z"
    },
    "execution": {
     "iopub.execute_input": "2020-04-24T16:46:33.244118Z",
     "iopub.status.busy": "2020-04-24T16:46:33.243862Z",
     "iopub.status.idle": "2020-04-24T16:46:33.259776Z",
     "shell.execute_reply": "2020-04-24T16:46:33.259007Z",
     "shell.execute_reply.started": "2020-04-24T16:46:33.244077Z"
    }
   },
   "outputs": [],
   "source": [
    "# remap country names (need to sum again after this as some countries are combined)\n",
    "# left hand side: covid data, right hand side: gdf map data\n",
    "\n",
    "country_map = {'Congo (Kinshasa)': 'Democratic Republic of the Congo',\n",
    "               'Congo (Brazzaville)': 'Democratic Republic of the Congo',\n",
    "               \"Cote d'Ivoire\": 'Ivory Coast',\n",
    "               'Eswatini': 'eSwatini',\n",
    "               'Gambia, The': 'Gambia', \n",
    "               'The Gambia': 'Gambia', \n",
    "               'Korea, South': 'South Korea', \n",
    "               'North Macedonia': 'Macedonia', \n",
    "               'Serbia': 'Republic of Serbia',\n",
    "               'Taiwan*': 'Taiwan',\n",
    "               'Tanzania': 'United Republic of Tanzania',\n",
    "               'Timor-Leste': 'East Timor',\n",
    "               'Bahamas, The': 'The Bahamas',\n",
    "               'US': 'United States of America',\n",
    "               \n",
    "               # church jurisdiction and not country (vatican)\n",
    "               'Holy See': 'Italy' \n",
    "               \n",
    "#                # too small to plot: assign to nearest plotted country?\n",
    "#                ## MISLEADING TO DO THIS SO WILL EXCLUDE FROM MAP AND PLOT SEPARATELY\n",
    "#                'Bahrain': 'Saudi Arabia',\n",
    "#                'Quatar': 'Saudi Arabia',\n",
    "#                'Andorra': 'Spain', # on border of FRANCE/SPAIN most common ethnic group in Andorra is Spanish\n",
    "#                'Antigua and Barbuda': 'Puerto Rico',\n",
    "#                'Montserrat': 'Puerto Rico',\n",
    "#                'Dominica': 'Puerto Rico',\n",
    "#                'Martinique': 'Puerto Rico',\n",
    "#                'Saint Lucia': 'Puerto Rico',\n",
    "#                'Saint Vincent and the Grenadines': 'Puerto Rico',\n",
    "#                'Barbados': 'Puerto Rico',\n",
    "#                'Grenada': 'Puerto Rico',\n",
    "#                'Cabo Verde': 'Senegal',\n",
    "#                'Cape Verde': 'Senegal',\n",
    "#                'Mauritius': 'Madagascar',\n",
    "#                'Maldives': 'Sri Lanka', # This is a stretch - it's very far away!\n",
    "#                'Liechtenstein': 'Austria',\n",
    "#                'Monaco': 'France',\n",
    "#                'Malta': 'Italy',\n",
    "#                'San Marino': 'Italy',\n",
    "#                'Singapore': 'Malaysia'\n",
    "    }\n",
    "\n",
    "df.replace({\"country\": country_map}, inplace=True)"
   ]
  },
  {
   "cell_type": "code",
   "execution_count": 14,
   "metadata": {
    "ExecuteTime": {
     "end_time": "2020-04-08T19:03:53.125224Z",
     "start_time": "2020-04-08T19:03:53.083867Z"
    },
    "execution": {
     "iopub.execute_input": "2020-04-24T16:46:34.970421Z",
     "iopub.status.busy": "2020-04-24T16:46:34.970145Z",
     "iopub.status.idle": "2020-04-24T16:46:35.012198Z",
     "shell.execute_reply": "2020-04-24T16:46:35.011500Z",
     "shell.execute_reply.started": "2020-04-24T16:46:34.970378Z"
    },
    "scrolled": true
   },
   "outputs": [
    {
     "name": "stdout",
     "output_type": "stream",
     "text": [
      "159\n",
      "24\n",
      "['Andorra', 'Antigua and Barbuda', 'Bahamas', 'Bahrain', 'Barbados', 'Burma', 'Cabo Verde', 'Diamond Princess', 'Dominica', 'Grenada', 'Liechtenstein', 'MS Zaandam', 'Maldives', 'Malta', 'Mauritius', 'Monaco', 'Saint Kitts and Nevis', 'Saint Lucia', 'Saint Vincent and the Grenadines', 'San Marino', 'Sao Tome and Principe', 'Seychelles', 'Singapore', 'West Bank and Gaza']\n"
     ]
    }
   ],
   "source": [
    "# round 2 after remapping\n",
    "\n",
    "matched, unmatched = match_countries(covid_df=df, countries_df=gdf)\n",
    "\n",
    "print(len(matched)), print(len(unmatched))\n",
    "print(sorted(unmatched))\n",
    "\n",
    "# 'Cruise Ship' was not in any national waters "
   ]
  },
  {
   "cell_type": "markdown",
   "metadata": {},
   "source": [
    "## Merge dataframes gdf (with geometries) and deaths df (with cases)\n"
   ]
  },
  {
   "cell_type": "code",
   "execution_count": 15,
   "metadata": {
    "ExecuteTime": {
     "end_time": "2020-04-08T19:03:53.702925Z",
     "start_time": "2020-04-08T19:03:53.671889Z"
    },
    "execution": {
     "iopub.execute_input": "2020-04-24T16:46:36.167167Z",
     "iopub.status.busy": "2020-04-24T16:46:36.166903Z",
     "iopub.status.idle": "2020-04-24T16:46:36.198133Z",
     "shell.execute_reply": "2020-04-24T16:46:36.197388Z",
     "shell.execute_reply.started": "2020-04-24T16:46:36.167126Z"
    }
   },
   "outputs": [
    {
     "data": {
      "text/html": [
       "<div>\n",
       "<style scoped>\n",
       "    .dataframe tbody tr th:only-of-type {\n",
       "        vertical-align: middle;\n",
       "    }\n",
       "\n",
       "    .dataframe tbody tr th {\n",
       "        vertical-align: top;\n",
       "    }\n",
       "\n",
       "    .dataframe thead th {\n",
       "        text-align: right;\n",
       "    }\n",
       "</style>\n",
       "<table border=\"1\" class=\"dataframe\">\n",
       "  <thead>\n",
       "    <tr style=\"text-align: right;\">\n",
       "      <th></th>\n",
       "      <th>country</th>\n",
       "      <th>geometry</th>\n",
       "      <th>day</th>\n",
       "      <th>confirmed</th>\n",
       "      <th>deaths</th>\n",
       "      <th>recovered</th>\n",
       "      <th>country_original</th>\n",
       "    </tr>\n",
       "  </thead>\n",
       "  <tbody>\n",
       "    <tr>\n",
       "      <th>0</th>\n",
       "      <td>Fiji</td>\n",
       "      <td>MULTIPOLYGON (((180.00000 -16.06713, 180.00000...</td>\n",
       "      <td>2020-01-22</td>\n",
       "      <td>0.0</td>\n",
       "      <td>0.0</td>\n",
       "      <td>0.0</td>\n",
       "      <td>Fiji</td>\n",
       "    </tr>\n",
       "    <tr>\n",
       "      <th>1</th>\n",
       "      <td>Fiji</td>\n",
       "      <td>MULTIPOLYGON (((180.00000 -16.06713, 180.00000...</td>\n",
       "      <td>2020-01-23</td>\n",
       "      <td>0.0</td>\n",
       "      <td>0.0</td>\n",
       "      <td>0.0</td>\n",
       "      <td>Fiji</td>\n",
       "    </tr>\n",
       "    <tr>\n",
       "      <th>2</th>\n",
       "      <td>Fiji</td>\n",
       "      <td>MULTIPOLYGON (((180.00000 -16.06713, 180.00000...</td>\n",
       "      <td>2020-01-24</td>\n",
       "      <td>0.0</td>\n",
       "      <td>0.0</td>\n",
       "      <td>0.0</td>\n",
       "      <td>Fiji</td>\n",
       "    </tr>\n",
       "    <tr>\n",
       "      <th>3</th>\n",
       "      <td>Fiji</td>\n",
       "      <td>MULTIPOLYGON (((180.00000 -16.06713, 180.00000...</td>\n",
       "      <td>2020-01-25</td>\n",
       "      <td>0.0</td>\n",
       "      <td>0.0</td>\n",
       "      <td>0.0</td>\n",
       "      <td>Fiji</td>\n",
       "    </tr>\n",
       "    <tr>\n",
       "      <th>4</th>\n",
       "      <td>Fiji</td>\n",
       "      <td>MULTIPOLYGON (((180.00000 -16.06713, 180.00000...</td>\n",
       "      <td>2020-01-26</td>\n",
       "      <td>0.0</td>\n",
       "      <td>0.0</td>\n",
       "      <td>0.0</td>\n",
       "      <td>Fiji</td>\n",
       "    </tr>\n",
       "  </tbody>\n",
       "</table>\n",
       "</div>"
      ],
      "text/plain": [
       "  country                                           geometry         day  \\\n",
       "0    Fiji  MULTIPOLYGON (((180.00000 -16.06713, 180.00000...  2020-01-22   \n",
       "1    Fiji  MULTIPOLYGON (((180.00000 -16.06713, 180.00000...  2020-01-23   \n",
       "2    Fiji  MULTIPOLYGON (((180.00000 -16.06713, 180.00000...  2020-01-24   \n",
       "3    Fiji  MULTIPOLYGON (((180.00000 -16.06713, 180.00000...  2020-01-25   \n",
       "4    Fiji  MULTIPOLYGON (((180.00000 -16.06713, 180.00000...  2020-01-26   \n",
       "\n",
       "   confirmed  deaths  recovered country_original  \n",
       "0        0.0     0.0        0.0             Fiji  \n",
       "1        0.0     0.0        0.0             Fiji  \n",
       "2        0.0     0.0        0.0             Fiji  \n",
       "3        0.0     0.0        0.0             Fiji  \n",
       "4        0.0     0.0        0.0             Fiji  "
      ]
     },
     "execution_count": 15,
     "metadata": {},
     "output_type": "execute_result"
    }
   ],
   "source": [
    "# left join so only countries we have geometries for are in the mapping dataset\n",
    "\n",
    "merged = gdf.merge(df, left_on = 'country', right_on = 'country', how='left')\n",
    "\n",
    "merged = merged.drop(['country_code'], axis=1)\n",
    "merged.head()              "
   ]
  },
  {
   "cell_type": "code",
   "execution_count": 16,
   "metadata": {
    "ExecuteTime": {
     "end_time": "2020-04-08T19:03:54.445537Z",
     "start_time": "2020-04-08T19:03:54.443678Z"
    },
    "execution": {
     "iopub.execute_input": "2020-04-24T16:46:36.903938Z",
     "iopub.status.busy": "2020-04-24T16:46:36.903686Z",
     "iopub.status.idle": "2020-04-24T16:46:36.906829Z",
     "shell.execute_reply": "2020-04-24T16:46:36.906011Z",
     "shell.execute_reply.started": "2020-04-24T16:46:36.903897Z"
    },
    "scrolled": true
   },
   "outputs": [],
   "source": [
    "# # check unmatched countries are not in the dataset to plot\n",
    "\n",
    "# for country in unmatched:\n",
    "#     if country in merged.country.unique():\n",
    "#         print(country)\n",
    "#     else:\n",
    "#         print(f'{country} excluded')"
   ]
  },
  {
   "cell_type": "code",
   "execution_count": 17,
   "metadata": {
    "ExecuteTime": {
     "end_time": "2020-04-08T19:03:55.070962Z",
     "start_time": "2020-04-08T19:03:55.069029Z"
    },
    "execution": {
     "iopub.execute_input": "2020-04-24T16:46:37.336812Z",
     "iopub.status.busy": "2020-04-24T16:46:37.336492Z",
     "iopub.status.idle": "2020-04-24T16:46:37.340026Z",
     "shell.execute_reply": "2020-04-24T16:46:37.339055Z",
     "shell.execute_reply.started": "2020-04-24T16:46:37.336762Z"
    }
   },
   "outputs": [],
   "source": [
    "# df.day.unique() # no nans\n",
    "# merged.day.unique() # has nans - from join, as not all mapped countries have data.  \n",
    "\n",
    "# this causes min and max functions (for slider in plot) to fail, as they are floats and not dates\n"
   ]
  },
  {
   "cell_type": "code",
   "execution_count": 18,
   "metadata": {
    "ExecuteTime": {
     "end_time": "2020-04-08T19:03:55.746398Z",
     "start_time": "2020-04-08T19:03:55.664140Z"
    },
    "execution": {
     "iopub.execute_input": "2020-04-24T16:46:37.969121Z",
     "iopub.status.busy": "2020-04-24T16:46:37.968860Z",
     "iopub.status.idle": "2020-04-24T16:46:38.100953Z",
     "shell.execute_reply": "2020-04-24T16:46:38.100144Z",
     "shell.execute_reply.started": "2020-04-24T16:46:37.969080Z"
    }
   },
   "outputs": [
    {
     "data": {
      "text/html": [
       "<div>\n",
       "<style scoped>\n",
       "    .dataframe tbody tr th:only-of-type {\n",
       "        vertical-align: middle;\n",
       "    }\n",
       "\n",
       "    .dataframe tbody tr th {\n",
       "        vertical-align: top;\n",
       "    }\n",
       "\n",
       "    .dataframe thead th {\n",
       "        text-align: right;\n",
       "    }\n",
       "</style>\n",
       "<table border=\"1\" class=\"dataframe\">\n",
       "  <thead>\n",
       "    <tr style=\"text-align: right;\">\n",
       "      <th></th>\n",
       "      <th>country</th>\n",
       "      <th>geometry</th>\n",
       "      <th>day</th>\n",
       "      <th>confirmed</th>\n",
       "      <th>deaths</th>\n",
       "      <th>recovered</th>\n",
       "      <th>country_original</th>\n",
       "    </tr>\n",
       "  </thead>\n",
       "  <tbody>\n",
       "    <tr>\n",
       "      <th>0</th>\n",
       "      <td>Fiji</td>\n",
       "      <td>MULTIPOLYGON (((180.00000 -16.06713, 180.00000...</td>\n",
       "      <td>2020-01-22</td>\n",
       "      <td>0.0</td>\n",
       "      <td>0.0</td>\n",
       "      <td>0.0</td>\n",
       "      <td>Fiji</td>\n",
       "    </tr>\n",
       "    <tr>\n",
       "      <th>1</th>\n",
       "      <td>Fiji</td>\n",
       "      <td>MULTIPOLYGON (((180.00000 -16.06713, 180.00000...</td>\n",
       "      <td>2020-01-23</td>\n",
       "      <td>0.0</td>\n",
       "      <td>0.0</td>\n",
       "      <td>0.0</td>\n",
       "      <td>Fiji</td>\n",
       "    </tr>\n",
       "    <tr>\n",
       "      <th>2</th>\n",
       "      <td>Fiji</td>\n",
       "      <td>MULTIPOLYGON (((180.00000 -16.06713, 180.00000...</td>\n",
       "      <td>2020-01-24</td>\n",
       "      <td>0.0</td>\n",
       "      <td>0.0</td>\n",
       "      <td>0.0</td>\n",
       "      <td>Fiji</td>\n",
       "    </tr>\n",
       "    <tr>\n",
       "      <th>3</th>\n",
       "      <td>Fiji</td>\n",
       "      <td>MULTIPOLYGON (((180.00000 -16.06713, 180.00000...</td>\n",
       "      <td>2020-01-25</td>\n",
       "      <td>0.0</td>\n",
       "      <td>0.0</td>\n",
       "      <td>0.0</td>\n",
       "      <td>Fiji</td>\n",
       "    </tr>\n",
       "    <tr>\n",
       "      <th>4</th>\n",
       "      <td>Fiji</td>\n",
       "      <td>MULTIPOLYGON (((180.00000 -16.06713, 180.00000...</td>\n",
       "      <td>2020-01-26</td>\n",
       "      <td>0.0</td>\n",
       "      <td>0.0</td>\n",
       "      <td>0.0</td>\n",
       "      <td>Fiji</td>\n",
       "    </tr>\n",
       "  </tbody>\n",
       "</table>\n",
       "</div>"
      ],
      "text/plain": [
       "  country                                           geometry         day  \\\n",
       "0    Fiji  MULTIPOLYGON (((180.00000 -16.06713, 180.00000...  2020-01-22   \n",
       "1    Fiji  MULTIPOLYGON (((180.00000 -16.06713, 180.00000...  2020-01-23   \n",
       "2    Fiji  MULTIPOLYGON (((180.00000 -16.06713, 180.00000...  2020-01-24   \n",
       "3    Fiji  MULTIPOLYGON (((180.00000 -16.06713, 180.00000...  2020-01-25   \n",
       "4    Fiji  MULTIPOLYGON (((180.00000 -16.06713, 180.00000...  2020-01-26   \n",
       "\n",
       "   confirmed  deaths  recovered country_original  \n",
       "0        0.0     0.0        0.0             Fiji  \n",
       "1        0.0     0.0        0.0             Fiji  \n",
       "2        0.0     0.0        0.0             Fiji  \n",
       "3        0.0     0.0        0.0             Fiji  \n",
       "4        0.0     0.0        0.0             Fiji  "
      ]
     },
     "execution_count": 18,
     "metadata": {},
     "output_type": "execute_result"
    }
   ],
   "source": [
    "# re-convert day (including the NaN rows) to the correct string date format \n",
    "\n",
    "#merged['day'] = pd.to_datetime(merged['day']).dt.floor('d').dt.strftime(\"%Y-%m-%d\")\n",
    "merged['day'] = pd.to_datetime(merged['day']).dt.strftime(\"%Y-%m-%d\")\n",
    "merged.head()"
   ]
  },
  {
   "cell_type": "markdown",
   "metadata": {},
   "source": [
    "## Add missing date rows for countries with no cases"
   ]
  },
  {
   "cell_type": "code",
   "execution_count": 19,
   "metadata": {
    "ExecuteTime": {
     "end_time": "2020-04-08T19:03:56.429656Z",
     "start_time": "2020-04-08T19:03:56.419122Z"
    },
    "execution": {
     "iopub.execute_input": "2020-04-24T16:46:39.206114Z",
     "iopub.status.busy": "2020-04-24T16:46:39.205858Z",
     "iopub.status.idle": "2020-04-24T16:46:39.216824Z",
     "shell.execute_reply": "2020-04-24T16:46:39.216104Z",
     "shell.execute_reply.started": "2020-04-24T16:46:39.206073Z"
    }
   },
   "outputs": [
    {
     "data": {
      "text/plain": [
       "(18, 94, 1674)"
      ]
     },
     "execution_count": 19,
     "metadata": {},
     "output_type": "execute_result"
    }
   ],
   "source": [
    "countries_without_cases = merged.loc[merged['day'] == 'NaT']['country']\n",
    "len(countries_without_cases), merged.day.nunique(), len(countries_without_cases) * (merged.day.nunique() -1) #-1 for the 'NaT' date level\n",
    "\n",
    "# it will add 1798 new rows to merged"
   ]
  },
  {
   "cell_type": "code",
   "execution_count": 20,
   "metadata": {
    "ExecuteTime": {
     "end_time": "2020-04-08T19:03:58.031865Z",
     "start_time": "2020-04-08T19:03:57.287739Z"
    },
    "execution": {
     "iopub.execute_input": "2020-04-24T16:46:39.773329Z",
     "iopub.status.busy": "2020-04-24T16:46:39.773026Z",
     "iopub.status.idle": "2020-04-24T16:46:40.717146Z",
     "shell.execute_reply": "2020-04-24T16:46:40.716619Z",
     "shell.execute_reply.started": "2020-04-24T16:46:39.773281Z"
    }
   },
   "outputs": [],
   "source": [
    "# create tmp table of all combinations of country X date\n",
    "\n",
    "country_date_cols = ['country', 'day']\n",
    "lists_of_uniques = [merged[col].unique() for col in country_date_cols]\n",
    "tmp = pd.DataFrame(list(itertools.product(*lists_of_uniques)), columns=country_date_cols)\n",
    "\n",
    "# add geometry from country borders\n",
    "tmp = tmp.merge(gdf[['country', 'geometry']], left_on = 'country', right_on = 'country', how='left')\n",
    "\n",
    "# outer join to add missing rows - will join on common columns\n",
    "merged_extra = merged.merge(tmp, how='outer')\n",
    "\n",
    "# del rows with day='NaT'\n",
    "merged_extra = merged_extra.loc[merged_extra['day'] != 'NaT']\n"
   ]
  },
  {
   "cell_type": "code",
   "execution_count": 21,
   "metadata": {
    "ExecuteTime": {
     "end_time": "2020-04-08T19:03:58.869671Z",
     "start_time": "2020-04-08T19:03:58.865885Z"
    },
    "execution": {
     "iopub.execute_input": "2020-04-24T16:46:40.718504Z",
     "iopub.status.busy": "2020-04-24T16:46:40.718330Z",
     "iopub.status.idle": "2020-04-24T16:46:40.723455Z",
     "shell.execute_reply": "2020-04-24T16:46:40.722501Z",
     "shell.execute_reply.started": "2020-04-24T16:46:40.718475Z"
    }
   },
   "outputs": [
    {
     "data": {
      "text/plain": [
       "(14991, 16647, 1685)"
      ]
     },
     "execution_count": 21,
     "metadata": {},
     "output_type": "execute_result"
    }
   ],
   "source": [
    "# check it worked\n",
    "\n",
    "# added right number of rows\n",
    "len(merged), len(merged_extra), len(merged_extra) - len(merged) + 29"
   ]
  },
  {
   "cell_type": "code",
   "execution_count": 22,
   "metadata": {
    "ExecuteTime": {
     "end_time": "2020-04-08T19:03:59.744840Z",
     "start_time": "2020-04-08T19:03:59.716775Z"
    },
    "execution": {
     "iopub.execute_input": "2020-04-24T16:46:40.891322Z",
     "iopub.status.busy": "2020-04-24T16:46:40.891068Z",
     "iopub.status.idle": "2020-04-24T16:46:40.916817Z",
     "shell.execute_reply": "2020-04-24T16:46:40.916167Z",
     "shell.execute_reply.started": "2020-04-24T16:46:40.891281Z"
    }
   },
   "outputs": [
    {
     "data": {
      "text/html": [
       "<div>\n",
       "<style scoped>\n",
       "    .dataframe tbody tr th:only-of-type {\n",
       "        vertical-align: middle;\n",
       "    }\n",
       "\n",
       "    .dataframe tbody tr th {\n",
       "        vertical-align: top;\n",
       "    }\n",
       "\n",
       "    .dataframe thead th {\n",
       "        text-align: right;\n",
       "    }\n",
       "</style>\n",
       "<table border=\"1\" class=\"dataframe\">\n",
       "  <thead>\n",
       "    <tr style=\"text-align: right;\">\n",
       "      <th></th>\n",
       "      <th>country</th>\n",
       "      <th>geometry</th>\n",
       "      <th>day</th>\n",
       "      <th>confirmed</th>\n",
       "      <th>deaths</th>\n",
       "      <th>recovered</th>\n",
       "      <th>country_original</th>\n",
       "    </tr>\n",
       "  </thead>\n",
       "  <tbody>\n",
       "    <tr>\n",
       "      <th>4098</th>\n",
       "      <td>Botswana</td>\n",
       "      <td>POLYGON ((29.43219 -22.09131, 28.01724 -22.827...</td>\n",
       "      <td>2020-01-22</td>\n",
       "      <td>0.0</td>\n",
       "      <td>0.0</td>\n",
       "      <td>0.0</td>\n",
       "      <td>Botswana</td>\n",
       "    </tr>\n",
       "    <tr>\n",
       "      <th>4099</th>\n",
       "      <td>Botswana</td>\n",
       "      <td>POLYGON ((29.43219 -22.09131, 28.01724 -22.827...</td>\n",
       "      <td>2020-01-23</td>\n",
       "      <td>0.0</td>\n",
       "      <td>0.0</td>\n",
       "      <td>0.0</td>\n",
       "      <td>Botswana</td>\n",
       "    </tr>\n",
       "    <tr>\n",
       "      <th>4100</th>\n",
       "      <td>Botswana</td>\n",
       "      <td>POLYGON ((29.43219 -22.09131, 28.01724 -22.827...</td>\n",
       "      <td>2020-01-24</td>\n",
       "      <td>0.0</td>\n",
       "      <td>0.0</td>\n",
       "      <td>0.0</td>\n",
       "      <td>Botswana</td>\n",
       "    </tr>\n",
       "    <tr>\n",
       "      <th>4101</th>\n",
       "      <td>Botswana</td>\n",
       "      <td>POLYGON ((29.43219 -22.09131, 28.01724 -22.827...</td>\n",
       "      <td>2020-01-25</td>\n",
       "      <td>0.0</td>\n",
       "      <td>0.0</td>\n",
       "      <td>0.0</td>\n",
       "      <td>Botswana</td>\n",
       "    </tr>\n",
       "    <tr>\n",
       "      <th>4102</th>\n",
       "      <td>Botswana</td>\n",
       "      <td>POLYGON ((29.43219 -22.09131, 28.01724 -22.827...</td>\n",
       "      <td>2020-01-26</td>\n",
       "      <td>0.0</td>\n",
       "      <td>0.0</td>\n",
       "      <td>0.0</td>\n",
       "      <td>Botswana</td>\n",
       "    </tr>\n",
       "    <tr>\n",
       "      <th>...</th>\n",
       "      <td>...</td>\n",
       "      <td>...</td>\n",
       "      <td>...</td>\n",
       "      <td>...</td>\n",
       "      <td>...</td>\n",
       "      <td>...</td>\n",
       "      <td>...</td>\n",
       "    </tr>\n",
       "    <tr>\n",
       "      <th>4186</th>\n",
       "      <td>Botswana</td>\n",
       "      <td>POLYGON ((29.43219 -22.09131, 28.01724 -22.827...</td>\n",
       "      <td>2020-04-05</td>\n",
       "      <td>6.0</td>\n",
       "      <td>1.0</td>\n",
       "      <td>0.0</td>\n",
       "      <td>Botswana</td>\n",
       "    </tr>\n",
       "    <tr>\n",
       "      <th>4187</th>\n",
       "      <td>Botswana</td>\n",
       "      <td>POLYGON ((29.43219 -22.09131, 28.01724 -22.827...</td>\n",
       "      <td>2020-04-06</td>\n",
       "      <td>6.0</td>\n",
       "      <td>1.0</td>\n",
       "      <td>0.0</td>\n",
       "      <td>Botswana</td>\n",
       "    </tr>\n",
       "    <tr>\n",
       "      <th>4188</th>\n",
       "      <td>Botswana</td>\n",
       "      <td>POLYGON ((29.43219 -22.09131, 28.01724 -22.827...</td>\n",
       "      <td>2020-04-07</td>\n",
       "      <td>6.0</td>\n",
       "      <td>1.0</td>\n",
       "      <td>0.0</td>\n",
       "      <td>Botswana</td>\n",
       "    </tr>\n",
       "    <tr>\n",
       "      <th>4189</th>\n",
       "      <td>Botswana</td>\n",
       "      <td>POLYGON ((29.43219 -22.09131, 28.01724 -22.827...</td>\n",
       "      <td>2020-04-08</td>\n",
       "      <td>6.0</td>\n",
       "      <td>1.0</td>\n",
       "      <td>0.0</td>\n",
       "      <td>Botswana</td>\n",
       "    </tr>\n",
       "    <tr>\n",
       "      <th>4190</th>\n",
       "      <td>Botswana</td>\n",
       "      <td>POLYGON ((29.43219 -22.09131, 28.01724 -22.827...</td>\n",
       "      <td>2020-04-09</td>\n",
       "      <td>13.0</td>\n",
       "      <td>1.0</td>\n",
       "      <td>0.0</td>\n",
       "      <td>Botswana</td>\n",
       "    </tr>\n",
       "  </tbody>\n",
       "</table>\n",
       "<p>93 rows × 7 columns</p>\n",
       "</div>"
      ],
      "text/plain": [
       "       country                                           geometry         day  \\\n",
       "4098  Botswana  POLYGON ((29.43219 -22.09131, 28.01724 -22.827...  2020-01-22   \n",
       "4099  Botswana  POLYGON ((29.43219 -22.09131, 28.01724 -22.827...  2020-01-23   \n",
       "4100  Botswana  POLYGON ((29.43219 -22.09131, 28.01724 -22.827...  2020-01-24   \n",
       "4101  Botswana  POLYGON ((29.43219 -22.09131, 28.01724 -22.827...  2020-01-25   \n",
       "4102  Botswana  POLYGON ((29.43219 -22.09131, 28.01724 -22.827...  2020-01-26   \n",
       "...        ...                                                ...         ...   \n",
       "4186  Botswana  POLYGON ((29.43219 -22.09131, 28.01724 -22.827...  2020-04-05   \n",
       "4187  Botswana  POLYGON ((29.43219 -22.09131, 28.01724 -22.827...  2020-04-06   \n",
       "4188  Botswana  POLYGON ((29.43219 -22.09131, 28.01724 -22.827...  2020-04-07   \n",
       "4189  Botswana  POLYGON ((29.43219 -22.09131, 28.01724 -22.827...  2020-04-08   \n",
       "4190  Botswana  POLYGON ((29.43219 -22.09131, 28.01724 -22.827...  2020-04-09   \n",
       "\n",
       "      confirmed  deaths  recovered country_original  \n",
       "4098        0.0     0.0        0.0         Botswana  \n",
       "4099        0.0     0.0        0.0         Botswana  \n",
       "4100        0.0     0.0        0.0         Botswana  \n",
       "4101        0.0     0.0        0.0         Botswana  \n",
       "4102        0.0     0.0        0.0         Botswana  \n",
       "...         ...     ...        ...              ...  \n",
       "4186        6.0     1.0        0.0         Botswana  \n",
       "4187        6.0     1.0        0.0         Botswana  \n",
       "4188        6.0     1.0        0.0         Botswana  \n",
       "4189        6.0     1.0        0.0         Botswana  \n",
       "4190       13.0     1.0        0.0         Botswana  \n",
       "\n",
       "[93 rows x 7 columns]"
      ]
     },
     "execution_count": 22,
     "metadata": {},
     "output_type": "execute_result"
    }
   ],
   "source": [
    "merged_extra.loc[merged_extra['country']=='Botswana']"
   ]
  },
  {
   "cell_type": "code",
   "execution_count": 23,
   "metadata": {
    "ExecuteTime": {
     "end_time": "2020-04-08T19:04:00.573126Z",
     "start_time": "2020-04-08T19:04:00.561478Z"
    },
    "execution": {
     "iopub.execute_input": "2020-04-24T16:46:41.358823Z",
     "iopub.status.busy": "2020-04-24T16:46:41.358570Z",
     "iopub.status.idle": "2020-04-24T16:46:41.372945Z",
     "shell.execute_reply": "2020-04-24T16:46:41.372066Z",
     "shell.execute_reply.started": "2020-04-24T16:46:41.358783Z"
    }
   },
   "outputs": [
    {
     "data": {
      "text/plain": [
       "('2020-01-22', '2020-01-22', '2020-04-23', 'NaT', '2020-04-23')"
      ]
     },
     "execution_count": 23,
     "metadata": {},
     "output_type": "execute_result"
    }
   ],
   "source": [
    "# check\n",
    "df['day'].min(), merged['day'].min(), df['day'].max(), merged['day'].max(), merged_extra.day.max()"
   ]
  },
  {
   "cell_type": "code",
   "execution_count": 24,
   "metadata": {
    "ExecuteTime": {
     "end_time": "2020-04-08T19:04:01.429288Z",
     "start_time": "2020-04-08T19:04:01.413444Z"
    },
    "execution": {
     "iopub.execute_input": "2020-04-24T16:46:41.900937Z",
     "iopub.status.busy": "2020-04-24T16:46:41.900660Z",
     "iopub.status.idle": "2020-04-24T16:46:41.919422Z",
     "shell.execute_reply": "2020-04-24T16:46:41.918761Z",
     "shell.execute_reply.started": "2020-04-24T16:46:41.900897Z"
    }
   },
   "outputs": [],
   "source": [
    "# IMPORTANT TO DO THIS!\n",
    "\n",
    "merged = merged_extra.copy()\n",
    "\n",
    "merged.sort_values(by=['country', 'country_original', 'day'], inplace=True)\n"
   ]
  },
  {
   "cell_type": "markdown",
   "metadata": {},
   "source": [
    "# PLOT 2. Map with COVID cases as points\n"
   ]
  },
  {
   "cell_type": "code",
   "execution_count": 25,
   "metadata": {
    "ExecuteTime": {
     "end_time": "2020-03-26T18:01:35.687055Z",
     "start_time": "2020-03-26T18:01:35.684622Z"
    },
    "execution": {
     "iopub.execute_input": "2020-04-24T16:46:43.482860Z",
     "iopub.status.busy": "2020-04-24T16:46:43.482598Z",
     "iopub.status.idle": "2020-04-24T16:46:43.486131Z",
     "shell.execute_reply": "2020-04-24T16:46:43.485132Z",
     "shell.execute_reply.started": "2020-04-24T16:46:43.482818Z"
    }
   },
   "outputs": [],
   "source": [
    "# # scale to use as circle size on plot\n",
    "\n",
    "# from sklearn import preprocessing\n",
    "\n",
    "# x = pd.DataFrame(df['confirmed']).values\n",
    "# min_max_scaler = preprocessing.MinMaxScaler()\n",
    "# x_scaled = min_max_scaler.fit_transform(x)\n",
    "# df['Confirmed_MinMaxScaled'] = pd.DataFrame(x_scaled)\n",
    "\n",
    "# # log scale\n",
    "# df['Confirmed_Log'] = np.log(df['Confirmed'])\n",
    "# df['Confirmed_Log10'] = np.log10(df['Confirmed'])"
   ]
  },
  {
   "cell_type": "code",
   "execution_count": 26,
   "metadata": {
    "ExecuteTime": {
     "end_time": "2020-04-08T17:17:02.876137Z",
     "start_time": "2020-04-08T17:17:02.873356Z"
    },
    "execution": {
     "iopub.execute_input": "2020-04-24T16:46:43.993895Z",
     "iopub.status.busy": "2020-04-24T16:46:43.993596Z",
     "iopub.status.idle": "2020-04-24T16:46:43.997622Z",
     "shell.execute_reply": "2020-04-24T16:46:43.996825Z",
     "shell.execute_reply.started": "2020-04-24T16:46:43.993847Z"
    }
   },
   "outputs": [],
   "source": [
    "# #from bokeh.palettes import Spectral6\n",
    "# #from bokeh.transform import factor_cmap\n",
    "\n",
    "# # its latlong columns are not polugon geometry columns so prep data as ColumnDataSource\n",
    "# covid_source = ColumnDataSource(data) \n",
    "\n",
    "\n",
    "# TOOLTIPS = [\n",
    "#     ('UN country', '@country'),\n",
    "#     ('Cases', f'@{variable}')\n",
    "# ] \n",
    "\n",
    "# # Make a CategoricalColorMapper \n",
    "# n = df['country'].nunique()\n",
    "# print(n)\n",
    "# palette = inferno(n)\n",
    "# color_mapper = CategoricalColorMapper(palette=palette, factors=data['country'])\n",
    "\n",
    "# p = figure(title='COVID-19 Confirmed', plot_height=600 , plot_width=950, tooltips=TOOLTIPS,\n",
    "#           x_axis_label='Longitude', y_axis_label='Latitude')\n",
    "\n",
    "# p.patches('xs','ys', source=covid_source, \n",
    "#           fill_color='white', line_color='black', hover_fill_color='lightblue', hover_line_color='black')\n",
    "\n",
    "# #p.circle(df['Longitude'], df['Latitude'])\n",
    "         \n",
    "# # p.circle('Longitude', 'Latitude', source=covid_source, \n",
    "# #          color=factor_cmap('country', palette=Spectral6, factors=list(df['country'].unique())))\n",
    "\n",
    "# # p.circle('Longitude','Latitude', source=covid_source, \n",
    "# #          color=dict(field='country', transform=color_mapper), size=5)\n",
    "\n",
    "# # to display figure inline in Jupyter Notebook.\n",
    "# output_notebook()\n",
    "# show(p) #, notebook_handle=True)"
   ]
  },
  {
   "cell_type": "markdown",
   "metadata": {},
   "source": [
    "# PLOT 3. Map with COVID cases as country shading\n",
    "1. sum covid cases to country level\n",
    "2. join covid df with gdf df\n",
    "3. label missing data\n",
    "4. Plot with shading to represent Confirmed cases (log scale?)\n",
    "5. add toggle to choose whether to display cases/deaths/recovered\n",
    "6. Add slider for date (cumulative)\n",
    "\n",
    "\n",
    "NOTE ON TOOLTIP\n",
    "- needs to be at country level\n",
    "- display cases/deaths/recovere"
   ]
  },
  {
   "cell_type": "code",
   "execution_count": 27,
   "metadata": {
    "ExecuteTime": {
     "end_time": "2020-04-08T17:16:20.541449Z",
     "start_time": "2020-04-08T17:16:20.513504Z"
    },
    "execution": {
     "iopub.execute_input": "2020-04-24T16:46:45.232645Z",
     "iopub.status.busy": "2020-04-24T16:46:45.232390Z",
     "iopub.status.idle": "2020-04-24T16:46:45.258893Z",
     "shell.execute_reply": "2020-04-24T16:46:45.258283Z",
     "shell.execute_reply.started": "2020-04-24T16:46:45.232605Z"
    },
    "scrolled": true
   },
   "outputs": [
    {
     "data": {
      "text/html": [
       "<div>\n",
       "<style scoped>\n",
       "    .dataframe tbody tr th:only-of-type {\n",
       "        vertical-align: middle;\n",
       "    }\n",
       "\n",
       "    .dataframe tbody tr th {\n",
       "        vertical-align: top;\n",
       "    }\n",
       "\n",
       "    .dataframe thead th {\n",
       "        text-align: right;\n",
       "    }\n",
       "</style>\n",
       "<table border=\"1\" class=\"dataframe\">\n",
       "  <thead>\n",
       "    <tr style=\"text-align: right;\">\n",
       "      <th></th>\n",
       "      <th>country</th>\n",
       "      <th>geometry</th>\n",
       "      <th>day</th>\n",
       "      <th>confirmed</th>\n",
       "      <th>deaths</th>\n",
       "      <th>recovered</th>\n",
       "      <th>country_original</th>\n",
       "    </tr>\n",
       "  </thead>\n",
       "  <tbody>\n",
       "    <tr>\n",
       "      <th>8670</th>\n",
       "      <td>Afghanistan</td>\n",
       "      <td>POLYGON ((66.51861 37.36278, 67.07578 37.35614...</td>\n",
       "      <td>2020-02-01</td>\n",
       "      <td>0.0</td>\n",
       "      <td>0.0</td>\n",
       "      <td>0.0</td>\n",
       "      <td>Afghanistan</td>\n",
       "    </tr>\n",
       "    <tr>\n",
       "      <th>8710</th>\n",
       "      <td>Afghanistan</td>\n",
       "      <td>POLYGON ((66.51861 37.36278, 67.07578 37.35614...</td>\n",
       "      <td>2020-03-02</td>\n",
       "      <td>1.0</td>\n",
       "      <td>0.0</td>\n",
       "      <td>0.0</td>\n",
       "      <td>Afghanistan</td>\n",
       "    </tr>\n",
       "    <tr>\n",
       "      <th>10532</th>\n",
       "      <td>Albania</td>\n",
       "      <td>POLYGON ((21.02004 40.84273, 20.99999 40.58000...</td>\n",
       "      <td>2020-02-01</td>\n",
       "      <td>0.0</td>\n",
       "      <td>0.0</td>\n",
       "      <td>0.0</td>\n",
       "      <td>Albania</td>\n",
       "    </tr>\n",
       "    <tr>\n",
       "      <th>10572</th>\n",
       "      <td>Albania</td>\n",
       "      <td>POLYGON ((21.02004 40.84273, 20.99999 40.58000...</td>\n",
       "      <td>2020-03-02</td>\n",
       "      <td>0.0</td>\n",
       "      <td>0.0</td>\n",
       "      <td>0.0</td>\n",
       "      <td>Albania</td>\n",
       "    </tr>\n",
       "    <tr>\n",
       "      <th>6993</th>\n",
       "      <td>Algeria</td>\n",
       "      <td>POLYGON ((-8.68440 27.39574, -8.66512 27.58948...</td>\n",
       "      <td>2020-02-01</td>\n",
       "      <td>0.0</td>\n",
       "      <td>0.0</td>\n",
       "      <td>0.0</td>\n",
       "      <td>Algeria</td>\n",
       "    </tr>\n",
       "    <tr>\n",
       "      <th>...</th>\n",
       "      <td>...</td>\n",
       "      <td>...</td>\n",
       "      <td>...</td>\n",
       "      <td>...</td>\n",
       "      <td>...</td>\n",
       "      <td>...</td>\n",
       "      <td>...</td>\n",
       "    </tr>\n",
       "    <tr>\n",
       "      <th>6009</th>\n",
       "      <td>Zambia</td>\n",
       "      <td>POLYGON ((30.74001 -8.34001, 31.15775 -8.59458...</td>\n",
       "      <td>2020-03-02</td>\n",
       "      <td>0.0</td>\n",
       "      <td>0.0</td>\n",
       "      <td>0.0</td>\n",
       "      <td>Zambia</td>\n",
       "    </tr>\n",
       "    <tr>\n",
       "      <th>4015</th>\n",
       "      <td>Zimbabwe</td>\n",
       "      <td>POLYGON ((31.19141 -22.25151, 30.65987 -22.151...</td>\n",
       "      <td>2020-02-01</td>\n",
       "      <td>0.0</td>\n",
       "      <td>0.0</td>\n",
       "      <td>0.0</td>\n",
       "      <td>Zimbabwe</td>\n",
       "    </tr>\n",
       "    <tr>\n",
       "      <th>4055</th>\n",
       "      <td>Zimbabwe</td>\n",
       "      <td>POLYGON ((31.19141 -22.25151, 30.65987 -22.151...</td>\n",
       "      <td>2020-03-02</td>\n",
       "      <td>0.0</td>\n",
       "      <td>0.0</td>\n",
       "      <td>0.0</td>\n",
       "      <td>Zimbabwe</td>\n",
       "    </tr>\n",
       "    <tr>\n",
       "      <th>6248</th>\n",
       "      <td>eSwatini</td>\n",
       "      <td>POLYGON ((32.07167 -26.73382, 31.86806 -27.177...</td>\n",
       "      <td>2020-02-01</td>\n",
       "      <td>0.0</td>\n",
       "      <td>0.0</td>\n",
       "      <td>0.0</td>\n",
       "      <td>Eswatini</td>\n",
       "    </tr>\n",
       "    <tr>\n",
       "      <th>6288</th>\n",
       "      <td>eSwatini</td>\n",
       "      <td>POLYGON ((32.07167 -26.73382, 31.86806 -27.177...</td>\n",
       "      <td>2020-03-02</td>\n",
       "      <td>0.0</td>\n",
       "      <td>0.0</td>\n",
       "      <td>0.0</td>\n",
       "      <td>Eswatini</td>\n",
       "    </tr>\n",
       "  </tbody>\n",
       "</table>\n",
       "<p>358 rows × 7 columns</p>\n",
       "</div>"
      ],
      "text/plain": [
       "           country                                           geometry  \\\n",
       "8670   Afghanistan  POLYGON ((66.51861 37.36278, 67.07578 37.35614...   \n",
       "8710   Afghanistan  POLYGON ((66.51861 37.36278, 67.07578 37.35614...   \n",
       "10532      Albania  POLYGON ((21.02004 40.84273, 20.99999 40.58000...   \n",
       "10572      Albania  POLYGON ((21.02004 40.84273, 20.99999 40.58000...   \n",
       "6993       Algeria  POLYGON ((-8.68440 27.39574, -8.66512 27.58948...   \n",
       "...            ...                                                ...   \n",
       "6009        Zambia  POLYGON ((30.74001 -8.34001, 31.15775 -8.59458...   \n",
       "4015      Zimbabwe  POLYGON ((31.19141 -22.25151, 30.65987 -22.151...   \n",
       "4055      Zimbabwe  POLYGON ((31.19141 -22.25151, 30.65987 -22.151...   \n",
       "6248      eSwatini  POLYGON ((32.07167 -26.73382, 31.86806 -27.177...   \n",
       "6288      eSwatini  POLYGON ((32.07167 -26.73382, 31.86806 -27.177...   \n",
       "\n",
       "              day  confirmed  deaths  recovered country_original  \n",
       "8670   2020-02-01        0.0     0.0        0.0      Afghanistan  \n",
       "8710   2020-03-02        1.0     0.0        0.0      Afghanistan  \n",
       "10532  2020-02-01        0.0     0.0        0.0          Albania  \n",
       "10572  2020-03-02        0.0     0.0        0.0          Albania  \n",
       "6993   2020-02-01        0.0     0.0        0.0          Algeria  \n",
       "...           ...        ...     ...        ...              ...  \n",
       "6009   2020-03-02        0.0     0.0        0.0           Zambia  \n",
       "4015   2020-02-01        0.0     0.0        0.0         Zimbabwe  \n",
       "4055   2020-03-02        0.0     0.0        0.0         Zimbabwe  \n",
       "6248   2020-02-01        0.0     0.0        0.0         Eswatini  \n",
       "6288   2020-03-02        0.0     0.0        0.0         Eswatini  \n",
       "\n",
       "[358 rows x 7 columns]"
      ]
     },
     "execution_count": 27,
     "metadata": {},
     "output_type": "execute_result"
    }
   ],
   "source": [
    "# subset to one date for testing\n",
    "\n",
    "# merged_subset = merged.loc[merged['day']=='2020-03-01']\n",
    "# merged_subset = merged.loc[merged['day']==datetime.date(2020, 3, 1)]\n",
    "merged_subset = merged.loc[merged['day'].isin(['2020-02-01', '2020-03-02'])]\n",
    "merged_subset"
   ]
  },
  {
   "cell_type": "code",
   "execution_count": 28,
   "metadata": {
    "ExecuteTime": {
     "end_time": "2020-04-08T17:16:27.427208Z",
     "start_time": "2020-04-08T17:16:27.423569Z"
    },
    "execution": {
     "iopub.execute_input": "2020-04-24T16:46:46.381258Z",
     "iopub.status.busy": "2020-04-24T16:46:46.380886Z",
     "iopub.status.idle": "2020-04-24T16:46:46.385759Z",
     "shell.execute_reply": "2020-04-24T16:46:46.384947Z",
     "shell.execute_reply.started": "2020-04-24T16:46:46.381198Z"
    }
   },
   "outputs": [],
   "source": [
    "def source_by_date(data, selected_day):\n",
    "    \"\"\"Create geosource for date selected by user on slider\"\"\"\n",
    "    selected_day = selected_day.strftime('%Y-%m-%d')\n",
    "    new_data = data.loc[data['day'] == selected_day] \n",
    "    return new_data"
   ]
  },
  {
   "cell_type": "code",
   "execution_count": 29,
   "metadata": {
    "ExecuteTime": {
     "end_time": "2020-04-08T17:16:29.211914Z",
     "start_time": "2020-04-08T17:16:28.923941Z"
    },
    "execution": {
     "iopub.execute_input": "2020-04-24T16:46:46.860304Z",
     "iopub.status.busy": "2020-04-24T16:46:46.860043Z",
     "iopub.status.idle": "2020-04-24T16:46:47.175436Z",
     "shell.execute_reply": "2020-04-24T16:46:47.174213Z",
     "shell.execute_reply.started": "2020-04-24T16:46:46.860263Z"
    }
   },
   "outputs": [
    {
     "name": "stderr",
     "output_type": "stream",
     "text": [
      "BokehDeprecationWarning: 'WidgetBox' is deprecated and will be removed in Bokeh 3.0, use 'bokeh.models.Column' instead\n"
     ]
    },
    {
     "data": {
      "text/html": [
       "\n",
       "    <div class=\"bk-root\">\n",
       "        <a href=\"https://bokeh.org\" target=\"_blank\" class=\"bk-logo bk-logo-small bk-logo-notebook\"></a>\n",
       "        <span id=\"1041\">Loading BokehJS ...</span>\n",
       "    </div>"
      ]
     },
     "metadata": {},
     "output_type": "display_data"
    },
    {
     "data": {
      "application/javascript": [
       "\n",
       "(function(root) {\n",
       "  function now() {\n",
       "    return new Date();\n",
       "  }\n",
       "\n",
       "  var force = true;\n",
       "\n",
       "  if (typeof root._bokeh_onload_callbacks === \"undefined\" || force === true) {\n",
       "    root._bokeh_onload_callbacks = [];\n",
       "    root._bokeh_is_loading = undefined;\n",
       "  }\n",
       "\n",
       "  var JS_MIME_TYPE = 'application/javascript';\n",
       "  var HTML_MIME_TYPE = 'text/html';\n",
       "  var EXEC_MIME_TYPE = 'application/vnd.bokehjs_exec.v0+json';\n",
       "  var CLASS_NAME = 'output_bokeh rendered_html';\n",
       "\n",
       "  /**\n",
       "   * Render data to the DOM node\n",
       "   */\n",
       "  function render(props, node) {\n",
       "    var script = document.createElement(\"script\");\n",
       "    node.appendChild(script);\n",
       "  }\n",
       "\n",
       "  /**\n",
       "   * Handle when an output is cleared or removed\n",
       "   */\n",
       "  function handleClearOutput(event, handle) {\n",
       "    var cell = handle.cell;\n",
       "\n",
       "    var id = cell.output_area._bokeh_element_id;\n",
       "    var server_id = cell.output_area._bokeh_server_id;\n",
       "    // Clean up Bokeh references\n",
       "    if (id != null && id in Bokeh.index) {\n",
       "      Bokeh.index[id].model.document.clear();\n",
       "      delete Bokeh.index[id];\n",
       "    }\n",
       "\n",
       "    if (server_id !== undefined) {\n",
       "      // Clean up Bokeh references\n",
       "      var cmd = \"from bokeh.io.state import curstate; print(curstate().uuid_to_server['\" + server_id + \"'].get_sessions()[0].document.roots[0]._id)\";\n",
       "      cell.notebook.kernel.execute(cmd, {\n",
       "        iopub: {\n",
       "          output: function(msg) {\n",
       "            var id = msg.content.text.trim();\n",
       "            if (id in Bokeh.index) {\n",
       "              Bokeh.index[id].model.document.clear();\n",
       "              delete Bokeh.index[id];\n",
       "            }\n",
       "          }\n",
       "        }\n",
       "      });\n",
       "      // Destroy server and session\n",
       "      var cmd = \"import bokeh.io.notebook as ion; ion.destroy_server('\" + server_id + \"')\";\n",
       "      cell.notebook.kernel.execute(cmd);\n",
       "    }\n",
       "  }\n",
       "\n",
       "  /**\n",
       "   * Handle when a new output is added\n",
       "   */\n",
       "  function handleAddOutput(event, handle) {\n",
       "    var output_area = handle.output_area;\n",
       "    var output = handle.output;\n",
       "\n",
       "    // limit handleAddOutput to display_data with EXEC_MIME_TYPE content only\n",
       "    if ((output.output_type != \"display_data\") || (!output.data.hasOwnProperty(EXEC_MIME_TYPE))) {\n",
       "      return\n",
       "    }\n",
       "\n",
       "    var toinsert = output_area.element.find(\".\" + CLASS_NAME.split(' ')[0]);\n",
       "\n",
       "    if (output.metadata[EXEC_MIME_TYPE][\"id\"] !== undefined) {\n",
       "      toinsert[toinsert.length - 1].firstChild.textContent = output.data[JS_MIME_TYPE];\n",
       "      // store reference to embed id on output_area\n",
       "      output_area._bokeh_element_id = output.metadata[EXEC_MIME_TYPE][\"id\"];\n",
       "    }\n",
       "    if (output.metadata[EXEC_MIME_TYPE][\"server_id\"] !== undefined) {\n",
       "      var bk_div = document.createElement(\"div\");\n",
       "      bk_div.innerHTML = output.data[HTML_MIME_TYPE];\n",
       "      var script_attrs = bk_div.children[0].attributes;\n",
       "      for (var i = 0; i < script_attrs.length; i++) {\n",
       "        toinsert[toinsert.length - 1].firstChild.setAttribute(script_attrs[i].name, script_attrs[i].value);\n",
       "        toinsert[toinsert.length - 1].firstChild.textContent = bk_div.children[0].textContent\n",
       "      }\n",
       "      // store reference to server id on output_area\n",
       "      output_area._bokeh_server_id = output.metadata[EXEC_MIME_TYPE][\"server_id\"];\n",
       "    }\n",
       "  }\n",
       "\n",
       "  function register_renderer(events, OutputArea) {\n",
       "\n",
       "    function append_mime(data, metadata, element) {\n",
       "      // create a DOM node to render to\n",
       "      var toinsert = this.create_output_subarea(\n",
       "        metadata,\n",
       "        CLASS_NAME,\n",
       "        EXEC_MIME_TYPE\n",
       "      );\n",
       "      this.keyboard_manager.register_events(toinsert);\n",
       "      // Render to node\n",
       "      var props = {data: data, metadata: metadata[EXEC_MIME_TYPE]};\n",
       "      render(props, toinsert[toinsert.length - 1]);\n",
       "      element.append(toinsert);\n",
       "      return toinsert\n",
       "    }\n",
       "\n",
       "    /* Handle when an output is cleared or removed */\n",
       "    events.on('clear_output.CodeCell', handleClearOutput);\n",
       "    events.on('delete.Cell', handleClearOutput);\n",
       "\n",
       "    /* Handle when a new output is added */\n",
       "    events.on('output_added.OutputArea', handleAddOutput);\n",
       "\n",
       "    /**\n",
       "     * Register the mime type and append_mime function with output_area\n",
       "     */\n",
       "    OutputArea.prototype.register_mime_type(EXEC_MIME_TYPE, append_mime, {\n",
       "      /* Is output safe? */\n",
       "      safe: true,\n",
       "      /* Index of renderer in `output_area.display_order` */\n",
       "      index: 0\n",
       "    });\n",
       "  }\n",
       "\n",
       "  // register the mime type if in Jupyter Notebook environment and previously unregistered\n",
       "  if (root.Jupyter !== undefined) {\n",
       "    var events = require('base/js/events');\n",
       "    var OutputArea = require('notebook/js/outputarea').OutputArea;\n",
       "\n",
       "    if (OutputArea.prototype.mime_types().indexOf(EXEC_MIME_TYPE) == -1) {\n",
       "      register_renderer(events, OutputArea);\n",
       "    }\n",
       "  }\n",
       "\n",
       "  \n",
       "  if (typeof (root._bokeh_timeout) === \"undefined\" || force === true) {\n",
       "    root._bokeh_timeout = Date.now() + 5000;\n",
       "    root._bokeh_failed_load = false;\n",
       "  }\n",
       "\n",
       "  var NB_LOAD_WARNING = {'data': {'text/html':\n",
       "     \"<div style='background-color: #fdd'>\\n\"+\n",
       "     \"<p>\\n\"+\n",
       "     \"BokehJS does not appear to have successfully loaded. If loading BokehJS from CDN, this \\n\"+\n",
       "     \"may be due to a slow or bad network connection. Possible fixes:\\n\"+\n",
       "     \"</p>\\n\"+\n",
       "     \"<ul>\\n\"+\n",
       "     \"<li>re-rerun `output_notebook()` to attempt to load from CDN again, or</li>\\n\"+\n",
       "     \"<li>use INLINE resources instead, as so:</li>\\n\"+\n",
       "     \"</ul>\\n\"+\n",
       "     \"<code>\\n\"+\n",
       "     \"from bokeh.resources import INLINE\\n\"+\n",
       "     \"output_notebook(resources=INLINE)\\n\"+\n",
       "     \"</code>\\n\"+\n",
       "     \"</div>\"}};\n",
       "\n",
       "  function display_loaded() {\n",
       "    var el = document.getElementById(\"1041\");\n",
       "    if (el != null) {\n",
       "      el.textContent = \"BokehJS is loading...\";\n",
       "    }\n",
       "    if (root.Bokeh !== undefined) {\n",
       "      if (el != null) {\n",
       "        el.textContent = \"BokehJS \" + root.Bokeh.version + \" successfully loaded.\";\n",
       "      }\n",
       "    } else if (Date.now() < root._bokeh_timeout) {\n",
       "      setTimeout(display_loaded, 100)\n",
       "    }\n",
       "  }\n",
       "\n",
       "\n",
       "  function run_callbacks() {\n",
       "    try {\n",
       "      root._bokeh_onload_callbacks.forEach(function(callback) {\n",
       "        if (callback != null)\n",
       "          callback();\n",
       "      });\n",
       "    } finally {\n",
       "      delete root._bokeh_onload_callbacks\n",
       "    }\n",
       "    console.debug(\"Bokeh: all callbacks have finished\");\n",
       "  }\n",
       "\n",
       "  function load_libs(css_urls, js_urls, callback) {\n",
       "    if (css_urls == null) css_urls = [];\n",
       "    if (js_urls == null) js_urls = [];\n",
       "\n",
       "    root._bokeh_onload_callbacks.push(callback);\n",
       "    if (root._bokeh_is_loading > 0) {\n",
       "      console.debug(\"Bokeh: BokehJS is being loaded, scheduling callback at\", now());\n",
       "      return null;\n",
       "    }\n",
       "    if (js_urls == null || js_urls.length === 0) {\n",
       "      run_callbacks();\n",
       "      return null;\n",
       "    }\n",
       "    console.debug(\"Bokeh: BokehJS not loaded, scheduling load and callback at\", now());\n",
       "    root._bokeh_is_loading = css_urls.length + js_urls.length;\n",
       "\n",
       "    function on_load() {\n",
       "      root._bokeh_is_loading--;\n",
       "      if (root._bokeh_is_loading === 0) {\n",
       "        console.debug(\"Bokeh: all BokehJS libraries/stylesheets loaded\");\n",
       "        run_callbacks()\n",
       "      }\n",
       "    }\n",
       "\n",
       "    function on_error() {\n",
       "      console.error(\"failed to load \" + url);\n",
       "    }\n",
       "\n",
       "    for (var i = 0; i < css_urls.length; i++) {\n",
       "      var url = css_urls[i];\n",
       "      const element = document.createElement(\"link\");\n",
       "      element.onload = on_load;\n",
       "      element.onerror = on_error;\n",
       "      element.rel = \"stylesheet\";\n",
       "      element.type = \"text/css\";\n",
       "      element.href = url;\n",
       "      console.debug(\"Bokeh: injecting link tag for BokehJS stylesheet: \", url);\n",
       "      document.body.appendChild(element);\n",
       "    }\n",
       "\n",
       "    const hashes = {\"https://cdn.bokeh.org/bokeh/release/bokeh-2.0.1.min.js\": \"JpP8FXbgAZLkfur7LiK3j9AGBhHNIvF742meBJrjO2ShJDhCG2I1uVvW+0DUtrmc\", \"https://cdn.bokeh.org/bokeh/release/bokeh-widgets-2.0.1.min.js\": \"xZlADit0Q04ISQEdKg2k3L4W9AwQBAuDs9nJL9fM/WwzL1tEU9VPNezOFX0nLEAz\", \"https://cdn.bokeh.org/bokeh/release/bokeh-tables-2.0.1.min.js\": \"4BuPRZkdMKSnj3zoxiNrQ86XgNw0rYmBOxe7nshquXwwcauupgBF2DHLVG1WuZlV\", \"https://cdn.bokeh.org/bokeh/release/bokeh-gl-2.0.1.min.js\": \"Dv1SQ87hmDqK6S5OhBf0bCuwAEvL5QYL0PuR/F1SPVhCS/r/abjkbpKDYL2zeM19\"};\n",
       "\n",
       "    for (var i = 0; i < js_urls.length; i++) {\n",
       "      var url = js_urls[i];\n",
       "      var element = document.createElement('script');\n",
       "      element.onload = on_load;\n",
       "      element.onerror = on_error;\n",
       "      element.async = false;\n",
       "      element.src = url;\n",
       "      if (url in hashes) {\n",
       "        element.crossOrigin = \"anonymous\";\n",
       "        element.integrity = \"sha384-\" + hashes[url];\n",
       "      }\n",
       "      console.debug(\"Bokeh: injecting script tag for BokehJS library: \", url);\n",
       "      document.head.appendChild(element);\n",
       "    }\n",
       "  };var element = document.getElementById(\"1041\");\n",
       "  if (element == null) {\n",
       "    console.error(\"Bokeh: ERROR: autoload.js configured with elementid '1041' but no matching script tag was found. \")\n",
       "    return false;\n",
       "  }\n",
       "\n",
       "  function inject_raw_css(css) {\n",
       "    const element = document.createElement(\"style\");\n",
       "    element.appendChild(document.createTextNode(css));\n",
       "    document.body.appendChild(element);\n",
       "  }\n",
       "\n",
       "  \n",
       "  var js_urls = [\"https://cdn.bokeh.org/bokeh/release/bokeh-2.0.1.min.js\", \"https://cdn.bokeh.org/bokeh/release/bokeh-widgets-2.0.1.min.js\", \"https://cdn.bokeh.org/bokeh/release/bokeh-tables-2.0.1.min.js\", \"https://cdn.bokeh.org/bokeh/release/bokeh-gl-2.0.1.min.js\"];\n",
       "  var css_urls = [];\n",
       "  \n",
       "\n",
       "  var inline_js = [\n",
       "    function(Bokeh) {\n",
       "      Bokeh.set_log_level(\"info\");\n",
       "    },\n",
       "    function(Bokeh) {\n",
       "    \n",
       "    \n",
       "    }\n",
       "  ];\n",
       "\n",
       "  function run_inline_js() {\n",
       "    \n",
       "    if (root.Bokeh !== undefined || force === true) {\n",
       "      \n",
       "    for (var i = 0; i < inline_js.length; i++) {\n",
       "      inline_js[i].call(root, root.Bokeh);\n",
       "    }\n",
       "    if (force === true) {\n",
       "        display_loaded();\n",
       "      }} else if (Date.now() < root._bokeh_timeout) {\n",
       "      setTimeout(run_inline_js, 100);\n",
       "    } else if (!root._bokeh_failed_load) {\n",
       "      console.log(\"Bokeh: BokehJS failed to load within specified timeout.\");\n",
       "      root._bokeh_failed_load = true;\n",
       "    } else if (force !== true) {\n",
       "      var cell = $(document.getElementById(\"1041\")).parents('.cell').data().cell;\n",
       "      cell.output_area.append_execute_result(NB_LOAD_WARNING)\n",
       "    }\n",
       "\n",
       "  }\n",
       "\n",
       "  if (root._bokeh_is_loading === 0) {\n",
       "    console.debug(\"Bokeh: BokehJS loaded, going straight to plotting\");\n",
       "    run_inline_js();\n",
       "  } else {\n",
       "    load_libs(css_urls, js_urls, function() {\n",
       "      console.debug(\"Bokeh: BokehJS plotting callback run at\", now());\n",
       "      run_inline_js();\n",
       "    });\n",
       "  }\n",
       "}(window));"
      ],
      "application/vnd.bokehjs_load.v0+json": "\n(function(root) {\n  function now() {\n    return new Date();\n  }\n\n  var force = true;\n\n  if (typeof root._bokeh_onload_callbacks === \"undefined\" || force === true) {\n    root._bokeh_onload_callbacks = [];\n    root._bokeh_is_loading = undefined;\n  }\n\n  \n\n  \n  if (typeof (root._bokeh_timeout) === \"undefined\" || force === true) {\n    root._bokeh_timeout = Date.now() + 5000;\n    root._bokeh_failed_load = false;\n  }\n\n  var NB_LOAD_WARNING = {'data': {'text/html':\n     \"<div style='background-color: #fdd'>\\n\"+\n     \"<p>\\n\"+\n     \"BokehJS does not appear to have successfully loaded. If loading BokehJS from CDN, this \\n\"+\n     \"may be due to a slow or bad network connection. Possible fixes:\\n\"+\n     \"</p>\\n\"+\n     \"<ul>\\n\"+\n     \"<li>re-rerun `output_notebook()` to attempt to load from CDN again, or</li>\\n\"+\n     \"<li>use INLINE resources instead, as so:</li>\\n\"+\n     \"</ul>\\n\"+\n     \"<code>\\n\"+\n     \"from bokeh.resources import INLINE\\n\"+\n     \"output_notebook(resources=INLINE)\\n\"+\n     \"</code>\\n\"+\n     \"</div>\"}};\n\n  function display_loaded() {\n    var el = document.getElementById(\"1041\");\n    if (el != null) {\n      el.textContent = \"BokehJS is loading...\";\n    }\n    if (root.Bokeh !== undefined) {\n      if (el != null) {\n        el.textContent = \"BokehJS \" + root.Bokeh.version + \" successfully loaded.\";\n      }\n    } else if (Date.now() < root._bokeh_timeout) {\n      setTimeout(display_loaded, 100)\n    }\n  }\n\n\n  function run_callbacks() {\n    try {\n      root._bokeh_onload_callbacks.forEach(function(callback) {\n        if (callback != null)\n          callback();\n      });\n    } finally {\n      delete root._bokeh_onload_callbacks\n    }\n    console.debug(\"Bokeh: all callbacks have finished\");\n  }\n\n  function load_libs(css_urls, js_urls, callback) {\n    if (css_urls == null) css_urls = [];\n    if (js_urls == null) js_urls = [];\n\n    root._bokeh_onload_callbacks.push(callback);\n    if (root._bokeh_is_loading > 0) {\n      console.debug(\"Bokeh: BokehJS is being loaded, scheduling callback at\", now());\n      return null;\n    }\n    if (js_urls == null || js_urls.length === 0) {\n      run_callbacks();\n      return null;\n    }\n    console.debug(\"Bokeh: BokehJS not loaded, scheduling load and callback at\", now());\n    root._bokeh_is_loading = css_urls.length + js_urls.length;\n\n    function on_load() {\n      root._bokeh_is_loading--;\n      if (root._bokeh_is_loading === 0) {\n        console.debug(\"Bokeh: all BokehJS libraries/stylesheets loaded\");\n        run_callbacks()\n      }\n    }\n\n    function on_error() {\n      console.error(\"failed to load \" + url);\n    }\n\n    for (var i = 0; i < css_urls.length; i++) {\n      var url = css_urls[i];\n      const element = document.createElement(\"link\");\n      element.onload = on_load;\n      element.onerror = on_error;\n      element.rel = \"stylesheet\";\n      element.type = \"text/css\";\n      element.href = url;\n      console.debug(\"Bokeh: injecting link tag for BokehJS stylesheet: \", url);\n      document.body.appendChild(element);\n    }\n\n    const hashes = {\"https://cdn.bokeh.org/bokeh/release/bokeh-2.0.1.min.js\": \"JpP8FXbgAZLkfur7LiK3j9AGBhHNIvF742meBJrjO2ShJDhCG2I1uVvW+0DUtrmc\", \"https://cdn.bokeh.org/bokeh/release/bokeh-widgets-2.0.1.min.js\": \"xZlADit0Q04ISQEdKg2k3L4W9AwQBAuDs9nJL9fM/WwzL1tEU9VPNezOFX0nLEAz\", \"https://cdn.bokeh.org/bokeh/release/bokeh-tables-2.0.1.min.js\": \"4BuPRZkdMKSnj3zoxiNrQ86XgNw0rYmBOxe7nshquXwwcauupgBF2DHLVG1WuZlV\", \"https://cdn.bokeh.org/bokeh/release/bokeh-gl-2.0.1.min.js\": \"Dv1SQ87hmDqK6S5OhBf0bCuwAEvL5QYL0PuR/F1SPVhCS/r/abjkbpKDYL2zeM19\"};\n\n    for (var i = 0; i < js_urls.length; i++) {\n      var url = js_urls[i];\n      var element = document.createElement('script');\n      element.onload = on_load;\n      element.onerror = on_error;\n      element.async = false;\n      element.src = url;\n      if (url in hashes) {\n        element.crossOrigin = \"anonymous\";\n        element.integrity = \"sha384-\" + hashes[url];\n      }\n      console.debug(\"Bokeh: injecting script tag for BokehJS library: \", url);\n      document.head.appendChild(element);\n    }\n  };var element = document.getElementById(\"1041\");\n  if (element == null) {\n    console.error(\"Bokeh: ERROR: autoload.js configured with elementid '1041' but no matching script tag was found. \")\n    return false;\n  }\n\n  function inject_raw_css(css) {\n    const element = document.createElement(\"style\");\n    element.appendChild(document.createTextNode(css));\n    document.body.appendChild(element);\n  }\n\n  \n  var js_urls = [\"https://cdn.bokeh.org/bokeh/release/bokeh-2.0.1.min.js\", \"https://cdn.bokeh.org/bokeh/release/bokeh-widgets-2.0.1.min.js\", \"https://cdn.bokeh.org/bokeh/release/bokeh-tables-2.0.1.min.js\", \"https://cdn.bokeh.org/bokeh/release/bokeh-gl-2.0.1.min.js\"];\n  var css_urls = [];\n  \n\n  var inline_js = [\n    function(Bokeh) {\n      Bokeh.set_log_level(\"info\");\n    },\n    function(Bokeh) {\n    \n    \n    }\n  ];\n\n  function run_inline_js() {\n    \n    if (root.Bokeh !== undefined || force === true) {\n      \n    for (var i = 0; i < inline_js.length; i++) {\n      inline_js[i].call(root, root.Bokeh);\n    }\n    if (force === true) {\n        display_loaded();\n      }} else if (Date.now() < root._bokeh_timeout) {\n      setTimeout(run_inline_js, 100);\n    } else if (!root._bokeh_failed_load) {\n      console.log(\"Bokeh: BokehJS failed to load within specified timeout.\");\n      root._bokeh_failed_load = true;\n    } else if (force !== true) {\n      var cell = $(document.getElementById(\"1041\")).parents('.cell').data().cell;\n      cell.output_area.append_execute_result(NB_LOAD_WARNING)\n    }\n\n  }\n\n  if (root._bokeh_is_loading === 0) {\n    console.debug(\"Bokeh: BokehJS loaded, going straight to plotting\");\n    run_inline_js();\n  } else {\n    load_libs(css_urls, js_urls, function() {\n      console.debug(\"Bokeh: BokehJS plotting callback run at\", now());\n      run_inline_js();\n    });\n  }\n}(window));"
     },
     "metadata": {},
     "output_type": "display_data"
    },
    {
     "name": "stderr",
     "output_type": "stream",
     "text": [
      "ERROR:bokeh.core.validation.check:E-1001 (BAD_COLUMN_NAME): Glyph refers to nonexistent column name. This could either be due to a misspelling or typo, or due to an expected column being missing. : key \"xs\" value \"xs\", key \"ys\" value \"ys\" [renderer: GlyphRenderer(id=1035, glyph=Patches(id='1033', ...), ...)]\n",
      "WARNING:bokeh.embed.util:\n",
      "You are generating standalone HTML/JS output, but trying to use real Python\n",
      "callbacks (i.e. with on_change or on_event). This combination cannot work.\n",
      "\n",
      "Only JavaScript callbacks may be used with standalone output. For more\n",
      "information on JavaScript callbacks with Bokeh, see:\n",
      "\n",
      "    https://docs.bokeh.org/en/latest/docs/user_guide/interaction/callbacks.html\n",
      "\n",
      "Alternatively, to use real Python callbacks, a Bokeh server application may\n",
      "be used. For more information on building and running Bokeh applications, see:\n",
      "\n",
      "    https://docs.bokeh.org/en/latest/docs/user_guide/server.html\n",
      "\n"
     ]
    },
    {
     "ename": "TypeError",
     "evalue": "Object of type Polygon is not JSON serializable",
     "output_type": "error",
     "traceback": [
      "\u001b[0;31m---------------------------------------------------------------------------\u001b[0m",
      "\u001b[0;31mTypeError\u001b[0m                                 Traceback (most recent call last)",
      "\u001b[0;32m<ipython-input-29-139c4f372d18>\u001b[0m in \u001b[0;36m<module>\u001b[0;34m\u001b[0m\n\u001b[1;32m     63\u001b[0m \u001b[0;34m\u001b[0m\u001b[0m\n\u001b[1;32m     64\u001b[0m \u001b[0;31m# layout = column(p)\u001b[0m\u001b[0;34m\u001b[0m\u001b[0;34m\u001b[0m\u001b[0;34m\u001b[0m\u001b[0m\n\u001b[0;32m---> 65\u001b[0;31m \u001b[0mshow\u001b[0m\u001b[0;34m(\u001b[0m\u001b[0mlayout\u001b[0m\u001b[0;34m)\u001b[0m\u001b[0;34m\u001b[0m\u001b[0;34m\u001b[0m\u001b[0m\n\u001b[0m\u001b[1;32m     66\u001b[0m \u001b[0;34m\u001b[0m\u001b[0m\n\u001b[1;32m     67\u001b[0m \u001b[0;31m#show(p)\u001b[0m\u001b[0;34m\u001b[0m\u001b[0;34m\u001b[0m\u001b[0;34m\u001b[0m\u001b[0m\n",
      "\u001b[0;32m/usr/local/lib/python3.7/site-packages/bokeh/io/showing.py\u001b[0m in \u001b[0;36mshow\u001b[0;34m(obj, browser, new, notebook_handle, notebook_url, **kw)\u001b[0m\n\u001b[1;32m    137\u001b[0m         \u001b[0;32mreturn\u001b[0m \u001b[0mrun_notebook_hook\u001b[0m\u001b[0;34m(\u001b[0m\u001b[0mstate\u001b[0m\u001b[0;34m.\u001b[0m\u001b[0mnotebook_type\u001b[0m\u001b[0;34m,\u001b[0m \u001b[0;34m'app'\u001b[0m\u001b[0;34m,\u001b[0m \u001b[0mobj\u001b[0m\u001b[0;34m,\u001b[0m \u001b[0mstate\u001b[0m\u001b[0;34m,\u001b[0m \u001b[0mnotebook_url\u001b[0m\u001b[0;34m,\u001b[0m \u001b[0;34m**\u001b[0m\u001b[0mkw\u001b[0m\u001b[0;34m)\u001b[0m\u001b[0;34m\u001b[0m\u001b[0;34m\u001b[0m\u001b[0m\n\u001b[1;32m    138\u001b[0m \u001b[0;34m\u001b[0m\u001b[0m\n\u001b[0;32m--> 139\u001b[0;31m     \u001b[0;32mreturn\u001b[0m \u001b[0m_show_with_state\u001b[0m\u001b[0;34m(\u001b[0m\u001b[0mobj\u001b[0m\u001b[0;34m,\u001b[0m \u001b[0mstate\u001b[0m\u001b[0;34m,\u001b[0m \u001b[0mbrowser\u001b[0m\u001b[0;34m,\u001b[0m \u001b[0mnew\u001b[0m\u001b[0;34m,\u001b[0m \u001b[0mnotebook_handle\u001b[0m\u001b[0;34m=\u001b[0m\u001b[0mnotebook_handle\u001b[0m\u001b[0;34m)\u001b[0m\u001b[0;34m\u001b[0m\u001b[0;34m\u001b[0m\u001b[0m\n\u001b[0m\u001b[1;32m    140\u001b[0m \u001b[0;34m\u001b[0m\u001b[0m\n\u001b[1;32m    141\u001b[0m \u001b[0;31m#-----------------------------------------------------------------------------\u001b[0m\u001b[0;34m\u001b[0m\u001b[0;34m\u001b[0m\u001b[0;34m\u001b[0m\u001b[0m\n",
      "\u001b[0;32m/usr/local/lib/python3.7/site-packages/bokeh/io/showing.py\u001b[0m in \u001b[0;36m_show_with_state\u001b[0;34m(obj, state, browser, new, notebook_handle)\u001b[0m\n\u001b[1;32m    171\u001b[0m \u001b[0;34m\u001b[0m\u001b[0m\n\u001b[1;32m    172\u001b[0m     \u001b[0;32mif\u001b[0m \u001b[0mstate\u001b[0m\u001b[0;34m.\u001b[0m\u001b[0mnotebook\u001b[0m\u001b[0;34m:\u001b[0m\u001b[0;34m\u001b[0m\u001b[0;34m\u001b[0m\u001b[0m\n\u001b[0;32m--> 173\u001b[0;31m         \u001b[0mcomms_handle\u001b[0m \u001b[0;34m=\u001b[0m \u001b[0mrun_notebook_hook\u001b[0m\u001b[0;34m(\u001b[0m\u001b[0mstate\u001b[0m\u001b[0;34m.\u001b[0m\u001b[0mnotebook_type\u001b[0m\u001b[0;34m,\u001b[0m \u001b[0;34m'doc'\u001b[0m\u001b[0;34m,\u001b[0m \u001b[0mobj\u001b[0m\u001b[0;34m,\u001b[0m \u001b[0mstate\u001b[0m\u001b[0;34m,\u001b[0m \u001b[0mnotebook_handle\u001b[0m\u001b[0;34m)\u001b[0m\u001b[0;34m\u001b[0m\u001b[0;34m\u001b[0m\u001b[0m\n\u001b[0m\u001b[1;32m    174\u001b[0m         \u001b[0mshown\u001b[0m \u001b[0;34m=\u001b[0m \u001b[0;32mTrue\u001b[0m\u001b[0;34m\u001b[0m\u001b[0;34m\u001b[0m\u001b[0m\n\u001b[1;32m    175\u001b[0m \u001b[0;34m\u001b[0m\u001b[0m\n",
      "\u001b[0;32m/usr/local/lib/python3.7/site-packages/bokeh/io/notebook.py\u001b[0m in \u001b[0;36mrun_notebook_hook\u001b[0;34m(notebook_type, action, *args, **kw)\u001b[0m\n\u001b[1;32m    296\u001b[0m     \u001b[0;32mif\u001b[0m \u001b[0m_HOOKS\u001b[0m\u001b[0;34m[\u001b[0m\u001b[0mnotebook_type\u001b[0m\u001b[0;34m]\u001b[0m\u001b[0;34m[\u001b[0m\u001b[0maction\u001b[0m\u001b[0;34m]\u001b[0m \u001b[0;32mis\u001b[0m \u001b[0;32mNone\u001b[0m\u001b[0;34m:\u001b[0m\u001b[0;34m\u001b[0m\u001b[0;34m\u001b[0m\u001b[0m\n\u001b[1;32m    297\u001b[0m         \u001b[0;32mraise\u001b[0m \u001b[0mRuntimeError\u001b[0m\u001b[0;34m(\u001b[0m\u001b[0;34m\"notebook hook for %r did not install %r action\"\u001b[0m \u001b[0;34m%\u001b[0m \u001b[0mnotebook_type\u001b[0m\u001b[0;34m,\u001b[0m \u001b[0maction\u001b[0m\u001b[0;34m)\u001b[0m\u001b[0;34m\u001b[0m\u001b[0;34m\u001b[0m\u001b[0m\n\u001b[0;32m--> 298\u001b[0;31m     \u001b[0;32mreturn\u001b[0m \u001b[0m_HOOKS\u001b[0m\u001b[0;34m[\u001b[0m\u001b[0mnotebook_type\u001b[0m\u001b[0;34m]\u001b[0m\u001b[0;34m[\u001b[0m\u001b[0maction\u001b[0m\u001b[0;34m]\u001b[0m\u001b[0;34m(\u001b[0m\u001b[0;34m*\u001b[0m\u001b[0margs\u001b[0m\u001b[0;34m,\u001b[0m \u001b[0;34m**\u001b[0m\u001b[0mkw\u001b[0m\u001b[0;34m)\u001b[0m\u001b[0;34m\u001b[0m\u001b[0;34m\u001b[0m\u001b[0m\n\u001b[0m\u001b[1;32m    299\u001b[0m \u001b[0;34m\u001b[0m\u001b[0m\n\u001b[1;32m    300\u001b[0m \u001b[0;31m#-----------------------------------------------------------------------------\u001b[0m\u001b[0;34m\u001b[0m\u001b[0;34m\u001b[0m\u001b[0;34m\u001b[0m\u001b[0m\n",
      "\u001b[0;32m/usr/local/lib/python3.7/site-packages/bokeh/io/notebook.py\u001b[0m in \u001b[0;36mshow_doc\u001b[0;34m(obj, state, notebook_handle)\u001b[0m\n\u001b[1;32m    506\u001b[0m     \u001b[0;32mfrom\u001b[0m \u001b[0;34m.\u001b[0m\u001b[0;34m.\u001b[0m\u001b[0membed\u001b[0m\u001b[0;34m.\u001b[0m\u001b[0mnotebook\u001b[0m \u001b[0;32mimport\u001b[0m \u001b[0mnotebook_content\u001b[0m\u001b[0;34m\u001b[0m\u001b[0;34m\u001b[0m\u001b[0m\n\u001b[1;32m    507\u001b[0m     \u001b[0mcomms_target\u001b[0m \u001b[0;34m=\u001b[0m \u001b[0mmake_id\u001b[0m\u001b[0;34m(\u001b[0m\u001b[0;34m)\u001b[0m \u001b[0;32mif\u001b[0m \u001b[0mnotebook_handle\u001b[0m \u001b[0;32melse\u001b[0m \u001b[0;32mNone\u001b[0m\u001b[0;34m\u001b[0m\u001b[0;34m\u001b[0m\u001b[0m\n\u001b[0;32m--> 508\u001b[0;31m     \u001b[0;34m(\u001b[0m\u001b[0mscript\u001b[0m\u001b[0;34m,\u001b[0m \u001b[0mdiv\u001b[0m\u001b[0;34m,\u001b[0m \u001b[0mcell_doc\u001b[0m\u001b[0;34m)\u001b[0m \u001b[0;34m=\u001b[0m \u001b[0mnotebook_content\u001b[0m\u001b[0;34m(\u001b[0m\u001b[0mobj\u001b[0m\u001b[0;34m,\u001b[0m \u001b[0mcomms_target\u001b[0m\u001b[0;34m)\u001b[0m\u001b[0;34m\u001b[0m\u001b[0;34m\u001b[0m\u001b[0m\n\u001b[0m\u001b[1;32m    509\u001b[0m \u001b[0;34m\u001b[0m\u001b[0m\n\u001b[1;32m    510\u001b[0m     \u001b[0mpublish_display_data\u001b[0m\u001b[0;34m(\u001b[0m\u001b[0;34m{\u001b[0m\u001b[0mHTML_MIME_TYPE\u001b[0m\u001b[0;34m:\u001b[0m \u001b[0mdiv\u001b[0m\u001b[0;34m}\u001b[0m\u001b[0;34m)\u001b[0m\u001b[0;34m\u001b[0m\u001b[0;34m\u001b[0m\u001b[0m\n",
      "\u001b[0;32m/usr/local/lib/python3.7/site-packages/bokeh/embed/notebook.py\u001b[0m in \u001b[0;36mnotebook_content\u001b[0;34m(model, notebook_comms_target, theme)\u001b[0m\n\u001b[1;32m     83\u001b[0m     \u001b[0;31m# has models with the same IDs as they were started with\u001b[0m\u001b[0;34m\u001b[0m\u001b[0;34m\u001b[0m\u001b[0;34m\u001b[0m\u001b[0m\n\u001b[1;32m     84\u001b[0m     \u001b[0;32mwith\u001b[0m \u001b[0mOutputDocumentFor\u001b[0m\u001b[0;34m(\u001b[0m\u001b[0;34m[\u001b[0m\u001b[0mmodel\u001b[0m\u001b[0;34m]\u001b[0m\u001b[0;34m,\u001b[0m \u001b[0mapply_theme\u001b[0m\u001b[0;34m=\u001b[0m\u001b[0mtheme\u001b[0m\u001b[0;34m,\u001b[0m \u001b[0malways_new\u001b[0m\u001b[0;34m=\u001b[0m\u001b[0;32mTrue\u001b[0m\u001b[0;34m)\u001b[0m \u001b[0;32mas\u001b[0m \u001b[0mnew_doc\u001b[0m\u001b[0;34m:\u001b[0m\u001b[0;34m\u001b[0m\u001b[0;34m\u001b[0m\u001b[0m\n\u001b[0;32m---> 85\u001b[0;31m         \u001b[0;34m(\u001b[0m\u001b[0mdocs_json\u001b[0m\u001b[0;34m,\u001b[0m \u001b[0;34m[\u001b[0m\u001b[0mrender_item\u001b[0m\u001b[0;34m]\u001b[0m\u001b[0;34m)\u001b[0m \u001b[0;34m=\u001b[0m \u001b[0mstandalone_docs_json_and_render_items\u001b[0m\u001b[0;34m(\u001b[0m\u001b[0;34m[\u001b[0m\u001b[0mmodel\u001b[0m\u001b[0;34m]\u001b[0m\u001b[0;34m)\u001b[0m\u001b[0;34m\u001b[0m\u001b[0;34m\u001b[0m\u001b[0m\n\u001b[0m\u001b[1;32m     86\u001b[0m \u001b[0;34m\u001b[0m\u001b[0m\n\u001b[1;32m     87\u001b[0m     \u001b[0mdiv\u001b[0m \u001b[0;34m=\u001b[0m \u001b[0mdiv_for_render_item\u001b[0m\u001b[0;34m(\u001b[0m\u001b[0mrender_item\u001b[0m\u001b[0;34m)\u001b[0m\u001b[0;34m\u001b[0m\u001b[0;34m\u001b[0m\u001b[0m\n",
      "\u001b[0;32m/usr/local/lib/python3.7/site-packages/bokeh/embed/util.py\u001b[0m in \u001b[0;36mstandalone_docs_json_and_render_items\u001b[0;34m(models, suppress_callback_warning)\u001b[0m\n\u001b[1;32m    292\u001b[0m     \u001b[0mdocs_json\u001b[0m \u001b[0;34m=\u001b[0m \u001b[0;34m{\u001b[0m\u001b[0;34m}\u001b[0m\u001b[0;34m\u001b[0m\u001b[0;34m\u001b[0m\u001b[0m\n\u001b[1;32m    293\u001b[0m     \u001b[0;32mfor\u001b[0m \u001b[0mdoc\u001b[0m\u001b[0;34m,\u001b[0m \u001b[0;34m(\u001b[0m\u001b[0mdocid\u001b[0m\u001b[0;34m,\u001b[0m \u001b[0m_\u001b[0m\u001b[0;34m)\u001b[0m \u001b[0;32min\u001b[0m \u001b[0mdocs\u001b[0m\u001b[0;34m.\u001b[0m\u001b[0mitems\u001b[0m\u001b[0;34m(\u001b[0m\u001b[0;34m)\u001b[0m\u001b[0;34m:\u001b[0m\u001b[0;34m\u001b[0m\u001b[0;34m\u001b[0m\u001b[0m\n\u001b[0;32m--> 294\u001b[0;31m         \u001b[0mdocs_json\u001b[0m\u001b[0;34m[\u001b[0m\u001b[0mdocid\u001b[0m\u001b[0;34m]\u001b[0m \u001b[0;34m=\u001b[0m \u001b[0mdoc\u001b[0m\u001b[0;34m.\u001b[0m\u001b[0mto_json\u001b[0m\u001b[0;34m(\u001b[0m\u001b[0;34m)\u001b[0m\u001b[0;34m\u001b[0m\u001b[0;34m\u001b[0m\u001b[0m\n\u001b[0m\u001b[1;32m    295\u001b[0m \u001b[0;34m\u001b[0m\u001b[0m\n\u001b[1;32m    296\u001b[0m     \u001b[0mrender_items\u001b[0m \u001b[0;34m=\u001b[0m \u001b[0;34m[\u001b[0m\u001b[0;34m]\u001b[0m\u001b[0;34m\u001b[0m\u001b[0;34m\u001b[0m\u001b[0m\n",
      "\u001b[0;32m/usr/local/lib/python3.7/site-packages/bokeh/document/document.py\u001b[0m in \u001b[0;36mto_json\u001b[0;34m(self)\u001b[0m\n\u001b[1;32m    880\u001b[0m         \u001b[0;31m# this is a total hack to go via a string, needed because\u001b[0m\u001b[0;34m\u001b[0m\u001b[0;34m\u001b[0m\u001b[0;34m\u001b[0m\u001b[0m\n\u001b[1;32m    881\u001b[0m         \u001b[0;31m# our BokehJSONEncoder goes straight to a string.\u001b[0m\u001b[0;34m\u001b[0m\u001b[0;34m\u001b[0m\u001b[0;34m\u001b[0m\u001b[0m\n\u001b[0;32m--> 882\u001b[0;31m         \u001b[0mdoc_json\u001b[0m \u001b[0;34m=\u001b[0m \u001b[0mself\u001b[0m\u001b[0;34m.\u001b[0m\u001b[0mto_json_string\u001b[0m\u001b[0;34m(\u001b[0m\u001b[0;34m)\u001b[0m\u001b[0;34m\u001b[0m\u001b[0;34m\u001b[0m\u001b[0m\n\u001b[0m\u001b[1;32m    883\u001b[0m         \u001b[0;32mreturn\u001b[0m \u001b[0mloads\u001b[0m\u001b[0;34m(\u001b[0m\u001b[0mdoc_json\u001b[0m\u001b[0;34m)\u001b[0m\u001b[0;34m\u001b[0m\u001b[0;34m\u001b[0m\u001b[0m\n\u001b[1;32m    884\u001b[0m \u001b[0;34m\u001b[0m\u001b[0m\n",
      "\u001b[0;32m/usr/local/lib/python3.7/site-packages/bokeh/document/document.py\u001b[0m in \u001b[0;36mto_json_string\u001b[0;34m(self, indent)\u001b[0m\n\u001b[1;32m    909\u001b[0m         }\n\u001b[1;32m    910\u001b[0m \u001b[0;34m\u001b[0m\u001b[0m\n\u001b[0;32m--> 911\u001b[0;31m         \u001b[0;32mreturn\u001b[0m \u001b[0mserialize_json\u001b[0m\u001b[0;34m(\u001b[0m\u001b[0mjson\u001b[0m\u001b[0;34m,\u001b[0m \u001b[0mindent\u001b[0m\u001b[0;34m=\u001b[0m\u001b[0mindent\u001b[0m\u001b[0;34m)\u001b[0m\u001b[0;34m\u001b[0m\u001b[0;34m\u001b[0m\u001b[0m\n\u001b[0m\u001b[1;32m    912\u001b[0m \u001b[0;34m\u001b[0m\u001b[0m\n\u001b[1;32m    913\u001b[0m     \u001b[0;32mdef\u001b[0m \u001b[0mvalidate\u001b[0m\u001b[0;34m(\u001b[0m\u001b[0mself\u001b[0m\u001b[0;34m)\u001b[0m\u001b[0;34m:\u001b[0m\u001b[0;34m\u001b[0m\u001b[0;34m\u001b[0m\u001b[0m\n",
      "\u001b[0;32m/usr/local/lib/python3.7/site-packages/bokeh/core/json_encoder.py\u001b[0m in \u001b[0;36mserialize_json\u001b[0;34m(obj, pretty, indent, **kwargs)\u001b[0m\n\u001b[1;32m    164\u001b[0m         \u001b[0mindent\u001b[0m \u001b[0;34m=\u001b[0m \u001b[0;36m2\u001b[0m\u001b[0;34m\u001b[0m\u001b[0;34m\u001b[0m\u001b[0m\n\u001b[1;32m    165\u001b[0m \u001b[0;34m\u001b[0m\u001b[0m\n\u001b[0;32m--> 166\u001b[0;31m     \u001b[0;32mreturn\u001b[0m \u001b[0mjson\u001b[0m\u001b[0;34m.\u001b[0m\u001b[0mdumps\u001b[0m\u001b[0;34m(\u001b[0m\u001b[0mobj\u001b[0m\u001b[0;34m,\u001b[0m \u001b[0mcls\u001b[0m\u001b[0;34m=\u001b[0m\u001b[0mBokehJSONEncoder\u001b[0m\u001b[0;34m,\u001b[0m \u001b[0mallow_nan\u001b[0m\u001b[0;34m=\u001b[0m\u001b[0;32mFalse\u001b[0m\u001b[0;34m,\u001b[0m \u001b[0mindent\u001b[0m\u001b[0;34m=\u001b[0m\u001b[0mindent\u001b[0m\u001b[0;34m,\u001b[0m \u001b[0mseparators\u001b[0m\u001b[0;34m=\u001b[0m\u001b[0mseparators\u001b[0m\u001b[0;34m,\u001b[0m \u001b[0msort_keys\u001b[0m\u001b[0;34m=\u001b[0m\u001b[0;32mTrue\u001b[0m\u001b[0;34m,\u001b[0m \u001b[0;34m**\u001b[0m\u001b[0mkwargs\u001b[0m\u001b[0;34m)\u001b[0m\u001b[0;34m\u001b[0m\u001b[0;34m\u001b[0m\u001b[0m\n\u001b[0m\u001b[1;32m    167\u001b[0m \u001b[0;34m\u001b[0m\u001b[0m\n\u001b[1;32m    168\u001b[0m \u001b[0;34m\u001b[0m\u001b[0m\n",
      "\u001b[0;32m/usr/local/Cellar/python/3.7.5/Frameworks/Python.framework/Versions/3.7/lib/python3.7/json/__init__.py\u001b[0m in \u001b[0;36mdumps\u001b[0;34m(obj, skipkeys, ensure_ascii, check_circular, allow_nan, cls, indent, separators, default, sort_keys, **kw)\u001b[0m\n\u001b[1;32m    236\u001b[0m         \u001b[0mcheck_circular\u001b[0m\u001b[0;34m=\u001b[0m\u001b[0mcheck_circular\u001b[0m\u001b[0;34m,\u001b[0m \u001b[0mallow_nan\u001b[0m\u001b[0;34m=\u001b[0m\u001b[0mallow_nan\u001b[0m\u001b[0;34m,\u001b[0m \u001b[0mindent\u001b[0m\u001b[0;34m=\u001b[0m\u001b[0mindent\u001b[0m\u001b[0;34m,\u001b[0m\u001b[0;34m\u001b[0m\u001b[0;34m\u001b[0m\u001b[0m\n\u001b[1;32m    237\u001b[0m         \u001b[0mseparators\u001b[0m\u001b[0;34m=\u001b[0m\u001b[0mseparators\u001b[0m\u001b[0;34m,\u001b[0m \u001b[0mdefault\u001b[0m\u001b[0;34m=\u001b[0m\u001b[0mdefault\u001b[0m\u001b[0;34m,\u001b[0m \u001b[0msort_keys\u001b[0m\u001b[0;34m=\u001b[0m\u001b[0msort_keys\u001b[0m\u001b[0;34m,\u001b[0m\u001b[0;34m\u001b[0m\u001b[0;34m\u001b[0m\u001b[0m\n\u001b[0;32m--> 238\u001b[0;31m         **kw).encode(obj)\n\u001b[0m\u001b[1;32m    239\u001b[0m \u001b[0;34m\u001b[0m\u001b[0m\n\u001b[1;32m    240\u001b[0m \u001b[0;34m\u001b[0m\u001b[0m\n",
      "\u001b[0;32m/usr/local/Cellar/python/3.7.5/Frameworks/Python.framework/Versions/3.7/lib/python3.7/json/encoder.py\u001b[0m in \u001b[0;36mencode\u001b[0;34m(self, o)\u001b[0m\n\u001b[1;32m    197\u001b[0m         \u001b[0;31m# exceptions aren't as detailed.  The list call should be roughly\u001b[0m\u001b[0;34m\u001b[0m\u001b[0;34m\u001b[0m\u001b[0;34m\u001b[0m\u001b[0m\n\u001b[1;32m    198\u001b[0m         \u001b[0;31m# equivalent to the PySequence_Fast that ''.join() would do.\u001b[0m\u001b[0;34m\u001b[0m\u001b[0;34m\u001b[0m\u001b[0;34m\u001b[0m\u001b[0m\n\u001b[0;32m--> 199\u001b[0;31m         \u001b[0mchunks\u001b[0m \u001b[0;34m=\u001b[0m \u001b[0mself\u001b[0m\u001b[0;34m.\u001b[0m\u001b[0miterencode\u001b[0m\u001b[0;34m(\u001b[0m\u001b[0mo\u001b[0m\u001b[0;34m,\u001b[0m \u001b[0m_one_shot\u001b[0m\u001b[0;34m=\u001b[0m\u001b[0;32mTrue\u001b[0m\u001b[0;34m)\u001b[0m\u001b[0;34m\u001b[0m\u001b[0;34m\u001b[0m\u001b[0m\n\u001b[0m\u001b[1;32m    200\u001b[0m         \u001b[0;32mif\u001b[0m \u001b[0;32mnot\u001b[0m \u001b[0misinstance\u001b[0m\u001b[0;34m(\u001b[0m\u001b[0mchunks\u001b[0m\u001b[0;34m,\u001b[0m \u001b[0;34m(\u001b[0m\u001b[0mlist\u001b[0m\u001b[0;34m,\u001b[0m \u001b[0mtuple\u001b[0m\u001b[0;34m)\u001b[0m\u001b[0;34m)\u001b[0m\u001b[0;34m:\u001b[0m\u001b[0;34m\u001b[0m\u001b[0;34m\u001b[0m\u001b[0m\n\u001b[1;32m    201\u001b[0m             \u001b[0mchunks\u001b[0m \u001b[0;34m=\u001b[0m \u001b[0mlist\u001b[0m\u001b[0;34m(\u001b[0m\u001b[0mchunks\u001b[0m\u001b[0;34m)\u001b[0m\u001b[0;34m\u001b[0m\u001b[0;34m\u001b[0m\u001b[0m\n",
      "\u001b[0;32m/usr/local/Cellar/python/3.7.5/Frameworks/Python.framework/Versions/3.7/lib/python3.7/json/encoder.py\u001b[0m in \u001b[0;36miterencode\u001b[0;34m(self, o, _one_shot)\u001b[0m\n\u001b[1;32m    255\u001b[0m                 \u001b[0mself\u001b[0m\u001b[0;34m.\u001b[0m\u001b[0mkey_separator\u001b[0m\u001b[0;34m,\u001b[0m \u001b[0mself\u001b[0m\u001b[0;34m.\u001b[0m\u001b[0mitem_separator\u001b[0m\u001b[0;34m,\u001b[0m \u001b[0mself\u001b[0m\u001b[0;34m.\u001b[0m\u001b[0msort_keys\u001b[0m\u001b[0;34m,\u001b[0m\u001b[0;34m\u001b[0m\u001b[0;34m\u001b[0m\u001b[0m\n\u001b[1;32m    256\u001b[0m                 self.skipkeys, _one_shot)\n\u001b[0;32m--> 257\u001b[0;31m         \u001b[0;32mreturn\u001b[0m \u001b[0m_iterencode\u001b[0m\u001b[0;34m(\u001b[0m\u001b[0mo\u001b[0m\u001b[0;34m,\u001b[0m \u001b[0;36m0\u001b[0m\u001b[0;34m)\u001b[0m\u001b[0;34m\u001b[0m\u001b[0;34m\u001b[0m\u001b[0m\n\u001b[0m\u001b[1;32m    258\u001b[0m \u001b[0;34m\u001b[0m\u001b[0m\n\u001b[1;32m    259\u001b[0m def _make_iterencode(markers, _default, _encoder, _indent, _floatstr,\n",
      "\u001b[0;32m/usr/local/lib/python3.7/site-packages/bokeh/core/json_encoder.py\u001b[0m in \u001b[0;36mdefault\u001b[0;34m(self, obj)\u001b[0m\n\u001b[1;32m    259\u001b[0m \u001b[0;34m\u001b[0m\u001b[0m\n\u001b[1;32m    260\u001b[0m         \u001b[0;32melse\u001b[0m\u001b[0;34m:\u001b[0m\u001b[0;34m\u001b[0m\u001b[0;34m\u001b[0m\u001b[0m\n\u001b[0;32m--> 261\u001b[0;31m             \u001b[0;32mreturn\u001b[0m \u001b[0mself\u001b[0m\u001b[0;34m.\u001b[0m\u001b[0mtransform_python_types\u001b[0m\u001b[0;34m(\u001b[0m\u001b[0mobj\u001b[0m\u001b[0;34m)\u001b[0m\u001b[0;34m\u001b[0m\u001b[0;34m\u001b[0m\u001b[0m\n\u001b[0m\u001b[1;32m    262\u001b[0m \u001b[0;34m\u001b[0m\u001b[0m\n\u001b[1;32m    263\u001b[0m \u001b[0;31m#-----------------------------------------------------------------------------\u001b[0m\u001b[0;34m\u001b[0m\u001b[0;34m\u001b[0m\u001b[0;34m\u001b[0m\u001b[0m\n",
      "\u001b[0;32m/usr/local/lib/python3.7/site-packages/bokeh/core/json_encoder.py\u001b[0m in \u001b[0;36mtransform_python_types\u001b[0;34m(self, obj)\u001b[0m\n\u001b[1;32m    226\u001b[0m \u001b[0;34m\u001b[0m\u001b[0m\n\u001b[1;32m    227\u001b[0m         \u001b[0;32melse\u001b[0m\u001b[0;34m:\u001b[0m\u001b[0;34m\u001b[0m\u001b[0;34m\u001b[0m\u001b[0m\n\u001b[0;32m--> 228\u001b[0;31m             \u001b[0;32mreturn\u001b[0m \u001b[0msuper\u001b[0m\u001b[0;34m(\u001b[0m\u001b[0;34m)\u001b[0m\u001b[0;34m.\u001b[0m\u001b[0mdefault\u001b[0m\u001b[0;34m(\u001b[0m\u001b[0mobj\u001b[0m\u001b[0;34m)\u001b[0m\u001b[0;34m\u001b[0m\u001b[0;34m\u001b[0m\u001b[0m\n\u001b[0m\u001b[1;32m    229\u001b[0m \u001b[0;34m\u001b[0m\u001b[0m\n\u001b[1;32m    230\u001b[0m     \u001b[0;32mdef\u001b[0m \u001b[0mdefault\u001b[0m\u001b[0;34m(\u001b[0m\u001b[0mself\u001b[0m\u001b[0;34m,\u001b[0m \u001b[0mobj\u001b[0m\u001b[0;34m)\u001b[0m\u001b[0;34m:\u001b[0m\u001b[0;34m\u001b[0m\u001b[0;34m\u001b[0m\u001b[0m\n",
      "\u001b[0;32m/usr/local/Cellar/python/3.7.5/Frameworks/Python.framework/Versions/3.7/lib/python3.7/json/encoder.py\u001b[0m in \u001b[0;36mdefault\u001b[0;34m(self, o)\u001b[0m\n\u001b[1;32m    177\u001b[0m \u001b[0;34m\u001b[0m\u001b[0m\n\u001b[1;32m    178\u001b[0m         \"\"\"\n\u001b[0;32m--> 179\u001b[0;31m         raise TypeError(f'Object of type {o.__class__.__name__} '\n\u001b[0m\u001b[1;32m    180\u001b[0m                         f'is not JSON serializable')\n\u001b[1;32m    181\u001b[0m \u001b[0;34m\u001b[0m\u001b[0m\n",
      "\u001b[0;31mTypeError\u001b[0m: Object of type Polygon is not JSON serializable"
     ]
    }
   ],
   "source": [
    "# TODO get NAN fill working (known issue in bokeh 2019...)\n",
    "\n",
    "data = merged_subset\n",
    "metric = 'confirmed'\n",
    "\n",
    "start_date = datetime.datetime.date(datetime.datetime.strptime(data['day'].min(), \"%Y-%m-%d\"))\n",
    "end_date = datetime.datetime.date(datetime.datetime.strptime(data['day'].max(), \"%Y-%m-%d\"))\n",
    "\n",
    "#source = prepare_geojsondata(data) # this only works with string dates. Have to use geojsondatasource for mapping.\n",
    "selected_day = end_date\n",
    "source = source_by_date(data, selected_day)\n",
    "\n",
    "palette = Inferno256\n",
    "palette = palette[::-1]\n",
    "vals = data[metric]\n",
    "\n",
    "#Instantiate LinearColorMapper that linearly maps numbers in a range, into a sequence of colors.\n",
    "color_mapper = LinearColorMapper(palette=palette, low=vals.min(), high=vals.max(), nan_color = '#d9d9d9')\n",
    " \n",
    "color_bar = ColorBar(color_mapper=color_mapper, label_standoff=8, #width=500, height=20,\n",
    "                         location=(0,0), orientation='horizontal')\n",
    "\n",
    "TOOLTIPS = [\n",
    "    ('UN country', '@country'),\n",
    "    ('Confirmed', '@confirmed')\n",
    "    #('Deaths', '@deaths')\n",
    "]\n",
    "\n",
    "p = figure(title='World Map', plot_height=400 , plot_width=850, \n",
    "           toolbar_location='right', \n",
    "           tools='wheel_zoom, pan, reset',\n",
    "           tooltips=TOOLTIPS,\n",
    "           x_axis_label='Longitude', y_axis_label='Latitude')\n",
    "\n",
    "p.xgrid.grid_line_color = None\n",
    "p.ygrid.grid_line_color = None\n",
    "\n",
    "p.patches('xs','ys', \n",
    "          source=source,\n",
    "          fill_alpha=1, line_width=0.5, line_color='black',  \n",
    "          fill_color={'field': metric, 'transform': color_mapper})\n",
    "\n",
    "# Specify figure layout.\n",
    "p.add_layout(color_bar, 'below')\n",
    " \n",
    "def callback(attr, old, new):\n",
    "    day = slider.value\n",
    "    new_data = source_by_date(data, day)\n",
    "    source.geojson = new_data.to_json() # overwrite the existing source's geojson\n",
    "    p.title.text = 'Date, %d' %day\n",
    "    \n",
    "\n",
    "date_slider = DateSlider(title='Date', value=end_date, start=start_date, end=end_date, step=1)\n",
    "date_slider.on_change('value', callback)\n",
    "\n",
    "layout = column(date_slider, p)\n",
    "layout = row(widgetbox(date_slider), p)#, sizing_mode='scale_width')\n",
    "\n",
    "#curdoc().add_root(layout)\n",
    "\n",
    "output_notebook()\n",
    "#output_file('slider.html')\n",
    "\n",
    "# layout = column(p)\n",
    "show(layout)\n",
    "\n",
    "#show(p)"
   ]
  },
  {
   "cell_type": "code",
   "execution_count": 30,
   "metadata": {
    "ExecuteTime": {
     "end_time": "2020-03-27T20:20:25.323006Z",
     "start_time": "2020-03-27T20:20:25.320425Z"
    },
    "execution": {
     "iopub.execute_input": "2020-04-24T16:46:47.343464Z",
     "iopub.status.busy": "2020-04-24T16:46:47.343210Z",
     "iopub.status.idle": "2020-04-24T16:46:47.346545Z",
     "shell.execute_reply": "2020-04-24T16:46:47.345711Z",
     "shell.execute_reply.started": "2020-04-24T16:46:47.343422Z"
    }
   },
   "outputs": [],
   "source": [
    "reset_output()"
   ]
  },
  {
   "cell_type": "code",
   "execution_count": 120,
   "metadata": {
    "ExecuteTime": {
     "end_time": "2020-03-28T14:19:51.921500Z",
     "start_time": "2020-03-28T14:19:51.918903Z"
    },
    "scrolled": true
   },
   "outputs": [],
   "source": [
    " # old code keep in case\n",
    "\n",
    "# p = figure(title='World Map', plot_height=600 , plot_width=950, tooltips=TOOLTIPS,\n",
    "#           x_axis_label='Longitude', y_axis_label='Latitude')\n",
    "# p.patches('xs','ys', source=borders_source, fill_color='white', line_color='black', \n",
    "#           hover_fill_color='lightblue', hover_line_color='black')\n",
    "\n",
    "\n",
    "# # # Create a HoverTool: hover\n",
    "# # hover = HoverTool(tooltips=TOOLTIPS)\n",
    "\n",
    "# # # Add the hover tool to the figure p\n",
    "# # p.add_tools(hover)\n",
    "\n",
    "\n",
    "# # # to display in browser (and save)\n",
    "# # output_file('/Users/jdorni/Documents/training/COVID-19/outputs/worldmap.html')\n",
    "# # show(p)\n",
    "\n",
    "\n",
    "# # # to display figure inline in Jupyter Notebook.\n",
    "# # output_notebook()\n",
    "# # show(p) "
   ]
  },
  {
   "cell_type": "markdown",
   "metadata": {},
   "source": [
    "# PLOT 4: tabbed layout (in prog)"
   ]
  },
  {
   "cell_type": "code",
   "execution_count": null,
   "metadata": {
    "scrolled": true
   },
   "outputs": [],
   "source": [
    "from bokeh.models.widgets import Panel, Tabs\n",
    "\n",
    "tab1 = Panel(child=p1, title='Global Cases') # world map to show all countries, with date slider and metric toggle\n",
    "tab2 = Panel(child=p2, title='Country Selector') # drop down to select country, with time series bar chart for each metric, and possibly table of data by province, and map of data by province\n",
    "\n",
    "layout = Tabs(tabs=[tab1, tab2])\n",
    "output_file('tabs.html')\n",
    "show(layout)"
   ]
  },
  {
   "cell_type": "markdown",
   "metadata": {},
   "source": [
    "# PLOT 5: Covid data only (points, no map)"
   ]
  },
  {
   "cell_type": "code",
   "execution_count": 35,
   "metadata": {
    "ExecuteTime": {
     "end_time": "2020-04-08T19:04:11.288952Z",
     "start_time": "2020-04-08T19:04:11.220682Z"
    }
   },
   "outputs": [
    {
     "name": "stdout",
     "output_type": "stream",
     "text": [
      "182 14168\n"
     ]
    },
    {
     "ename": "NameError",
     "evalue": "name 'inferno' is not defined",
     "output_type": "error",
     "traceback": [
      "\u001b[0;31m---------------------------------------------------------------------------\u001b[0m",
      "\u001b[0;31mNameError\u001b[0m                                 Traceback (most recent call last)",
      "\u001b[0;32m<ipython-input-35-1e7ab42f7e7d>\u001b[0m in \u001b[0;36m<module>\u001b[0;34m\u001b[0m\n\u001b[1;32m      7\u001b[0m \u001b[0mn\u001b[0m \u001b[0;34m=\u001b[0m \u001b[0mdata\u001b[0m\u001b[0;34m[\u001b[0m\u001b[0;34m'country'\u001b[0m\u001b[0;34m]\u001b[0m\u001b[0;34m.\u001b[0m\u001b[0mnunique\u001b[0m\u001b[0;34m(\u001b[0m\u001b[0;34m)\u001b[0m\u001b[0;34m\u001b[0m\u001b[0;34m\u001b[0m\u001b[0m\n\u001b[1;32m      8\u001b[0m \u001b[0mprint\u001b[0m\u001b[0;34m(\u001b[0m\u001b[0mn\u001b[0m\u001b[0;34m,\u001b[0m \u001b[0mlen\u001b[0m\u001b[0;34m(\u001b[0m\u001b[0mdata\u001b[0m\u001b[0;34m)\u001b[0m\u001b[0;34m)\u001b[0m\u001b[0;34m\u001b[0m\u001b[0;34m\u001b[0m\u001b[0m\n\u001b[0;32m----> 9\u001b[0;31m \u001b[0mpalette\u001b[0m \u001b[0;34m=\u001b[0m \u001b[0minferno\u001b[0m\u001b[0;34m(\u001b[0m\u001b[0mn\u001b[0m\u001b[0;34m)\u001b[0m\u001b[0;34m\u001b[0m\u001b[0;34m\u001b[0m\u001b[0m\n\u001b[0m\u001b[1;32m     10\u001b[0m \u001b[0mcolor_mapper\u001b[0m \u001b[0;34m=\u001b[0m \u001b[0mCategoricalColorMapper\u001b[0m\u001b[0;34m(\u001b[0m\u001b[0mfactors\u001b[0m\u001b[0;34m=\u001b[0m\u001b[0mdata\u001b[0m\u001b[0;34m[\u001b[0m\u001b[0;34m'country'\u001b[0m\u001b[0;34m]\u001b[0m\u001b[0;34m.\u001b[0m\u001b[0munique\u001b[0m\u001b[0;34m(\u001b[0m\u001b[0;34m)\u001b[0m\u001b[0;34m,\u001b[0m \u001b[0mpalette\u001b[0m\u001b[0;34m=\u001b[0m\u001b[0mpalette\u001b[0m\u001b[0;34m)\u001b[0m\u001b[0;34m\u001b[0m\u001b[0;34m\u001b[0m\u001b[0m\n\u001b[1;32m     11\u001b[0m \u001b[0;34m\u001b[0m\u001b[0m\n",
      "\u001b[0;31mNameError\u001b[0m: name 'inferno' is not defined"
     ]
    }
   ],
   "source": [
    "## points coloured by country (individual reports)\n",
    "\n",
    "data = df.copy()\n",
    "source = ColumnDataSource(data) # convert df to dict of colname: values (note all cols must be same length!)\n",
    "\n",
    "# Make a CategoricalColorMapper \n",
    "n = data['country'].nunique()\n",
    "print(n, len(data))\n",
    "palette = inferno(n)\n",
    "color_mapper = CategoricalColorMapper(factors=data['country'].unique(), palette=palette)\n",
    "\n",
    "TOOLTIPS = [\n",
    "    ('Country', '@country'),\n",
    "    ('Province', '@province'),\n",
    "    ('Confirmed', '@Confirmed'),\n",
    "    ('Deaths', '@Deaths')\n",
    "]\n",
    "\n",
    "p = figure(plot_width=900, plot_height=500, title='test', tooltips=TOOLTIPS,\n",
    "           x_axis_label='Longitude', y_axis_label='Latitude')\n",
    "#p.hover.point_policy = \"follow_mouse\"\n",
    "\n",
    "p.circle('Longitude','Latitude', source=source, \n",
    "         color=dict(field='country', transform=color_mapper), size=5)\n",
    "\n",
    "output_notebook()\n",
    "show(p)"
   ]
  },
  {
   "cell_type": "code",
   "execution_count": 57,
   "metadata": {
    "ExecuteTime": {
     "end_time": "2020-03-20T16:29:12.742817Z",
     "start_time": "2020-03-20T16:29:12.716686Z"
    }
   },
   "outputs": [
    {
     "data": {
      "text/html": [
       "<div>\n",
       "<style scoped>\n",
       "    .dataframe tbody tr th:only-of-type {\n",
       "        vertical-align: middle;\n",
       "    }\n",
       "\n",
       "    .dataframe tbody tr th {\n",
       "        vertical-align: top;\n",
       "    }\n",
       "\n",
       "    .dataframe thead th {\n",
       "        text-align: right;\n",
       "    }\n",
       "</style>\n",
       "<table border=\"1\" class=\"dataframe\">\n",
       "  <thead>\n",
       "    <tr style=\"text-align: right;\">\n",
       "      <th></th>\n",
       "      <th>Country/Region</th>\n",
       "      <th>confirmed</th>\n",
       "      <th>deaths</th>\n",
       "      <th>recovered</th>\n",
       "      <th>Latitude</th>\n",
       "      <th>Longitude</th>\n",
       "      <th>n_rows</th>\n",
       "    </tr>\n",
       "  </thead>\n",
       "  <tbody>\n",
       "    <tr>\n",
       "      <th>0</th>\n",
       "      <td>Afghanistan</td>\n",
       "      <td>22</td>\n",
       "      <td>0</td>\n",
       "      <td>1</td>\n",
       "      <td>33.9391</td>\n",
       "      <td>67.7100</td>\n",
       "      <td>1</td>\n",
       "    </tr>\n",
       "    <tr>\n",
       "      <th>1</th>\n",
       "      <td>Albania</td>\n",
       "      <td>59</td>\n",
       "      <td>2</td>\n",
       "      <td>0</td>\n",
       "      <td>41.1533</td>\n",
       "      <td>20.1683</td>\n",
       "      <td>1</td>\n",
       "    </tr>\n",
       "    <tr>\n",
       "      <th>2</th>\n",
       "      <td>Algeria</td>\n",
       "      <td>74</td>\n",
       "      <td>7</td>\n",
       "      <td>12</td>\n",
       "      <td>28.0339</td>\n",
       "      <td>1.6596</td>\n",
       "      <td>1</td>\n",
       "    </tr>\n",
       "    <tr>\n",
       "      <th>3</th>\n",
       "      <td>Andorra</td>\n",
       "      <td>39</td>\n",
       "      <td>0</td>\n",
       "      <td>1</td>\n",
       "      <td>42.5063</td>\n",
       "      <td>1.5218</td>\n",
       "      <td>1</td>\n",
       "    </tr>\n",
       "    <tr>\n",
       "      <th>4</th>\n",
       "      <td>Antigua and Barbuda</td>\n",
       "      <td>1</td>\n",
       "      <td>0</td>\n",
       "      <td>0</td>\n",
       "      <td>17.0608</td>\n",
       "      <td>-61.7964</td>\n",
       "      <td>1</td>\n",
       "    </tr>\n",
       "    <tr>\n",
       "      <th>5</th>\n",
       "      <td>Argentina</td>\n",
       "      <td>79</td>\n",
       "      <td>2</td>\n",
       "      <td>3</td>\n",
       "      <td>-38.4161</td>\n",
       "      <td>-63.6167</td>\n",
       "      <td>1</td>\n",
       "    </tr>\n",
       "  </tbody>\n",
       "</table>\n",
       "</div>"
      ],
      "text/plain": [
       "        Country/Region  confirmed  deaths  recovered  Latitude  Longitude  \\\n",
       "0          Afghanistan         22       0          1   33.9391    67.7100   \n",
       "1              Albania         59       2          0   41.1533    20.1683   \n",
       "2              Algeria         74       7         12   28.0339     1.6596   \n",
       "3              Andorra         39       0          1   42.5063     1.5218   \n",
       "4  Antigua and Barbuda          1       0          0   17.0608   -61.7964   \n",
       "5            Argentina         79       2          3  -38.4161   -63.6167   \n",
       "\n",
       "   n_rows  \n",
       "0       1  \n",
       "1       1  \n",
       "2       1  \n",
       "3       1  \n",
       "4       1  \n",
       "5       1  "
      ]
     },
     "execution_count": 57,
     "metadata": {},
     "output_type": "execute_result"
    }
   ],
   "source": [
    "# sum provinces to get totals by whole countries  \n",
    "\n",
    "df_agg = df.groupby('country').agg(\n",
    "    confirmed=pd.NamedAgg(column='Confirmed', aggfunc='sum'),\n",
    "    deaths=pd.NamedAgg(column='Deaths', aggfunc='sum'),\n",
    "    recovered=pd.NamedAgg(column='Recovered', aggfunc='sum'),\n",
    "    Latitude=pd.NamedAgg(column='Latitude', aggfunc='mean'),\n",
    "    Longitude=pd.NamedAgg(column='Longitude', aggfunc='mean'),\n",
    "    n_rows=pd.NamedAgg(column='Last Update', aggfunc='count'))\n",
    "\n",
    "df_agg = df_agg.reset_index()\n",
    "df_agg.head(6)"
   ]
  },
  {
   "cell_type": "code",
   "execution_count": 72,
   "metadata": {
    "ExecuteTime": {
     "end_time": "2020-03-20T16:44:15.766203Z",
     "start_time": "2020-03-20T16:44:15.614915Z"
    }
   },
   "outputs": [
    {
     "name": "stdout",
     "output_type": "stream",
     "text": [
      "163 163\n"
     ]
    },
    {
     "data": {
      "text/html": [
       "\n",
       "    <div class=\"bk-root\">\n",
       "        <a href=\"https://bokeh.pydata.org\" target=\"_blank\" class=\"bk-logo bk-logo-small bk-logo-notebook\"></a>\n",
       "        <span id=\"5683\">Loading BokehJS ...</span>\n",
       "    </div>"
      ]
     },
     "metadata": {},
     "output_type": "display_data"
    },
    {
     "data": {
      "application/javascript": [
       "\n",
       "(function(root) {\n",
       "  function now() {\n",
       "    return new Date();\n",
       "  }\n",
       "\n",
       "  var force = true;\n",
       "\n",
       "  if (typeof (root._bokeh_onload_callbacks) === \"undefined\" || force === true) {\n",
       "    root._bokeh_onload_callbacks = [];\n",
       "    root._bokeh_is_loading = undefined;\n",
       "  }\n",
       "\n",
       "  var JS_MIME_TYPE = 'application/javascript';\n",
       "  var HTML_MIME_TYPE = 'text/html';\n",
       "  var EXEC_MIME_TYPE = 'application/vnd.bokehjs_exec.v0+json';\n",
       "  var CLASS_NAME = 'output_bokeh rendered_html';\n",
       "\n",
       "  /**\n",
       "   * Render data to the DOM node\n",
       "   */\n",
       "  function render(props, node) {\n",
       "    var script = document.createElement(\"script\");\n",
       "    node.appendChild(script);\n",
       "  }\n",
       "\n",
       "  /**\n",
       "   * Handle when an output is cleared or removed\n",
       "   */\n",
       "  function handleClearOutput(event, handle) {\n",
       "    var cell = handle.cell;\n",
       "\n",
       "    var id = cell.output_area._bokeh_element_id;\n",
       "    var server_id = cell.output_area._bokeh_server_id;\n",
       "    // Clean up Bokeh references\n",
       "    if (id != null && id in Bokeh.index) {\n",
       "      Bokeh.index[id].model.document.clear();\n",
       "      delete Bokeh.index[id];\n",
       "    }\n",
       "\n",
       "    if (server_id !== undefined) {\n",
       "      // Clean up Bokeh references\n",
       "      var cmd = \"from bokeh.io.state import curstate; print(curstate().uuid_to_server['\" + server_id + \"'].get_sessions()[0].document.roots[0]._id)\";\n",
       "      cell.notebook.kernel.execute(cmd, {\n",
       "        iopub: {\n",
       "          output: function(msg) {\n",
       "            var id = msg.content.text.trim();\n",
       "            if (id in Bokeh.index) {\n",
       "              Bokeh.index[id].model.document.clear();\n",
       "              delete Bokeh.index[id];\n",
       "            }\n",
       "          }\n",
       "        }\n",
       "      });\n",
       "      // Destroy server and session\n",
       "      var cmd = \"import bokeh.io.notebook as ion; ion.destroy_server('\" + server_id + \"')\";\n",
       "      cell.notebook.kernel.execute(cmd);\n",
       "    }\n",
       "  }\n",
       "\n",
       "  /**\n",
       "   * Handle when a new output is added\n",
       "   */\n",
       "  function handleAddOutput(event, handle) {\n",
       "    var output_area = handle.output_area;\n",
       "    var output = handle.output;\n",
       "\n",
       "    // limit handleAddOutput to display_data with EXEC_MIME_TYPE content only\n",
       "    if ((output.output_type != \"display_data\") || (!output.data.hasOwnProperty(EXEC_MIME_TYPE))) {\n",
       "      return\n",
       "    }\n",
       "\n",
       "    var toinsert = output_area.element.find(\".\" + CLASS_NAME.split(' ')[0]);\n",
       "\n",
       "    if (output.metadata[EXEC_MIME_TYPE][\"id\"] !== undefined) {\n",
       "      toinsert[toinsert.length - 1].firstChild.textContent = output.data[JS_MIME_TYPE];\n",
       "      // store reference to embed id on output_area\n",
       "      output_area._bokeh_element_id = output.metadata[EXEC_MIME_TYPE][\"id\"];\n",
       "    }\n",
       "    if (output.metadata[EXEC_MIME_TYPE][\"server_id\"] !== undefined) {\n",
       "      var bk_div = document.createElement(\"div\");\n",
       "      bk_div.innerHTML = output.data[HTML_MIME_TYPE];\n",
       "      var script_attrs = bk_div.children[0].attributes;\n",
       "      for (var i = 0; i < script_attrs.length; i++) {\n",
       "        toinsert[toinsert.length - 1].firstChild.setAttribute(script_attrs[i].name, script_attrs[i].value);\n",
       "      }\n",
       "      // store reference to server id on output_area\n",
       "      output_area._bokeh_server_id = output.metadata[EXEC_MIME_TYPE][\"server_id\"];\n",
       "    }\n",
       "  }\n",
       "\n",
       "  function register_renderer(events, OutputArea) {\n",
       "\n",
       "    function append_mime(data, metadata, element) {\n",
       "      // create a DOM node to render to\n",
       "      var toinsert = this.create_output_subarea(\n",
       "        metadata,\n",
       "        CLASS_NAME,\n",
       "        EXEC_MIME_TYPE\n",
       "      );\n",
       "      this.keyboard_manager.register_events(toinsert);\n",
       "      // Render to node\n",
       "      var props = {data: data, metadata: metadata[EXEC_MIME_TYPE]};\n",
       "      render(props, toinsert[toinsert.length - 1]);\n",
       "      element.append(toinsert);\n",
       "      return toinsert\n",
       "    }\n",
       "\n",
       "    /* Handle when an output is cleared or removed */\n",
       "    events.on('clear_output.CodeCell', handleClearOutput);\n",
       "    events.on('delete.Cell', handleClearOutput);\n",
       "\n",
       "    /* Handle when a new output is added */\n",
       "    events.on('output_added.OutputArea', handleAddOutput);\n",
       "\n",
       "    /**\n",
       "     * Register the mime type and append_mime function with output_area\n",
       "     */\n",
       "    OutputArea.prototype.register_mime_type(EXEC_MIME_TYPE, append_mime, {\n",
       "      /* Is output safe? */\n",
       "      safe: true,\n",
       "      /* Index of renderer in `output_area.display_order` */\n",
       "      index: 0\n",
       "    });\n",
       "  }\n",
       "\n",
       "  // register the mime type if in Jupyter Notebook environment and previously unregistered\n",
       "  if (root.Jupyter !== undefined) {\n",
       "    var events = require('base/js/events');\n",
       "    var OutputArea = require('notebook/js/outputarea').OutputArea;\n",
       "\n",
       "    if (OutputArea.prototype.mime_types().indexOf(EXEC_MIME_TYPE) == -1) {\n",
       "      register_renderer(events, OutputArea);\n",
       "    }\n",
       "  }\n",
       "\n",
       "  \n",
       "  if (typeof (root._bokeh_timeout) === \"undefined\" || force === true) {\n",
       "    root._bokeh_timeout = Date.now() + 5000;\n",
       "    root._bokeh_failed_load = false;\n",
       "  }\n",
       "\n",
       "  var NB_LOAD_WARNING = {'data': {'text/html':\n",
       "     \"<div style='background-color: #fdd'>\\n\"+\n",
       "     \"<p>\\n\"+\n",
       "     \"BokehJS does not appear to have successfully loaded. If loading BokehJS from CDN, this \\n\"+\n",
       "     \"may be due to a slow or bad network connection. Possible fixes:\\n\"+\n",
       "     \"</p>\\n\"+\n",
       "     \"<ul>\\n\"+\n",
       "     \"<li>re-rerun `output_notebook()` to attempt to load from CDN again, or</li>\\n\"+\n",
       "     \"<li>use INLINE resources instead, as so:</li>\\n\"+\n",
       "     \"</ul>\\n\"+\n",
       "     \"<code>\\n\"+\n",
       "     \"from bokeh.resources import INLINE\\n\"+\n",
       "     \"output_notebook(resources=INLINE)\\n\"+\n",
       "     \"</code>\\n\"+\n",
       "     \"</div>\"}};\n",
       "\n",
       "  function display_loaded() {\n",
       "    var el = document.getElementById(\"5683\");\n",
       "    if (el != null) {\n",
       "      el.textContent = \"BokehJS is loading...\";\n",
       "    }\n",
       "    if (root.Bokeh !== undefined) {\n",
       "      if (el != null) {\n",
       "        el.textContent = \"BokehJS \" + root.Bokeh.version + \" successfully loaded.\";\n",
       "      }\n",
       "    } else if (Date.now() < root._bokeh_timeout) {\n",
       "      setTimeout(display_loaded, 100)\n",
       "    }\n",
       "  }\n",
       "\n",
       "\n",
       "  function run_callbacks() {\n",
       "    try {\n",
       "      root._bokeh_onload_callbacks.forEach(function(callback) { callback() });\n",
       "    }\n",
       "    finally {\n",
       "      delete root._bokeh_onload_callbacks\n",
       "    }\n",
       "    console.info(\"Bokeh: all callbacks have finished\");\n",
       "  }\n",
       "\n",
       "  function load_libs(js_urls, callback) {\n",
       "    root._bokeh_onload_callbacks.push(callback);\n",
       "    if (root._bokeh_is_loading > 0) {\n",
       "      console.log(\"Bokeh: BokehJS is being loaded, scheduling callback at\", now());\n",
       "      return null;\n",
       "    }\n",
       "    if (js_urls == null || js_urls.length === 0) {\n",
       "      run_callbacks();\n",
       "      return null;\n",
       "    }\n",
       "    console.log(\"Bokeh: BokehJS not loaded, scheduling load and callback at\", now());\n",
       "    root._bokeh_is_loading = js_urls.length;\n",
       "    for (var i = 0; i < js_urls.length; i++) {\n",
       "      var url = js_urls[i];\n",
       "      var s = document.createElement('script');\n",
       "      s.src = url;\n",
       "      s.async = false;\n",
       "      s.onreadystatechange = s.onload = function() {\n",
       "        root._bokeh_is_loading--;\n",
       "        if (root._bokeh_is_loading === 0) {\n",
       "          console.log(\"Bokeh: all BokehJS libraries loaded\");\n",
       "          run_callbacks()\n",
       "        }\n",
       "      };\n",
       "      s.onerror = function() {\n",
       "        console.warn(\"failed to load library \" + url);\n",
       "      };\n",
       "      console.log(\"Bokeh: injecting script tag for BokehJS library: \", url);\n",
       "      document.getElementsByTagName(\"head\")[0].appendChild(s);\n",
       "    }\n",
       "  };var element = document.getElementById(\"5683\");\n",
       "  if (element == null) {\n",
       "    console.log(\"Bokeh: ERROR: autoload.js configured with elementid '5683' but no matching script tag was found. \")\n",
       "    return false;\n",
       "  }\n",
       "\n",
       "  var js_urls = [\"https://cdn.pydata.org/bokeh/release/bokeh-1.0.4.min.js\", \"https://cdn.pydata.org/bokeh/release/bokeh-widgets-1.0.4.min.js\", \"https://cdn.pydata.org/bokeh/release/bokeh-tables-1.0.4.min.js\", \"https://cdn.pydata.org/bokeh/release/bokeh-gl-1.0.4.min.js\"];\n",
       "\n",
       "  var inline_js = [\n",
       "    function(Bokeh) {\n",
       "      Bokeh.set_log_level(\"info\");\n",
       "    },\n",
       "    \n",
       "    function(Bokeh) {\n",
       "      \n",
       "    },\n",
       "    function(Bokeh) {\n",
       "      console.log(\"Bokeh: injecting CSS: https://cdn.pydata.org/bokeh/release/bokeh-1.0.4.min.css\");\n",
       "      Bokeh.embed.inject_css(\"https://cdn.pydata.org/bokeh/release/bokeh-1.0.4.min.css\");\n",
       "      console.log(\"Bokeh: injecting CSS: https://cdn.pydata.org/bokeh/release/bokeh-widgets-1.0.4.min.css\");\n",
       "      Bokeh.embed.inject_css(\"https://cdn.pydata.org/bokeh/release/bokeh-widgets-1.0.4.min.css\");\n",
       "      console.log(\"Bokeh: injecting CSS: https://cdn.pydata.org/bokeh/release/bokeh-tables-1.0.4.min.css\");\n",
       "      Bokeh.embed.inject_css(\"https://cdn.pydata.org/bokeh/release/bokeh-tables-1.0.4.min.css\");\n",
       "    }\n",
       "  ];\n",
       "\n",
       "  function run_inline_js() {\n",
       "    \n",
       "    if ((root.Bokeh !== undefined) || (force === true)) {\n",
       "      for (var i = 0; i < inline_js.length; i++) {\n",
       "        inline_js[i].call(root, root.Bokeh);\n",
       "      }if (force === true) {\n",
       "        display_loaded();\n",
       "      }} else if (Date.now() < root._bokeh_timeout) {\n",
       "      setTimeout(run_inline_js, 100);\n",
       "    } else if (!root._bokeh_failed_load) {\n",
       "      console.log(\"Bokeh: BokehJS failed to load within specified timeout.\");\n",
       "      root._bokeh_failed_load = true;\n",
       "    } else if (force !== true) {\n",
       "      var cell = $(document.getElementById(\"5683\")).parents('.cell').data().cell;\n",
       "      cell.output_area.append_execute_result(NB_LOAD_WARNING)\n",
       "    }\n",
       "\n",
       "  }\n",
       "\n",
       "  if (root._bokeh_is_loading === 0) {\n",
       "    console.log(\"Bokeh: BokehJS loaded, going straight to plotting\");\n",
       "    run_inline_js();\n",
       "  } else {\n",
       "    load_libs(js_urls, function() {\n",
       "      console.log(\"Bokeh: BokehJS plotting callback run at\", now());\n",
       "      run_inline_js();\n",
       "    });\n",
       "  }\n",
       "}(window));"
      ],
      "application/vnd.bokehjs_load.v0+json": "\n(function(root) {\n  function now() {\n    return new Date();\n  }\n\n  var force = true;\n\n  if (typeof (root._bokeh_onload_callbacks) === \"undefined\" || force === true) {\n    root._bokeh_onload_callbacks = [];\n    root._bokeh_is_loading = undefined;\n  }\n\n  \n\n  \n  if (typeof (root._bokeh_timeout) === \"undefined\" || force === true) {\n    root._bokeh_timeout = Date.now() + 5000;\n    root._bokeh_failed_load = false;\n  }\n\n  var NB_LOAD_WARNING = {'data': {'text/html':\n     \"<div style='background-color: #fdd'>\\n\"+\n     \"<p>\\n\"+\n     \"BokehJS does not appear to have successfully loaded. If loading BokehJS from CDN, this \\n\"+\n     \"may be due to a slow or bad network connection. Possible fixes:\\n\"+\n     \"</p>\\n\"+\n     \"<ul>\\n\"+\n     \"<li>re-rerun `output_notebook()` to attempt to load from CDN again, or</li>\\n\"+\n     \"<li>use INLINE resources instead, as so:</li>\\n\"+\n     \"</ul>\\n\"+\n     \"<code>\\n\"+\n     \"from bokeh.resources import INLINE\\n\"+\n     \"output_notebook(resources=INLINE)\\n\"+\n     \"</code>\\n\"+\n     \"</div>\"}};\n\n  function display_loaded() {\n    var el = document.getElementById(\"5683\");\n    if (el != null) {\n      el.textContent = \"BokehJS is loading...\";\n    }\n    if (root.Bokeh !== undefined) {\n      if (el != null) {\n        el.textContent = \"BokehJS \" + root.Bokeh.version + \" successfully loaded.\";\n      }\n    } else if (Date.now() < root._bokeh_timeout) {\n      setTimeout(display_loaded, 100)\n    }\n  }\n\n\n  function run_callbacks() {\n    try {\n      root._bokeh_onload_callbacks.forEach(function(callback) { callback() });\n    }\n    finally {\n      delete root._bokeh_onload_callbacks\n    }\n    console.info(\"Bokeh: all callbacks have finished\");\n  }\n\n  function load_libs(js_urls, callback) {\n    root._bokeh_onload_callbacks.push(callback);\n    if (root._bokeh_is_loading > 0) {\n      console.log(\"Bokeh: BokehJS is being loaded, scheduling callback at\", now());\n      return null;\n    }\n    if (js_urls == null || js_urls.length === 0) {\n      run_callbacks();\n      return null;\n    }\n    console.log(\"Bokeh: BokehJS not loaded, scheduling load and callback at\", now());\n    root._bokeh_is_loading = js_urls.length;\n    for (var i = 0; i < js_urls.length; i++) {\n      var url = js_urls[i];\n      var s = document.createElement('script');\n      s.src = url;\n      s.async = false;\n      s.onreadystatechange = s.onload = function() {\n        root._bokeh_is_loading--;\n        if (root._bokeh_is_loading === 0) {\n          console.log(\"Bokeh: all BokehJS libraries loaded\");\n          run_callbacks()\n        }\n      };\n      s.onerror = function() {\n        console.warn(\"failed to load library \" + url);\n      };\n      console.log(\"Bokeh: injecting script tag for BokehJS library: \", url);\n      document.getElementsByTagName(\"head\")[0].appendChild(s);\n    }\n  };var element = document.getElementById(\"5683\");\n  if (element == null) {\n    console.log(\"Bokeh: ERROR: autoload.js configured with elementid '5683' but no matching script tag was found. \")\n    return false;\n  }\n\n  var js_urls = [\"https://cdn.pydata.org/bokeh/release/bokeh-1.0.4.min.js\", \"https://cdn.pydata.org/bokeh/release/bokeh-widgets-1.0.4.min.js\", \"https://cdn.pydata.org/bokeh/release/bokeh-tables-1.0.4.min.js\", \"https://cdn.pydata.org/bokeh/release/bokeh-gl-1.0.4.min.js\"];\n\n  var inline_js = [\n    function(Bokeh) {\n      Bokeh.set_log_level(\"info\");\n    },\n    \n    function(Bokeh) {\n      \n    },\n    function(Bokeh) {\n      console.log(\"Bokeh: injecting CSS: https://cdn.pydata.org/bokeh/release/bokeh-1.0.4.min.css\");\n      Bokeh.embed.inject_css(\"https://cdn.pydata.org/bokeh/release/bokeh-1.0.4.min.css\");\n      console.log(\"Bokeh: injecting CSS: https://cdn.pydata.org/bokeh/release/bokeh-widgets-1.0.4.min.css\");\n      Bokeh.embed.inject_css(\"https://cdn.pydata.org/bokeh/release/bokeh-widgets-1.0.4.min.css\");\n      console.log(\"Bokeh: injecting CSS: https://cdn.pydata.org/bokeh/release/bokeh-tables-1.0.4.min.css\");\n      Bokeh.embed.inject_css(\"https://cdn.pydata.org/bokeh/release/bokeh-tables-1.0.4.min.css\");\n    }\n  ];\n\n  function run_inline_js() {\n    \n    if ((root.Bokeh !== undefined) || (force === true)) {\n      for (var i = 0; i < inline_js.length; i++) {\n        inline_js[i].call(root, root.Bokeh);\n      }if (force === true) {\n        display_loaded();\n      }} else if (Date.now() < root._bokeh_timeout) {\n      setTimeout(run_inline_js, 100);\n    } else if (!root._bokeh_failed_load) {\n      console.log(\"Bokeh: BokehJS failed to load within specified timeout.\");\n      root._bokeh_failed_load = true;\n    } else if (force !== true) {\n      var cell = $(document.getElementById(\"5683\")).parents('.cell').data().cell;\n      cell.output_area.append_execute_result(NB_LOAD_WARNING)\n    }\n\n  }\n\n  if (root._bokeh_is_loading === 0) {\n    console.log(\"Bokeh: BokehJS loaded, going straight to plotting\");\n    run_inline_js();\n  } else {\n    load_libs(js_urls, function() {\n      console.log(\"Bokeh: BokehJS plotting callback run at\", now());\n      run_inline_js();\n    });\n  }\n}(window));"
     },
     "metadata": {},
     "output_type": "display_data"
    },
    {
     "data": {
      "text/html": [
       "\n",
       "\n",
       "\n",
       "\n",
       "\n",
       "\n",
       "  <div class=\"bk-root\" id=\"f7bc9785-cffb-4b6f-9d08-3ac974656902\" data-root-id=\"5643\"></div>\n"
      ]
     },
     "metadata": {},
     "output_type": "display_data"
    },
    {
     "data": {
      "application/javascript": [
       "(function(root) {\n",
       "  function embed_document(root) {\n",
       "    \n",
       "  var docs_json = {\"1a490a4a-4b58-4f5b-99d3-70ab44507776\":{\"roots\":{\"references\":[{\"attributes\":{\"below\":[{\"id\":\"5653\",\"type\":\"LinearAxis\"}],\"left\":[{\"id\":\"5658\",\"type\":\"LinearAxis\"}],\"plot_height\":500,\"plot_width\":900,\"renderers\":[{\"id\":\"5653\",\"type\":\"LinearAxis\"},{\"id\":\"5657\",\"type\":\"Grid\"},{\"id\":\"5658\",\"type\":\"LinearAxis\"},{\"id\":\"5662\",\"type\":\"Grid\"},{\"id\":\"5671\",\"type\":\"BoxAnnotation\"},{\"id\":\"5681\",\"type\":\"GlyphRenderer\"}],\"title\":{\"id\":\"5642\",\"type\":\"Title\"},\"toolbar\":{\"id\":\"5669\",\"type\":\"Toolbar\"},\"x_range\":{\"id\":\"5645\",\"type\":\"DataRange1d\"},\"x_scale\":{\"id\":\"5649\",\"type\":\"LinearScale\"},\"y_range\":{\"id\":\"5647\",\"type\":\"DataRange1d\"},\"y_scale\":{\"id\":\"5651\",\"type\":\"LinearScale\"}},\"id\":\"5643\",\"subtype\":\"Figure\",\"type\":\"Plot\"},{\"attributes\":{\"active_drag\":\"auto\",\"active_inspect\":\"auto\",\"active_multi\":null,\"active_scroll\":\"auto\",\"active_tap\":\"auto\",\"tools\":[{\"id\":\"5663\",\"type\":\"PanTool\"},{\"id\":\"5664\",\"type\":\"WheelZoomTool\"},{\"id\":\"5665\",\"type\":\"BoxZoomTool\"},{\"id\":\"5666\",\"type\":\"SaveTool\"},{\"id\":\"5667\",\"type\":\"ResetTool\"},{\"id\":\"5668\",\"type\":\"HelpTool\"}]},\"id\":\"5669\",\"type\":\"Toolbar\"},{\"attributes\":{\"callback\":null},\"id\":\"5647\",\"type\":\"DataRange1d\"},{\"attributes\":{\"callback\":null,\"data\":{\"Country/Region\":[\"Afghanistan\",\"Albania\",\"Algeria\",\"Andorra\",\"Antigua and Barbuda\",\"Argentina\",\"Armenia\",\"Aruba\",\"Australia\",\"Austria\",\"Azerbaijan\",\"Bahrain\",\"Bangladesh\",\"Barbados\",\"Belarus\",\"Belgium\",\"Benin\",\"Bhutan\",\"Bolivia\",\"Bosnia and Herzegovina\",\"Brazil\",\"Brunei\",\"Bulgaria\",\"Burkina Faso\",\"Cambodia\",\"Cameroon\",\"Canada\",\"Central African Republic\",\"Chile\",\"China\",\"Colombia\",\"Congo (Brazzaville)\",\"Congo (Kinshasa)\",\"Costa Rica\",\"Cote d'Ivoire\",\"Croatia\",\"Cruise Ship\",\"Cuba\",\"Cyprus\",\"Czechia\",\"Denmark\",\"Djibouti\",\"Dominican Republic\",\"Ecuador\",\"Egypt\",\"Equatorial Guinea\",\"Estonia\",\"Eswatini\",\"Ethiopia\",\"Finland\",\"France\",\"French Guiana\",\"Gabon\",\"Gambia, The\",\"Georgia\",\"Germany\",\"Ghana\",\"Greece\",\"Greenland\",\"Guadeloupe\",\"Guam\",\"Guatemala\",\"Guernsey\",\"Guinea\",\"Guyana\",\"Holy See\",\"Honduras\",\"Hungary\",\"Iceland\",\"India\",\"Indonesia\",\"Iran\",\"Iraq\",\"Ireland\",\"Israel\",\"Italy\",\"Jamaica\",\"Japan\",\"Jersey\",\"Jordan\",\"Kazakhstan\",\"Kenya\",\"Korea, South\",\"Kosovo\",\"Kuwait\",\"Kyrgyzstan\",\"Latvia\",\"Lebanon\",\"Liberia\",\"Liechtenstein\",\"Lithuania\",\"Luxembourg\",\"Malaysia\",\"Maldives\",\"Malta\",\"Martinique\",\"Mauritania\",\"Mauritius\",\"Mayotte\",\"Mexico\",\"Moldova\",\"Monaco\",\"Mongolia\",\"Montenegro\",\"Morocco\",\"Namibia\",\"Nepal\",\"Netherlands\",\"New Zealand\",\"Nigeria\",\"North Macedonia\",\"Norway\",\"Oman\",\"Pakistan\",\"Panama\",\"Paraguay\",\"Peru\",\"Philippines\",\"Poland\",\"Portugal\",\"Puerto Rico\",\"Qatar\",\"Republic of the Congo\",\"Reunion\",\"Romania\",\"Russia\",\"Rwanda\",\"Saint Lucia\",\"Saint Vincent and the Grenadines\",\"San Marino\",\"Saudi Arabia\",\"Senegal\",\"Serbia\",\"Seychelles\",\"Singapore\",\"Slovakia\",\"Slovenia\",\"Somalia\",\"South Africa\",\"Spain\",\"Sri Lanka\",\"Sudan\",\"Suriname\",\"Sweden\",\"Switzerland\",\"Taiwan*\",\"Tanzania\",\"Thailand\",\"The Bahamas\",\"The Gambia\",\"Togo\",\"Trinidad and Tobago\",\"Tunisia\",\"Turkey\",\"US\",\"Ukraine\",\"United Arab Emirates\",\"United Kingdom\",\"Uruguay\",\"Uzbekistan\",\"Venezuela\",\"Vietnam\",\"Zambia\"],\"Latitude\":{\"__ndarray__\":\"OdbFbTT4QEAIPZtVn5NEQJtVn6utCDxAf/s6cM5ARUDImLuWkA8xQMzuycNCNUPAqRPQRNgIREAm5IOezQopQPWUr967gDjA/Bhz1xLCR0BfB84ZURJEQKmkTkATETpAj8L1KFyvN0CIY13cRmMqQLRZ9bna2kpAKjqSy39ASUBa9bnaip0iQGuad5yigztAmEwVjEpKMMAFNBE2PPVFQLgehetReCzA+THmriUkEkBnRGlv8F1FQAtGJXUCeihAxLEubqMhKUBiEFg5tMgOQLQi1O033khAqFfKMsRxGkDKw0KtadZBwGpd+mVoXUBARiV1AppIEkDJdr6fGi/Nv0i/fR04JxDA5fIf0m9/I0ApXI/C9SgeQM3MzMzMjEZA097gC5O5QUCEDU+vlIU1QHEbDeAtkEFAcT0K16PoSEC8dJMYBIpNQPXb14FzpidAzqrP1Va8MkCU9gZfmEz9v/wYc9cS0jpA78nDQq1p+j+Hp1fKMkxNQPYoXI/ChTrACtejcD1KIkDnHafoSPZOQHe+nxovZRlADeAtkKB4D0BHcvkP6bfpv6UsQxzr4ipARpT2Bl8oRUA+eVioNZVJQPCnxks3yR9Afa62Yn+JQ0C3Yn/ZPe1RQKRwPQrXQzBAwTkjSnvjKkD+1HjpJpEvQJqZmZmZuUhA+THmriXkI0Di6ZWyDHETQHrHKTqS80RAZmZmZmZmLkDNzMzMzJRHQMSxLm6jPVBAnKIjufyXNEAZc9cS8kHpv636XG3FNkBAzTtO0ZGcQECneccpOpJKQHlYqDXNCz9A8rBQa5rvREBApN++DhwyQEMc6+I2GkJAuB6F61GYSECEns2qz5U+QDSAt0CCAkhA7Q2+MJkqmL+Hp1fKMvRBQOlILv8hTUVAxyk6kstPPUC1pnnHKZpEQOPHmLuWcExAE/JBz2btQECfq63YX7YZQGiR7Xw/lUdAofgx5q6VS0DjNhrAW+hIQGQ730+N1xBAyAc9m1WfCUAAAAAAAPhBQJzEILBySC1AbqMBvAUCNUAzMzMzMzM0wEjhehSupynA30+Nl26iN0BNhA1Pr7RHQOauJeSD3kVAZmZmZmZuR0BtVn2utlpFQEI+6Nmsyj9ATKYKRiX1NsC+MJkqGGU8QNiEoftfmzlAiGNd3EZzRMBEi2zn+ykiQD0s1JrmzURAI9v5fmo8TkDwp8ZLN3k1QFUwKqkTYD5A+n5qvHQTIUDhehSuR3E3wOF6FK5HYSLAGJXUCWjCKUCh+DHmrvVJQNDVVuwvs0NAMzMzMzMzMkDtnjws1Fo5QArXo3A9Cve/BcWPMXcdNcApyxDHuvhGQFCNl24Sw05AXdxGA3gL/7/99nXgnNErQNXnaiv29ylADeAtkKD4RUDChqdXyuI3QJEPejar/ixAJzEIrBwCRkBHcvkP6bcSwOC+DpwzovU/EoPAyqFVSEDek4eFWhNHQOviNhrAmxRArBxaZDuPPsDek4eFWjtEQOeMKO0Nfh9ARPrt68C5KUDQs1n1uVoPQHGsi9toEE5AKcsQx7poR0AzMzMzM7M3QGDl0CLbeRnAPQrXo3C9L0AAAAAAAEA4QB4Wak3z7ipAd76fGi89IUDgvg6cM2IlQERpb/CF8UBA3pOHhVp7Q0DOMSK3wuJCQBsN4C2QMEhAzTtO0ZFsN0D9h/Tb17FBQKUsQxzrQkDAuB6F61GwREDgLZCg+LEZQK62Yn/ZHSxAhXzQs1nVLsA=\",\"dtype\":\"float64\",\"shape\":[163]},\"Longitude\":{\"__ndarray__\":\"PQrXo3DtUECz6nO1FSs0QMsQx7q4jfo/Rdjw9EpZ+D9nRGlv8OVOwLu4jQbwzk/AhlrTvOOERkDgLZCg+H1RwI55WWLHoWFAKA8LtaYZLUD9h/Tb18lHQFZ9rrZiR0lAJuSDns2WVkD2l92Th8VNwKMBvAUS9DtAxY8xdy3hEUBJnYAmwoYCQOviNhrAm1ZA3pOHhVrLT8CutmJ/2a0xQJF++zpw9knAJlMFo5KuXECVZYhjXXw5QAfwFkhQ/Pi/gZVDi2w/WkCppE5AEwEnQJNrVT5CU1bAxty1hHzwNECYbhKDwOJRwA2qvKDK61tAdEaU9gaTUsBkzF1LyKcvQKd5xyk6wjVAnDOitDfwVMAAkX77OjAWwGZmZmZmZi5AiGNd3EZ1YUCn6Egu/3FTwHRGlPYGt0BAGQRWDi3yLkC2HoXrUbj0PxZqTfOOS0VAysNCrWmKUcCIhVrTvItTwD0K16NwzT5AYTJVMCqJJEDBOSNKewM5QNc07zhFdz9A9GxWfa4+REAB3gIJir85QFwgQfFj9EHAHOviNhqQSsBkXdxGAzgnQK36XG3Fni7Aofgx5q6tRUC6SQwCK+ckQHRGlPYGX/C/whcmUwXTNUCFfNCzWU1FwEoMAiuHxk7AutqK/WUZYkCt+lxtxY5WwKRwPQrXowTAhslUwahkI8CeXinLEHdNwEcDeAsk6ChAwTkjSnuPVcCpE9BE2IAzQL7BFyZTBTPAYVRSJ6C9U0CCc0aU9npcQPLSTWIQ2EpAHhZqTfPWRUAUP8bctcQewAWjkjoBbUFANIC3QIIiKUDXo3A9ClNTwBKlvcEXSGFA4XoUrkfhAMDmriXkgx5CQCzUmuYdu1BATtGRXP7zQkBb07zjFPFfQLpJDAIr5zRAPZtVn6u9R0DMXUvIB7FSQHzysFBrmjhAn6ut2F/uQUCWQ4ts59siwJVliGNdHCNA/fZ14JzhN0AUP8bctYQYQPXb14FzfllAio7k8h9OUkA51sVtNMAsQBdIUPwYg07AUiegibDhJcAAAAAAAMBMQDBMpgpGlUZApU5AE2GjWcBYyjLEsV48QMKGp1fKsh1AfGEyVTD2WUBWn6ut2F8zQDtwzojSXhzAWvW52op9MkAOLbKd7wdVQD98hl0BSkbAMQisHFrcZUBE+u3rwFkhQHS1FfvLvjVAVTAqqRPwIEBbQj7o2fxLQGB2Tx4WVlFA54wo7Q0yVMB/+zpwzjhNwIy5awn5wFLAqMZLN4lxXkBMpgpGJSUzQG3n+6nxciDAAAAAAACgUMAB3gIJipdJQOkmMQisHC9AhslUwajES0DWxW00gPc4QL99HThnVFpAcvkP6bffPUD3Bl+YTH1OwKK0N/jCpE7AtTf4wmTqKEDu68A5I4pGQLprCfmg5yzA4QuTqYIBNUDl0CLb+b5LQLFQa5p39FlAbef7qfGyM0AEVg4tsv0tQAskKH6MGUdAAAAAAADwNkA8TtGRXP4NwGHD0ytlMVRAD5wzorQ3PkAWak3zjgNMwNv5fmq8pDJAFK5H4Xp0IEAAAAAAAEBeQKhXyjLEcUFA7FG4HoU/WUAAAAAAAABTwJqZmZmZmTDAorQ3+MJk6j8UrkfhepxOwDMzMzMzEyNA845TdCSfQUAJZuiiuhRVwLU3+MJkKj9AP8bctYTsSkCze/KwUOs+wG6jAbwF4kvAU5YhjnUlUEDgnBGlvaVQwOCcEaW9EVtA8fRKWYZIPEA=\",\"dtype\":\"float64\",\"shape\":[163]},\"confirmed\":[22,59,74,39,1,79,84,4,568,1646,28,256,14,2,51,1486,2,1,12,38,372,68,92,20,35,10,657,1,238,81102,93,1,4,50,6,81,712,7,49,464,1115,1,21,111,196,4,258,1,6,336,9052,11,1,1,38,12327,7,418,1,27,0,6,0,1,7,1,9,58,250,156,227,17361,164,292,433,35713,13,889,0,52,35,3,8413,2,142,3,71,133,2,28,27,203,790,13,38,19,1,3,3,93,30,7,6,1,49,2,1,2056,20,8,35,1550,39,299,86,11,145,202,251,448,0,452,0,12,260,147,8,2,1,119,171,31,83,4,313,105,275,1,116,13910,51,2,1,1279,3028,100,3,212,1,0,1,7,29,98,7786,14,113,2642,50,15,36,75,2],\"deaths\":[0,2,7,0,0,2,0,0,6,4,1,1,1,0,0,14,0,0,0,0,3,0,2,1,0,0,8,0,0,3241,0,0,0,0,0,0,7,1,0,0,4,0,1,2,6,0,0,0,0,0,148,0,0,0,0,28,0,5,0,0,0,1,0,0,1,0,0,1,1,3,19,1135,12,2,0,2978,0,29,0,0,0,0,84,0,0,0,0,3,0,0,0,2,2,0,0,1,0,0,0,0,1,0,0,0,2,0,0,58,0,0,0,6,0,0,1,0,0,19,5,2,0,0,0,0,0,0,0,0,0,11,0,0,0,0,0,1,1,0,0,623,0,1,0,10,28,1,0,1,0,0,0,0,0,1,118,2,0,72,0,0,0,0,0],\"index\":[0,1,2,3,4,5,6,7,8,9,10,11,12,13,14,15,16,17,18,19,20,21,22,23,24,25,26,27,28,29,30,31,32,33,34,35,36,37,38,39,40,41,42,43,44,45,46,47,48,49,50,51,52,53,54,55,56,57,58,59,60,61,62,63,64,65,66,67,68,69,70,71,72,73,74,75,76,77,78,79,80,81,82,83,84,85,86,87,88,89,90,91,92,93,94,95,96,97,98,99,100,101,102,103,104,105,106,107,108,109,110,111,112,113,114,115,116,117,118,119,120,121,122,123,124,125,126,127,128,129,130,131,132,133,134,135,136,137,138,139,140,141,142,143,144,145,146,147,148,149,150,151,152,153,154,155,156,157,158,159,160,161,162],\"n_rows\":[1,1,1,1,1,1,1,1,9,1,1,1,1,1,1,1,1,1,1,1,1,1,1,1,1,1,11,1,1,33,1,1,1,1,1,1,1,1,1,1,2,1,1,1,1,1,1,1,1,1,8,1,1,1,1,1,1,1,1,1,1,1,1,1,1,1,1,1,1,1,1,1,1,1,1,1,1,1,1,1,1,1,1,1,1,1,1,1,1,1,1,1,1,1,1,1,1,1,1,1,1,1,1,1,1,1,1,3,1,1,1,1,1,1,1,1,1,1,1,1,1,1,1,1,1,1,1,1,1,1,1,1,1,1,1,1,1,1,1,1,1,1,1,1,1,1,1,1,1,1,1,1,1,1,58,1,1,5,1,1,1,1,1],\"recovered\":[1,0,12,1,0,3,1,0,23,9,6,88,3,0,5,31,0,0,0,2,2,0,0,0,1,0,9,0,0,69755,1,0,0,0,1,4,325,0,0,3,1,0,0,0,32,0,1,0,0,10,12,0,0,0,1,105,0,8,0,0,0,0,0,0,0,0,0,2,5,14,11,5389,43,5,11,4025,2,144,0,1,0,0,1540,0,15,0,1,3,0,0,1,0,60,0,2,0,0,0,0,4,1,0,0,0,1,0,1,2,0,1,1,1,12,2,0,0,1,5,13,3,0,4,0,0,19,8,0,0,0,4,6,2,1,0,114,0,0,0,0,1081,1,0,0,1,15,22,0,42,0,0,0,0,0,0,106,0,26,67,0,0,0,16,0]},\"selected\":{\"id\":\"5881\",\"type\":\"Selection\"},\"selection_policy\":{\"id\":\"5882\",\"type\":\"UnionRenderers\"}},\"id\":\"5640\",\"type\":\"ColumnDataSource\"},{\"attributes\":{},\"id\":\"5663\",\"type\":\"PanTool\"},{\"attributes\":{},\"id\":\"5654\",\"type\":\"BasicTicker\"},{\"attributes\":{\"plot\":null,\"text\":\"test\"},\"id\":\"5642\",\"type\":\"Title\"},{\"attributes\":{},\"id\":\"5664\",\"type\":\"WheelZoomTool\"},{\"attributes\":{\"overlay\":{\"id\":\"5671\",\"type\":\"BoxAnnotation\"}},\"id\":\"5665\",\"type\":\"BoxZoomTool\"},{\"attributes\":{},\"id\":\"5882\",\"type\":\"UnionRenderers\"},{\"attributes\":{\"fill_alpha\":{\"value\":0.1},\"fill_color\":{\"value\":\"#1f77b4\"},\"line_alpha\":{\"value\":0.1},\"line_color\":{\"value\":\"#1f77b4\"},\"size\":{\"units\":\"screen\",\"value\":5},\"x\":{\"field\":\"Longitude\"},\"y\":{\"field\":\"Latitude\"}},\"id\":\"5680\",\"type\":\"Circle\"},{\"attributes\":{},\"id\":\"5666\",\"type\":\"SaveTool\"},{\"attributes\":{},\"id\":\"5649\",\"type\":\"LinearScale\"},{\"attributes\":{},\"id\":\"5667\",\"type\":\"ResetTool\"},{\"attributes\":{\"data_source\":{\"id\":\"5640\",\"type\":\"ColumnDataSource\"},\"glyph\":{\"id\":\"5679\",\"type\":\"Circle\"},\"hover_glyph\":null,\"muted_glyph\":null,\"nonselection_glyph\":{\"id\":\"5680\",\"type\":\"Circle\"},\"selection_glyph\":null,\"view\":{\"id\":\"5682\",\"type\":\"CDSView\"}},\"id\":\"5681\",\"type\":\"GlyphRenderer\"},{\"attributes\":{},\"id\":\"5668\",\"type\":\"HelpTool\"},{\"attributes\":{},\"id\":\"5659\",\"type\":\"BasicTicker\"},{\"attributes\":{\"dimension\":1,\"plot\":{\"id\":\"5643\",\"subtype\":\"Figure\",\"type\":\"Plot\"},\"ticker\":{\"id\":\"5659\",\"type\":\"BasicTicker\"}},\"id\":\"5662\",\"type\":\"Grid\"},{\"attributes\":{\"axis_label\":\"X\",\"formatter\":{\"id\":\"5878\",\"type\":\"BasicTickFormatter\"},\"plot\":{\"id\":\"5643\",\"subtype\":\"Figure\",\"type\":\"Plot\"},\"ticker\":{\"id\":\"5654\",\"type\":\"BasicTicker\"}},\"id\":\"5653\",\"type\":\"LinearAxis\"},{\"attributes\":{\"callback\":null},\"id\":\"5645\",\"type\":\"DataRange1d\"},{\"attributes\":{},\"id\":\"5881\",\"type\":\"Selection\"},{\"attributes\":{\"axis_label\":\"y\",\"formatter\":{\"id\":\"5880\",\"type\":\"BasicTickFormatter\"},\"plot\":{\"id\":\"5643\",\"subtype\":\"Figure\",\"type\":\"Plot\"},\"ticker\":{\"id\":\"5659\",\"type\":\"BasicTicker\"}},\"id\":\"5658\",\"type\":\"LinearAxis\"},{\"attributes\":{\"bottom_units\":\"screen\",\"fill_alpha\":{\"value\":0.5},\"fill_color\":{\"value\":\"lightgrey\"},\"left_units\":\"screen\",\"level\":\"overlay\",\"line_alpha\":{\"value\":1.0},\"line_color\":{\"value\":\"black\"},\"line_dash\":[4,4],\"line_width\":{\"value\":2},\"plot\":null,\"render_mode\":\"css\",\"right_units\":\"screen\",\"top_units\":\"screen\"},\"id\":\"5671\",\"type\":\"BoxAnnotation\"},{\"attributes\":{},\"id\":\"5878\",\"type\":\"BasicTickFormatter\"},{\"attributes\":{\"fill_color\":{\"field\":\"Country/Region\",\"transform\":{\"id\":\"5641\",\"type\":\"CategoricalColorMapper\"}},\"line_color\":{\"field\":\"Country/Region\",\"transform\":{\"id\":\"5641\",\"type\":\"CategoricalColorMapper\"}},\"size\":{\"units\":\"screen\",\"value\":5},\"x\":{\"field\":\"Longitude\"},\"y\":{\"field\":\"Latitude\"}},\"id\":\"5679\",\"type\":\"Circle\"},{\"attributes\":{\"plot\":{\"id\":\"5643\",\"subtype\":\"Figure\",\"type\":\"Plot\"},\"ticker\":{\"id\":\"5654\",\"type\":\"BasicTicker\"}},\"id\":\"5657\",\"type\":\"Grid\"},{\"attributes\":{\"source\":{\"id\":\"5640\",\"type\":\"ColumnDataSource\"}},\"id\":\"5682\",\"type\":\"CDSView\"},{\"attributes\":{\"factors\":[\"Afghanistan\",\"Albania\",\"Algeria\",\"Andorra\",\"Antigua and Barbuda\",\"Argentina\",\"Armenia\",\"Aruba\",\"Australia\",\"Austria\",\"Azerbaijan\",\"Bahrain\",\"Bangladesh\",\"Barbados\",\"Belarus\",\"Belgium\",\"Benin\",\"Bhutan\",\"Bolivia\",\"Bosnia and Herzegovina\",\"Brazil\",\"Brunei\",\"Bulgaria\",\"Burkina Faso\",\"Cambodia\",\"Cameroon\",\"Canada\",\"Central African Republic\",\"Chile\",\"China\",\"Colombia\",\"Congo (Brazzaville)\",\"Congo (Kinshasa)\",\"Costa Rica\",\"Cote d'Ivoire\",\"Croatia\",\"Cruise Ship\",\"Cuba\",\"Cyprus\",\"Czechia\",\"Denmark\",\"Djibouti\",\"Dominican Republic\",\"Ecuador\",\"Egypt\",\"Equatorial Guinea\",\"Estonia\",\"Eswatini\",\"Ethiopia\",\"Finland\",\"France\",\"French Guiana\",\"Gabon\",\"Gambia, The\",\"Georgia\",\"Germany\",\"Ghana\",\"Greece\",\"Greenland\",\"Guadeloupe\",\"Guam\",\"Guatemala\",\"Guernsey\",\"Guinea\",\"Guyana\",\"Holy See\",\"Honduras\",\"Hungary\",\"Iceland\",\"India\",\"Indonesia\",\"Iran\",\"Iraq\",\"Ireland\",\"Israel\",\"Italy\",\"Jamaica\",\"Japan\",\"Jersey\",\"Jordan\",\"Kazakhstan\",\"Kenya\",\"Korea, South\",\"Kosovo\",\"Kuwait\",\"Kyrgyzstan\",\"Latvia\",\"Lebanon\",\"Liberia\",\"Liechtenstein\",\"Lithuania\",\"Luxembourg\",\"Malaysia\",\"Maldives\",\"Malta\",\"Martinique\",\"Mauritania\",\"Mauritius\",\"Mayotte\",\"Mexico\",\"Moldova\",\"Monaco\",\"Mongolia\",\"Montenegro\",\"Morocco\",\"Namibia\",\"Nepal\",\"Netherlands\",\"New Zealand\",\"Nigeria\",\"North Macedonia\",\"Norway\",\"Oman\",\"Pakistan\",\"Panama\",\"Paraguay\",\"Peru\",\"Philippines\",\"Poland\",\"Portugal\",\"Puerto Rico\",\"Qatar\",\"Republic of the Congo\",\"Reunion\",\"Romania\",\"Russia\",\"Rwanda\",\"Saint Lucia\",\"Saint Vincent and the Grenadines\",\"San Marino\",\"Saudi Arabia\",\"Senegal\",\"Serbia\",\"Seychelles\",\"Singapore\",\"Slovakia\",\"Slovenia\",\"Somalia\",\"South Africa\",\"Spain\",\"Sri Lanka\",\"Sudan\",\"Suriname\",\"Sweden\",\"Switzerland\",\"Taiwan*\",\"Tanzania\",\"Thailand\",\"The Bahamas\",\"The Gambia\",\"Togo\",\"Trinidad and Tobago\",\"Tunisia\",\"Turkey\",\"US\",\"Ukraine\",\"United Arab Emirates\",\"United Kingdom\",\"Uruguay\",\"Uzbekistan\",\"Venezuela\",\"Vietnam\",\"Zambia\"],\"palette\":[\"#000003\",\"#000004\",\"#010007\",\"#010109\",\"#02010E\",\"#020210\",\"#040314\",\"#050418\",\"#06041B\",\"#08061F\",\"#090621\",\"#0B0726\",\"#0D0828\",\"#0F092D\",\"#120A32\",\"#130A34\",\"#160B39\",\"#170B3B\",\"#1A0B40\",\"#1C0C43\",\"#1F0C47\",\"#220B4C\",\"#240B4E\",\"#270B52\",\"#290B54\",\"#2D0A58\",\"#2E0A5A\",\"#32095D\",\"#350960\",\"#370961\",\"#3B0964\",\"#3C0965\",\"#400966\",\"#410967\",\"#450A69\",\"#480B6A\",\"#4A0B6A\",\"#4D0C6B\",\"#4F0D6C\",\"#520E6C\",\"#530E6D\",\"#570F6D\",\"#5A116D\",\"#5B116E\",\"#5F126E\",\"#60136E\",\"#63146E\",\"#65156E\",\"#68166E\",\"#6B176E\",\"#6D186E\",\"#70196E\",\"#72196D\",\"#751B6D\",\"#781C6D\",\"#7A1C6D\",\"#7D1D6C\",\"#7E1E6C\",\"#811F6B\",\"#83206B\",\"#86216A\",\"#892269\",\"#8B2269\",\"#8E2468\",\"#902468\",\"#932567\",\"#952666\",\"#982765\",\"#9B2864\",\"#9C2963\",\"#A02A62\",\"#A12B61\",\"#A42C60\",\"#A62C5F\",\"#A92E5E\",\"#AC2F5C\",\"#AE305B\",\"#B1315A\",\"#B23259\",\"#B53357\",\"#B73456\",\"#BA3655\",\"#BD3753\",\"#BE3852\",\"#C13A50\",\"#C23B4F\",\"#C53D4D\",\"#C73E4C\",\"#C93F4A\",\"#CC4148\",\"#CD4247\",\"#D04544\",\"#D14643\",\"#D44841\",\"#D54940\",\"#D74B3E\",\"#DA4E3B\",\"#DB4F3A\",\"#DD5238\",\"#DE5337\",\"#E05634\",\"#E25733\",\"#E45A31\",\"#E65C2E\",\"#E65E2D\",\"#E8612B\",\"#E9622A\",\"#EB6527\",\"#ED6825\",\"#ED6A23\",\"#EF6D21\",\"#F06F1F\",\"#F1721D\",\"#F2741C\",\"#F37719\",\"#F47A16\",\"#F57C15\",\"#F68012\",\"#F68111\",\"#F7850E\",\"#F8870D\",\"#F88A0B\",\"#F98E08\",\"#F99008\",\"#FA9306\",\"#FA9506\",\"#FB9906\",\"#FB9B06\",\"#FB9E07\",\"#FBA208\",\"#FBA40A\",\"#FBA80D\",\"#FBAA0E\",\"#FBAE12\",\"#FBB014\",\"#FBB318\",\"#FBB71C\",\"#FBB91E\",\"#FABD23\",\"#FABF25\",\"#F9C32A\",\"#F9C52C\",\"#F8C931\",\"#F8CD37\",\"#F7CF3A\",\"#F6D33F\",\"#F6D542\",\"#F5D948\",\"#F4DB4B\",\"#F3DE52\",\"#F3E259\",\"#F2E45D\",\"#F1E864\",\"#F1E968\",\"#F1ED70\",\"#F1EE74\",\"#F1F27D\",\"#F2F485\",\"#F3F689\",\"#F5F891\",\"#F6FA95\",\"#F9FC9D\",\"#FCFEA4\"]},\"id\":\"5641\",\"type\":\"CategoricalColorMapper\"},{\"attributes\":{},\"id\":\"5880\",\"type\":\"BasicTickFormatter\"},{\"attributes\":{},\"id\":\"5651\",\"type\":\"LinearScale\"}],\"root_ids\":[\"5643\"]},\"title\":\"Bokeh Application\",\"version\":\"1.0.4\"}};\n",
       "  var render_items = [{\"docid\":\"1a490a4a-4b58-4f5b-99d3-70ab44507776\",\"roots\":{\"5643\":\"f7bc9785-cffb-4b6f-9d08-3ac974656902\"}}];\n",
       "  root.Bokeh.embed.embed_items_notebook(docs_json, render_items);\n",
       "\n",
       "  }\n",
       "  if (root.Bokeh !== undefined) {\n",
       "    embed_document(root);\n",
       "  } else {\n",
       "    var attempts = 0;\n",
       "    var timer = setInterval(function(root) {\n",
       "      if (root.Bokeh !== undefined) {\n",
       "        embed_document(root);\n",
       "        clearInterval(timer);\n",
       "      }\n",
       "      attempts++;\n",
       "      if (attempts > 100) {\n",
       "        console.log(\"Bokeh: ERROR: Unable to run BokehJS code because BokehJS library is missing\");\n",
       "        clearInterval(timer);\n",
       "      }\n",
       "    }, 10, root)\n",
       "  }\n",
       "})(window);"
      ],
      "application/vnd.bokehjs_exec.v0+json": ""
     },
     "metadata": {
      "application/vnd.bokehjs_exec.v0+json": {
       "id": "5643"
      }
     },
     "output_type": "display_data"
    }
   ],
   "source": [
    "# points coloured by number of cases (in prog)\n",
    "\n",
    "\n",
    "data = df_agg.copy()\n",
    "source = ColumnDataSource(data)\n",
    "\n",
    "# Create a ColumnDataSource from df: source\n",
    "source = ColumnDataSource(data)  \n",
    " \n",
    "# Make a CategoricalColorMapper \n",
    "n = data['Country/Region'].nunique()\n",
    "print(n, len(data))\n",
    "palette = inferno(n)\n",
    "color_mapper = CategoricalColorMapper(factors=data['Country/Region'].unique(), palette=palette)\n",
    "\n",
    "p = figure(plot_width=900, plot_height=500, title='test', x_axis_label='Longitude', y_axis_label='Latitude')\n",
    "\n",
    "p.circle('Longitude','Latitude', source=source, \n",
    "         color=dict(field='Country/Region', transform=color_mapper), size=5)\n",
    "\n",
    "output_notebook()\n",
    "show(p)"
   ]
  },
  {
   "cell_type": "markdown",
   "metadata": {},
   "source": [
    "# Geopandas world map"
   ]
  },
  {
   "cell_type": "code",
   "execution_count": 5,
   "metadata": {
    "ExecuteTime": {
     "end_time": "2020-03-20T14:23:26.827311Z",
     "start_time": "2020-03-20T14:23:26.795666Z"
    }
   },
   "outputs": [],
   "source": [
    "world = gpd.read_file(gpd.datasets.get_path('naturalearth_lowres'))"
   ]
  },
  {
   "cell_type": "code",
   "execution_count": 10,
   "metadata": {
    "ExecuteTime": {
     "end_time": "2020-03-20T14:25:26.341617Z",
     "start_time": "2020-03-20T14:25:26.336841Z"
    }
   },
   "outputs": [
    {
     "data": {
      "text/plain": [
       "177"
      ]
     },
     "execution_count": 10,
     "metadata": {},
     "output_type": "execute_result"
    }
   ],
   "source": [
    "world.name.nunique()"
   ]
  },
  {
   "cell_type": "code",
   "execution_count": 11,
   "metadata": {
    "ExecuteTime": {
     "end_time": "2020-03-20T14:25:28.826658Z",
     "start_time": "2020-03-20T14:25:28.590046Z"
    }
   },
   "outputs": [
    {
     "data": {
      "image/png": "[encoded data removed]",
      "text/plain": [
       "<Figure size 432x288 with 1 Axes>"
      ]
     },
     "metadata": {
      "needs_background": "light"
     },
     "output_type": "display_data"
    }
   ],
   "source": [
    "world.plot();"
   ]
  },
  {
   "cell_type": "markdown",
   "metadata": {
    "ExecuteTime": {
     "end_time": "2020-03-20T14:24:07.177613Z",
     "start_time": "2020-03-20T14:24:03.563514Z"
    }
   },
   "source": [
    "# Time series"
   ]
  },
  {
   "cell_type": "code",
   "execution_count": 36,
   "metadata": {
    "ExecuteTime": {
     "end_time": "2020-04-08T19:04:41.666267Z",
     "start_time": "2020-04-08T19:04:41.646990Z"
    }
   },
   "outputs": [
    {
     "data": {
      "text/html": [
       "<div>\n",
       "<style scoped>\n",
       "    .dataframe tbody tr th:only-of-type {\n",
       "        vertical-align: middle;\n",
       "    }\n",
       "\n",
       "    .dataframe tbody tr th {\n",
       "        vertical-align: top;\n",
       "    }\n",
       "\n",
       "    .dataframe thead th {\n",
       "        text-align: right;\n",
       "    }\n",
       "</style>\n",
       "<table border=\"1\" class=\"dataframe\">\n",
       "  <thead>\n",
       "    <tr style=\"text-align: right;\">\n",
       "      <th></th>\n",
       "      <th>country</th>\n",
       "      <th>day</th>\n",
       "      <th>confirmed</th>\n",
       "      <th>deaths</th>\n",
       "      <th>recovered</th>\n",
       "      <th>country_original</th>\n",
       "    </tr>\n",
       "  </thead>\n",
       "  <tbody>\n",
       "    <tr>\n",
       "      <th>10025</th>\n",
       "      <td>United Kingdom</td>\n",
       "      <td>2020-01-22</td>\n",
       "      <td>0.0</td>\n",
       "      <td>0.0</td>\n",
       "      <td>0.0</td>\n",
       "      <td>United Kingdom</td>\n",
       "    </tr>\n",
       "    <tr>\n",
       "      <th>10026</th>\n",
       "      <td>United Kingdom</td>\n",
       "      <td>2020-01-23</td>\n",
       "      <td>0.0</td>\n",
       "      <td>0.0</td>\n",
       "      <td>0.0</td>\n",
       "      <td>United Kingdom</td>\n",
       "    </tr>\n",
       "    <tr>\n",
       "      <th>10027</th>\n",
       "      <td>United Kingdom</td>\n",
       "      <td>2020-01-24</td>\n",
       "      <td>0.0</td>\n",
       "      <td>0.0</td>\n",
       "      <td>0.0</td>\n",
       "      <td>United Kingdom</td>\n",
       "    </tr>\n",
       "    <tr>\n",
       "      <th>10028</th>\n",
       "      <td>United Kingdom</td>\n",
       "      <td>2020-01-25</td>\n",
       "      <td>0.0</td>\n",
       "      <td>0.0</td>\n",
       "      <td>0.0</td>\n",
       "      <td>United Kingdom</td>\n",
       "    </tr>\n",
       "    <tr>\n",
       "      <th>10029</th>\n",
       "      <td>United Kingdom</td>\n",
       "      <td>2020-01-26</td>\n",
       "      <td>0.0</td>\n",
       "      <td>0.0</td>\n",
       "      <td>0.0</td>\n",
       "      <td>United Kingdom</td>\n",
       "    </tr>\n",
       "  </tbody>\n",
       "</table>\n",
       "</div>"
      ],
      "text/plain": [
       "              country        day  confirmed  deaths  recovered  \\\n",
       "10025  United Kingdom 2020-01-22        0.0     0.0        0.0   \n",
       "10026  United Kingdom 2020-01-23        0.0     0.0        0.0   \n",
       "10027  United Kingdom 2020-01-24        0.0     0.0        0.0   \n",
       "10028  United Kingdom 2020-01-25        0.0     0.0        0.0   \n",
       "10029  United Kingdom 2020-01-26        0.0     0.0        0.0   \n",
       "\n",
       "      country_original  \n",
       "10025   United Kingdom  \n",
       "10026   United Kingdom  \n",
       "10027   United Kingdom  \n",
       "10028   United Kingdom  \n",
       "10029   United Kingdom  "
      ]
     },
     "execution_count": 36,
     "metadata": {},
     "output_type": "execute_result"
    }
   ],
   "source": [
    "# source for plotting bars\n",
    "\n",
    "# subset by country\n",
    "country_key = 'United Kingdom'\n",
    "merged_subset = merged.loc[merged['country'] == country_key].copy()\n",
    "\n",
    "# convert day strings to datetimes for plotting as time series\n",
    "merged_subset['day'] = pd.to_datetime(merged_subset['day'])\n",
    "merged_subset.drop('geometry', axis=1, inplace=True)\n",
    "merged_subset.head()"
   ]
  },
  {
   "cell_type": "code",
   "execution_count": 38,
   "metadata": {
    "ExecuteTime": {
     "end_time": "2020-04-08T19:04:58.755473Z",
     "start_time": "2020-04-08T19:04:58.705505Z"
    }
   },
   "outputs": [
    {
     "data": {
      "text/html": [
       "\n",
       "    <div class=\"bk-root\">\n",
       "        <a href=\"https://bokeh.org\" target=\"_blank\" class=\"bk-logo bk-logo-small bk-logo-notebook\"></a>\n",
       "        <span id=\"1229\">Loading BokehJS ...</span>\n",
       "    </div>"
      ]
     },
     "metadata": {},
     "output_type": "display_data"
    },
    {
     "data": {
      "application/javascript": [
       "\n",
       "(function(root) {\n",
       "  function now() {\n",
       "    return new Date();\n",
       "  }\n",
       "\n",
       "  var force = true;\n",
       "\n",
       "  if (typeof root._bokeh_onload_callbacks === \"undefined\" || force === true) {\n",
       "    root._bokeh_onload_callbacks = [];\n",
       "    root._bokeh_is_loading = undefined;\n",
       "  }\n",
       "\n",
       "  var JS_MIME_TYPE = 'application/javascript';\n",
       "  var HTML_MIME_TYPE = 'text/html';\n",
       "  var EXEC_MIME_TYPE = 'application/vnd.bokehjs_exec.v0+json';\n",
       "  var CLASS_NAME = 'output_bokeh rendered_html';\n",
       "\n",
       "  /**\n",
       "   * Render data to the DOM node\n",
       "   */\n",
       "  function render(props, node) {\n",
       "    var script = document.createElement(\"script\");\n",
       "    node.appendChild(script);\n",
       "  }\n",
       "\n",
       "  /**\n",
       "   * Handle when an output is cleared or removed\n",
       "   */\n",
       "  function handleClearOutput(event, handle) {\n",
       "    var cell = handle.cell;\n",
       "\n",
       "    var id = cell.output_area._bokeh_element_id;\n",
       "    var server_id = cell.output_area._bokeh_server_id;\n",
       "    // Clean up Bokeh references\n",
       "    if (id != null && id in Bokeh.index) {\n",
       "      Bokeh.index[id].model.document.clear();\n",
       "      delete Bokeh.index[id];\n",
       "    }\n",
       "\n",
       "    if (server_id !== undefined) {\n",
       "      // Clean up Bokeh references\n",
       "      var cmd = \"from bokeh.io.state import curstate; print(curstate().uuid_to_server['\" + server_id + \"'].get_sessions()[0].document.roots[0]._id)\";\n",
       "      cell.notebook.kernel.execute(cmd, {\n",
       "        iopub: {\n",
       "          output: function(msg) {\n",
       "            var id = msg.content.text.trim();\n",
       "            if (id in Bokeh.index) {\n",
       "              Bokeh.index[id].model.document.clear();\n",
       "              delete Bokeh.index[id];\n",
       "            }\n",
       "          }\n",
       "        }\n",
       "      });\n",
       "      // Destroy server and session\n",
       "      var cmd = \"import bokeh.io.notebook as ion; ion.destroy_server('\" + server_id + \"')\";\n",
       "      cell.notebook.kernel.execute(cmd);\n",
       "    }\n",
       "  }\n",
       "\n",
       "  /**\n",
       "   * Handle when a new output is added\n",
       "   */\n",
       "  function handleAddOutput(event, handle) {\n",
       "    var output_area = handle.output_area;\n",
       "    var output = handle.output;\n",
       "\n",
       "    // limit handleAddOutput to display_data with EXEC_MIME_TYPE content only\n",
       "    if ((output.output_type != \"display_data\") || (!output.data.hasOwnProperty(EXEC_MIME_TYPE))) {\n",
       "      return\n",
       "    }\n",
       "\n",
       "    var toinsert = output_area.element.find(\".\" + CLASS_NAME.split(' ')[0]);\n",
       "\n",
       "    if (output.metadata[EXEC_MIME_TYPE][\"id\"] !== undefined) {\n",
       "      toinsert[toinsert.length - 1].firstChild.textContent = output.data[JS_MIME_TYPE];\n",
       "      // store reference to embed id on output_area\n",
       "      output_area._bokeh_element_id = output.metadata[EXEC_MIME_TYPE][\"id\"];\n",
       "    }\n",
       "    if (output.metadata[EXEC_MIME_TYPE][\"server_id\"] !== undefined) {\n",
       "      var bk_div = document.createElement(\"div\");\n",
       "      bk_div.innerHTML = output.data[HTML_MIME_TYPE];\n",
       "      var script_attrs = bk_div.children[0].attributes;\n",
       "      for (var i = 0; i < script_attrs.length; i++) {\n",
       "        toinsert[toinsert.length - 1].firstChild.setAttribute(script_attrs[i].name, script_attrs[i].value);\n",
       "        toinsert[toinsert.length - 1].firstChild.textContent = bk_div.children[0].textContent\n",
       "      }\n",
       "      // store reference to server id on output_area\n",
       "      output_area._bokeh_server_id = output.metadata[EXEC_MIME_TYPE][\"server_id\"];\n",
       "    }\n",
       "  }\n",
       "\n",
       "  function register_renderer(events, OutputArea) {\n",
       "\n",
       "    function append_mime(data, metadata, element) {\n",
       "      // create a DOM node to render to\n",
       "      var toinsert = this.create_output_subarea(\n",
       "        metadata,\n",
       "        CLASS_NAME,\n",
       "        EXEC_MIME_TYPE\n",
       "      );\n",
       "      this.keyboard_manager.register_events(toinsert);\n",
       "      // Render to node\n",
       "      var props = {data: data, metadata: metadata[EXEC_MIME_TYPE]};\n",
       "      render(props, toinsert[toinsert.length - 1]);\n",
       "      element.append(toinsert);\n",
       "      return toinsert\n",
       "    }\n",
       "\n",
       "    /* Handle when an output is cleared or removed */\n",
       "    events.on('clear_output.CodeCell', handleClearOutput);\n",
       "    events.on('delete.Cell', handleClearOutput);\n",
       "\n",
       "    /* Handle when a new output is added */\n",
       "    events.on('output_added.OutputArea', handleAddOutput);\n",
       "\n",
       "    /**\n",
       "     * Register the mime type and append_mime function with output_area\n",
       "     */\n",
       "    OutputArea.prototype.register_mime_type(EXEC_MIME_TYPE, append_mime, {\n",
       "      /* Is output safe? */\n",
       "      safe: true,\n",
       "      /* Index of renderer in `output_area.display_order` */\n",
       "      index: 0\n",
       "    });\n",
       "  }\n",
       "\n",
       "  // register the mime type if in Jupyter Notebook environment and previously unregistered\n",
       "  if (root.Jupyter !== undefined) {\n",
       "    var events = require('base/js/events');\n",
       "    var OutputArea = require('notebook/js/outputarea').OutputArea;\n",
       "\n",
       "    if (OutputArea.prototype.mime_types().indexOf(EXEC_MIME_TYPE) == -1) {\n",
       "      register_renderer(events, OutputArea);\n",
       "    }\n",
       "  }\n",
       "\n",
       "  \n",
       "  if (typeof (root._bokeh_timeout) === \"undefined\" || force === true) {\n",
       "    root._bokeh_timeout = Date.now() + 5000;\n",
       "    root._bokeh_failed_load = false;\n",
       "  }\n",
       "\n",
       "  var NB_LOAD_WARNING = {'data': {'text/html':\n",
       "     \"<div style='background-color: #fdd'>\\n\"+\n",
       "     \"<p>\\n\"+\n",
       "     \"BokehJS does not appear to have successfully loaded. If loading BokehJS from CDN, this \\n\"+\n",
       "     \"may be due to a slow or bad network connection. Possible fixes:\\n\"+\n",
       "     \"</p>\\n\"+\n",
       "     \"<ul>\\n\"+\n",
       "     \"<li>re-rerun `output_notebook()` to attempt to load from CDN again, or</li>\\n\"+\n",
       "     \"<li>use INLINE resources instead, as so:</li>\\n\"+\n",
       "     \"</ul>\\n\"+\n",
       "     \"<code>\\n\"+\n",
       "     \"from bokeh.resources import INLINE\\n\"+\n",
       "     \"output_notebook(resources=INLINE)\\n\"+\n",
       "     \"</code>\\n\"+\n",
       "     \"</div>\"}};\n",
       "\n",
       "  function display_loaded() {\n",
       "    var el = document.getElementById(\"1229\");\n",
       "    if (el != null) {\n",
       "      el.textContent = \"BokehJS is loading...\";\n",
       "    }\n",
       "    if (root.Bokeh !== undefined) {\n",
       "      if (el != null) {\n",
       "        el.textContent = \"BokehJS \" + root.Bokeh.version + \" successfully loaded.\";\n",
       "      }\n",
       "    } else if (Date.now() < root._bokeh_timeout) {\n",
       "      setTimeout(display_loaded, 100)\n",
       "    }\n",
       "  }\n",
       "\n",
       "\n",
       "  function run_callbacks() {\n",
       "    try {\n",
       "      root._bokeh_onload_callbacks.forEach(function(callback) {\n",
       "        if (callback != null)\n",
       "          callback();\n",
       "      });\n",
       "    } finally {\n",
       "      delete root._bokeh_onload_callbacks\n",
       "    }\n",
       "    console.debug(\"Bokeh: all callbacks have finished\");\n",
       "  }\n",
       "\n",
       "  function load_libs(css_urls, js_urls, callback) {\n",
       "    if (css_urls == null) css_urls = [];\n",
       "    if (js_urls == null) js_urls = [];\n",
       "\n",
       "    root._bokeh_onload_callbacks.push(callback);\n",
       "    if (root._bokeh_is_loading > 0) {\n",
       "      console.debug(\"Bokeh: BokehJS is being loaded, scheduling callback at\", now());\n",
       "      return null;\n",
       "    }\n",
       "    if (js_urls == null || js_urls.length === 0) {\n",
       "      run_callbacks();\n",
       "      return null;\n",
       "    }\n",
       "    console.debug(\"Bokeh: BokehJS not loaded, scheduling load and callback at\", now());\n",
       "    root._bokeh_is_loading = css_urls.length + js_urls.length;\n",
       "\n",
       "    function on_load() {\n",
       "      root._bokeh_is_loading--;\n",
       "      if (root._bokeh_is_loading === 0) {\n",
       "        console.debug(\"Bokeh: all BokehJS libraries/stylesheets loaded\");\n",
       "        run_callbacks()\n",
       "      }\n",
       "    }\n",
       "\n",
       "    function on_error() {\n",
       "      console.error(\"failed to load \" + url);\n",
       "    }\n",
       "\n",
       "    for (var i = 0; i < css_urls.length; i++) {\n",
       "      var url = css_urls[i];\n",
       "      const element = document.createElement(\"link\");\n",
       "      element.onload = on_load;\n",
       "      element.onerror = on_error;\n",
       "      element.rel = \"stylesheet\";\n",
       "      element.type = \"text/css\";\n",
       "      element.href = url;\n",
       "      console.debug(\"Bokeh: injecting link tag for BokehJS stylesheet: \", url);\n",
       "      document.body.appendChild(element);\n",
       "    }\n",
       "\n",
       "    const hashes = {\"https://cdn.bokeh.org/bokeh/release/bokeh-2.0.1.min.js\": \"JpP8FXbgAZLkfur7LiK3j9AGBhHNIvF742meBJrjO2ShJDhCG2I1uVvW+0DUtrmc\", \"https://cdn.bokeh.org/bokeh/release/bokeh-widgets-2.0.1.min.js\": \"xZlADit0Q04ISQEdKg2k3L4W9AwQBAuDs9nJL9fM/WwzL1tEU9VPNezOFX0nLEAz\", \"https://cdn.bokeh.org/bokeh/release/bokeh-tables-2.0.1.min.js\": \"4BuPRZkdMKSnj3zoxiNrQ86XgNw0rYmBOxe7nshquXwwcauupgBF2DHLVG1WuZlV\", \"https://cdn.bokeh.org/bokeh/release/bokeh-gl-2.0.1.min.js\": \"Dv1SQ87hmDqK6S5OhBf0bCuwAEvL5QYL0PuR/F1SPVhCS/r/abjkbpKDYL2zeM19\"};\n",
       "\n",
       "    for (var i = 0; i < js_urls.length; i++) {\n",
       "      var url = js_urls[i];\n",
       "      var element = document.createElement('script');\n",
       "      element.onload = on_load;\n",
       "      element.onerror = on_error;\n",
       "      element.async = false;\n",
       "      element.src = url;\n",
       "      if (url in hashes) {\n",
       "        element.crossOrigin = \"anonymous\";\n",
       "        element.integrity = \"sha384-\" + hashes[url];\n",
       "      }\n",
       "      console.debug(\"Bokeh: injecting script tag for BokehJS library: \", url);\n",
       "      document.head.appendChild(element);\n",
       "    }\n",
       "  };var element = document.getElementById(\"1229\");\n",
       "  if (element == null) {\n",
       "    console.error(\"Bokeh: ERROR: autoload.js configured with elementid '1229' but no matching script tag was found. \")\n",
       "    return false;\n",
       "  }\n",
       "\n",
       "  function inject_raw_css(css) {\n",
       "    const element = document.createElement(\"style\");\n",
       "    element.appendChild(document.createTextNode(css));\n",
       "    document.body.appendChild(element);\n",
       "  }\n",
       "\n",
       "  \n",
       "  var js_urls = [\"https://cdn.bokeh.org/bokeh/release/bokeh-2.0.1.min.js\", \"https://cdn.bokeh.org/bokeh/release/bokeh-widgets-2.0.1.min.js\", \"https://cdn.bokeh.org/bokeh/release/bokeh-tables-2.0.1.min.js\", \"https://cdn.bokeh.org/bokeh/release/bokeh-gl-2.0.1.min.js\"];\n",
       "  var css_urls = [];\n",
       "  \n",
       "\n",
       "  var inline_js = [\n",
       "    function(Bokeh) {\n",
       "      Bokeh.set_log_level(\"info\");\n",
       "    },\n",
       "    function(Bokeh) {\n",
       "    \n",
       "    \n",
       "    }\n",
       "  ];\n",
       "\n",
       "  function run_inline_js() {\n",
       "    \n",
       "    if (root.Bokeh !== undefined || force === true) {\n",
       "      \n",
       "    for (var i = 0; i < inline_js.length; i++) {\n",
       "      inline_js[i].call(root, root.Bokeh);\n",
       "    }\n",
       "    if (force === true) {\n",
       "        display_loaded();\n",
       "      }} else if (Date.now() < root._bokeh_timeout) {\n",
       "      setTimeout(run_inline_js, 100);\n",
       "    } else if (!root._bokeh_failed_load) {\n",
       "      console.log(\"Bokeh: BokehJS failed to load within specified timeout.\");\n",
       "      root._bokeh_failed_load = true;\n",
       "    } else if (force !== true) {\n",
       "      var cell = $(document.getElementById(\"1229\")).parents('.cell').data().cell;\n",
       "      cell.output_area.append_execute_result(NB_LOAD_WARNING)\n",
       "    }\n",
       "\n",
       "  }\n",
       "\n",
       "  if (root._bokeh_is_loading === 0) {\n",
       "    console.debug(\"Bokeh: BokehJS loaded, going straight to plotting\");\n",
       "    run_inline_js();\n",
       "  } else {\n",
       "    load_libs(css_urls, js_urls, function() {\n",
       "      console.debug(\"Bokeh: BokehJS plotting callback run at\", now());\n",
       "      run_inline_js();\n",
       "    });\n",
       "  }\n",
       "}(window));"
      ],
      "application/vnd.bokehjs_load.v0+json": "\n(function(root) {\n  function now() {\n    return new Date();\n  }\n\n  var force = true;\n\n  if (typeof root._bokeh_onload_callbacks === \"undefined\" || force === true) {\n    root._bokeh_onload_callbacks = [];\n    root._bokeh_is_loading = undefined;\n  }\n\n  \n\n  \n  if (typeof (root._bokeh_timeout) === \"undefined\" || force === true) {\n    root._bokeh_timeout = Date.now() + 5000;\n    root._bokeh_failed_load = false;\n  }\n\n  var NB_LOAD_WARNING = {'data': {'text/html':\n     \"<div style='background-color: #fdd'>\\n\"+\n     \"<p>\\n\"+\n     \"BokehJS does not appear to have successfully loaded. If loading BokehJS from CDN, this \\n\"+\n     \"may be due to a slow or bad network connection. Possible fixes:\\n\"+\n     \"</p>\\n\"+\n     \"<ul>\\n\"+\n     \"<li>re-rerun `output_notebook()` to attempt to load from CDN again, or</li>\\n\"+\n     \"<li>use INLINE resources instead, as so:</li>\\n\"+\n     \"</ul>\\n\"+\n     \"<code>\\n\"+\n     \"from bokeh.resources import INLINE\\n\"+\n     \"output_notebook(resources=INLINE)\\n\"+\n     \"</code>\\n\"+\n     \"</div>\"}};\n\n  function display_loaded() {\n    var el = document.getElementById(\"1229\");\n    if (el != null) {\n      el.textContent = \"BokehJS is loading...\";\n    }\n    if (root.Bokeh !== undefined) {\n      if (el != null) {\n        el.textContent = \"BokehJS \" + root.Bokeh.version + \" successfully loaded.\";\n      }\n    } else if (Date.now() < root._bokeh_timeout) {\n      setTimeout(display_loaded, 100)\n    }\n  }\n\n\n  function run_callbacks() {\n    try {\n      root._bokeh_onload_callbacks.forEach(function(callback) {\n        if (callback != null)\n          callback();\n      });\n    } finally {\n      delete root._bokeh_onload_callbacks\n    }\n    console.debug(\"Bokeh: all callbacks have finished\");\n  }\n\n  function load_libs(css_urls, js_urls, callback) {\n    if (css_urls == null) css_urls = [];\n    if (js_urls == null) js_urls = [];\n\n    root._bokeh_onload_callbacks.push(callback);\n    if (root._bokeh_is_loading > 0) {\n      console.debug(\"Bokeh: BokehJS is being loaded, scheduling callback at\", now());\n      return null;\n    }\n    if (js_urls == null || js_urls.length === 0) {\n      run_callbacks();\n      return null;\n    }\n    console.debug(\"Bokeh: BokehJS not loaded, scheduling load and callback at\", now());\n    root._bokeh_is_loading = css_urls.length + js_urls.length;\n\n    function on_load() {\n      root._bokeh_is_loading--;\n      if (root._bokeh_is_loading === 0) {\n        console.debug(\"Bokeh: all BokehJS libraries/stylesheets loaded\");\n        run_callbacks()\n      }\n    }\n\n    function on_error() {\n      console.error(\"failed to load \" + url);\n    }\n\n    for (var i = 0; i < css_urls.length; i++) {\n      var url = css_urls[i];\n      const element = document.createElement(\"link\");\n      element.onload = on_load;\n      element.onerror = on_error;\n      element.rel = \"stylesheet\";\n      element.type = \"text/css\";\n      element.href = url;\n      console.debug(\"Bokeh: injecting link tag for BokehJS stylesheet: \", url);\n      document.body.appendChild(element);\n    }\n\n    const hashes = {\"https://cdn.bokeh.org/bokeh/release/bokeh-2.0.1.min.js\": \"JpP8FXbgAZLkfur7LiK3j9AGBhHNIvF742meBJrjO2ShJDhCG2I1uVvW+0DUtrmc\", \"https://cdn.bokeh.org/bokeh/release/bokeh-widgets-2.0.1.min.js\": \"xZlADit0Q04ISQEdKg2k3L4W9AwQBAuDs9nJL9fM/WwzL1tEU9VPNezOFX0nLEAz\", \"https://cdn.bokeh.org/bokeh/release/bokeh-tables-2.0.1.min.js\": \"4BuPRZkdMKSnj3zoxiNrQ86XgNw0rYmBOxe7nshquXwwcauupgBF2DHLVG1WuZlV\", \"https://cdn.bokeh.org/bokeh/release/bokeh-gl-2.0.1.min.js\": \"Dv1SQ87hmDqK6S5OhBf0bCuwAEvL5QYL0PuR/F1SPVhCS/r/abjkbpKDYL2zeM19\"};\n\n    for (var i = 0; i < js_urls.length; i++) {\n      var url = js_urls[i];\n      var element = document.createElement('script');\n      element.onload = on_load;\n      element.onerror = on_error;\n      element.async = false;\n      element.src = url;\n      if (url in hashes) {\n        element.crossOrigin = \"anonymous\";\n        element.integrity = \"sha384-\" + hashes[url];\n      }\n      console.debug(\"Bokeh: injecting script tag for BokehJS library: \", url);\n      document.head.appendChild(element);\n    }\n  };var element = document.getElementById(\"1229\");\n  if (element == null) {\n    console.error(\"Bokeh: ERROR: autoload.js configured with elementid '1229' but no matching script tag was found. \")\n    return false;\n  }\n\n  function inject_raw_css(css) {\n    const element = document.createElement(\"style\");\n    element.appendChild(document.createTextNode(css));\n    document.body.appendChild(element);\n  }\n\n  \n  var js_urls = [\"https://cdn.bokeh.org/bokeh/release/bokeh-2.0.1.min.js\", \"https://cdn.bokeh.org/bokeh/release/bokeh-widgets-2.0.1.min.js\", \"https://cdn.bokeh.org/bokeh/release/bokeh-tables-2.0.1.min.js\", \"https://cdn.bokeh.org/bokeh/release/bokeh-gl-2.0.1.min.js\"];\n  var css_urls = [];\n  \n\n  var inline_js = [\n    function(Bokeh) {\n      Bokeh.set_log_level(\"info\");\n    },\n    function(Bokeh) {\n    \n    \n    }\n  ];\n\n  function run_inline_js() {\n    \n    if (root.Bokeh !== undefined || force === true) {\n      \n    for (var i = 0; i < inline_js.length; i++) {\n      inline_js[i].call(root, root.Bokeh);\n    }\n    if (force === true) {\n        display_loaded();\n      }} else if (Date.now() < root._bokeh_timeout) {\n      setTimeout(run_inline_js, 100);\n    } else if (!root._bokeh_failed_load) {\n      console.log(\"Bokeh: BokehJS failed to load within specified timeout.\");\n      root._bokeh_failed_load = true;\n    } else if (force !== true) {\n      var cell = $(document.getElementById(\"1229\")).parents('.cell').data().cell;\n      cell.output_area.append_execute_result(NB_LOAD_WARNING)\n    }\n\n  }\n\n  if (root._bokeh_is_loading === 0) {\n    console.debug(\"Bokeh: BokehJS loaded, going straight to plotting\");\n    run_inline_js();\n  } else {\n    load_libs(css_urls, js_urls, function() {\n      console.debug(\"Bokeh: BokehJS plotting callback run at\", now());\n      run_inline_js();\n    });\n  }\n}(window));"
     },
     "metadata": {},
     "output_type": "display_data"
    },
    {
     "data": {
      "text/html": [
       "\n",
       "\n",
       "\n",
       "\n",
       "\n",
       "\n",
       "  <div class=\"bk-root\" id=\"25180635-d251-400f-9c8f-5be1bb40ba0e\" data-root-id=\"1192\"></div>\n"
      ]
     },
     "metadata": {},
     "output_type": "display_data"
    },
    {
     "data": {
      "application/javascript": [
       "(function(root) {\n",
       "  function embed_document(root) {\n",
       "    \n",
       "  var docs_json = {\"40c0da43-f841-490b-8f03-031e98ea3cae\":{\"roots\":{\"references\":[{\"attributes\":{\"below\":[{\"id\":\"1203\"}],\"center\":[{\"id\":\"1206\"},{\"id\":\"1210\"}],\"left\":[{\"id\":\"1207\"}],\"plot_height\":400,\"plot_width\":850,\"renderers\":[{\"id\":\"1221\"}],\"title\":{\"id\":\"1193\"},\"toolbar\":{\"id\":\"1214\"},\"x_range\":{\"id\":\"1195\"},\"x_scale\":{\"id\":\"1199\"},\"y_range\":{\"id\":\"1197\"},\"y_scale\":{\"id\":\"1201\"}},\"id\":\"1192\",\"subtype\":\"Figure\",\"type\":\"Plot\"},{\"attributes\":{\"data\":{\"x\":{\"__ndarray__\":\"AABAx6j8dkIAAAAt+/x2QgAAwJJN/XZCAACA+J/9dkIAAEBe8v12QgAAAMRE/nZCAADAKZf+dkIAAICP6f52QgAAQPU7/3ZCAAAAW47/dkIAAMDA4P92QgAAgCYzAHdCAABAjIUAd0IAAADy1wB3QgAAwFcqAXdCAACAvXwBd0IAAEAjzwF3QgAAAIkhAndCAADA7nMCd0IAAIBUxgJ3QgAAQLoYA3dCAAAAIGsDd0IAAMCFvQN3QgAAgOsPBHdCAABAUWIEd0IAAAC3tAR3QgAAwBwHBXdCAACAglkFd0IAAEDoqwV3QgAAAE7+BXdCAADAs1AGd0IAAIAZowZ3QgAAQH/1BndCAAAA5UcHd0IAAMBKmgd3QgAAgLDsB3dCAABAFj8Id0IAAAB8kQh3QgAAwOHjCHdCAACARzYJd0IAAECtiAl3QgAAABPbCXdCAADAeC0Kd0IAAIDefwp3QgAAQETSCndCAAAAqiQLd0IAAMAPdwt3QgAAgHXJC3dCAABA2xsMd0IAAABBbgx3QgAAwKbADHdCAACADBMNd0IAAEByZQ13QgAAANi3DXdCAADAPQoOd0IAAICjXA53QgAAQAmvDndCAAAAbwEPd0IAAMDUUw93QgAAgDqmD3dCAABAoPgPd0IAAAAGSxB3QgAAwGudEHdCAACA0e8Qd0IAAEA3QhF3QgAAAJ2UEXdCAADAAucRd0IAAIBoORJ3QgAAQM6LEndCAAAANN4Sd0IAAMCZMBN3QgAAgP+CE3dCAABAZdUTd0IAAADLJxR3QgAAwDB6FHdCAACAlswUd0IAAED8HhV3Qg==\",\"dtype\":\"float64\",\"shape\":[77]},\"y\":{\"__ndarray__\":\"AAAAAAAAAAAAAAAAAAAAAAAAAAAAAAAAAAAAAAAAAAAAAAAAAAAAAAAAAAAAAAAAAAAAAAAAAAAAAAAAAAAAAAAAAAAAAAAAAAAAAAAAAEAAAAAAAAAAQAAAAAAAAABAAAAAAAAAAEAAAAAAAAAAQAAAAAAAAABAAAAAAAAAAEAAAAAAAAAIQAAAAAAAAAhAAAAAAAAACEAAAAAAAAAgQAAAAAAAACBAAAAAAAAAIkAAAAAAAAAiQAAAAAAAACJAAAAAAAAAIkAAAAAAAAAiQAAAAAAAACJAAAAAAAAAIkAAAAAAAAAiQAAAAAAAACJAAAAAAAAAIkAAAAAAAAAiQAAAAAAAACJAAAAAAAAAKkAAAAAAAAAqQAAAAAAAACpAAAAAAAAALkAAAAAAAAA0QAAAAAAAADdAAAAAAAAAQkAAAAAAAABEQAAAAAAAgElAAAAAAACAVUAAAAAAAABdQAAAAAAAgGRAAAAAAADgaUAAAAAAACBxQAAAAAAAIHRAAAAAAAAAeEAAAAAAALB8QAAAAAAAsHxAAAAAAAAQiUAAAAAAAOCRQAAAAAAA5JFAAAAAAAA8mEAAAAAAAKCeQAAAAAAApKRAAAAAAAA4pUAAAAAAAFyvQAAAAAAAy7NAAAAAAABxtkAAAAAAAEa6QAAAAAAA5L9AAAAAAADUwkAAAAAAABLHQAAAAACAzMxAAAAAAADo0EAAAAAAAFHTQAAAAABA7dVAAAAAAEDi2EAAAAAAQCrdQAAAAACgr+BAAAAAACDk4kAAAAAAoL3kQAAAAACApudAAAAAAOCG6UAAAAAAoFHrQA==\",\"dtype\":\"float64\",\"shape\":[77]}},\"selected\":{\"id\":\"1250\"},\"selection_policy\":{\"id\":\"1251\"}},\"id\":\"1218\",\"type\":\"ColumnDataSource\"},{\"attributes\":{},\"id\":\"1263\",\"type\":\"YearsTicker\"},{\"attributes\":{\"num_minor_ticks\":5,\"tickers\":[{\"id\":\"1252\"},{\"id\":\"1253\"},{\"id\":\"1254\"},{\"id\":\"1255\"},{\"id\":\"1256\"},{\"id\":\"1257\"},{\"id\":\"1258\"},{\"id\":\"1259\"},{\"id\":\"1260\"},{\"id\":\"1261\"},{\"id\":\"1262\"},{\"id\":\"1263\"}]},\"id\":\"1204\",\"type\":\"DatetimeTicker\"},{\"attributes\":{\"months\":[0,6]},\"id\":\"1262\",\"type\":\"MonthsTicker\"},{\"attributes\":{\"mantissas\":[1,2,5],\"max_interval\":500.0,\"num_minor_ticks\":0},\"id\":\"1252\",\"type\":\"AdaptiveTicker\"},{\"attributes\":{\"days\":[\"%d %b\"]},\"id\":\"1223\",\"type\":\"DatetimeTickFormatter\"},{\"attributes\":{\"months\":[0,1,2,3,4,5,6,7,8,9,10,11]},\"id\":\"1259\",\"type\":\"MonthsTicker\"},{\"attributes\":{\"months\":[0,2,4,6,8,10]},\"id\":\"1260\",\"type\":\"MonthsTicker\"},{\"attributes\":{\"callback\":null,\"tooltips\":[[\"UN country\",\"@country\"]]},\"id\":\"1227\",\"type\":\"HoverTool\"},{\"attributes\":{},\"id\":\"1212\",\"type\":\"PanTool\"},{\"attributes\":{\"text\":\"Country\"},\"id\":\"1193\",\"type\":\"Title\"},{\"attributes\":{},\"id\":\"1225\",\"type\":\"NumeralTickFormatter\"},{\"attributes\":{\"axis_label\":\"Count\",\"formatter\":{\"id\":\"1225\"},\"ticker\":{\"id\":\"1208\"}},\"id\":\"1207\",\"type\":\"LinearAxis\"},{\"attributes\":{\"axis\":{\"id\":\"1203\"},\"ticker\":null},\"id\":\"1206\",\"type\":\"Grid\"},{\"attributes\":{\"days\":[1,8,15,22]},\"id\":\"1257\",\"type\":\"DaysTicker\"},{\"attributes\":{},\"id\":\"1197\",\"type\":\"DataRange1d\"},{\"attributes\":{\"months\":[0,4,8]},\"id\":\"1261\",\"type\":\"MonthsTicker\"},{\"attributes\":{\"line_color\":\"#1f77b4\",\"x\":{\"field\":\"x\"},\"y\":{\"field\":\"y\"}},\"id\":\"1219\",\"type\":\"Line\"},{\"attributes\":{\"data_source\":{\"id\":\"1218\"},\"glyph\":{\"id\":\"1219\"},\"hover_glyph\":null,\"muted_glyph\":null,\"nonselection_glyph\":{\"id\":\"1220\"},\"selection_glyph\":null,\"view\":{\"id\":\"1222\"}},\"id\":\"1221\",\"type\":\"GlyphRenderer\"},{\"attributes\":{\"source\":{\"id\":\"1218\"}},\"id\":\"1222\",\"type\":\"CDSView\"},{\"attributes\":{\"days\":[1,4,7,10,13,16,19,22,25,28]},\"id\":\"1256\",\"type\":\"DaysTicker\"},{\"attributes\":{},\"id\":\"1250\",\"type\":\"Selection\"},{\"attributes\":{\"base\":60,\"mantissas\":[1,2,5,10,15,20,30],\"max_interval\":1800000.0,\"min_interval\":1000.0,\"num_minor_ticks\":0},\"id\":\"1253\",\"type\":\"AdaptiveTicker\"},{\"attributes\":{\"active_drag\":\"auto\",\"active_inspect\":\"auto\",\"active_multi\":null,\"active_scroll\":\"auto\",\"active_tap\":\"auto\",\"tools\":[{\"id\":\"1211\"},{\"id\":\"1212\"},{\"id\":\"1213\"},{\"id\":\"1227\"}]},\"id\":\"1214\",\"type\":\"Toolbar\"},{\"attributes\":{},\"id\":\"1211\",\"type\":\"WheelZoomTool\"},{\"attributes\":{},\"id\":\"1199\",\"type\":\"LinearScale\"},{\"attributes\":{\"axis\":{\"id\":\"1207\"},\"dimension\":1,\"ticker\":null},\"id\":\"1210\",\"type\":\"Grid\"},{\"attributes\":{},\"id\":\"1213\",\"type\":\"ResetTool\"},{\"attributes\":{\"days\":[1,15]},\"id\":\"1258\",\"type\":\"DaysTicker\"},{\"attributes\":{},\"id\":\"1251\",\"type\":\"UnionRenderers\"},{\"attributes\":{},\"id\":\"1195\",\"type\":\"DataRange1d\"},{\"attributes\":{},\"id\":\"1208\",\"type\":\"BasicTicker\"},{\"attributes\":{\"days\":[1,2,3,4,5,6,7,8,9,10,11,12,13,14,15,16,17,18,19,20,21,22,23,24,25,26,27,28,29,30,31]},\"id\":\"1255\",\"type\":\"DaysTicker\"},{\"attributes\":{\"base\":24,\"mantissas\":[1,2,4,6,8,12],\"max_interval\":43200000.0,\"min_interval\":3600000.0,\"num_minor_ticks\":0},\"id\":\"1254\",\"type\":\"AdaptiveTicker\"},{\"attributes\":{\"axis_label\":\"Date\",\"formatter\":{\"id\":\"1223\"},\"ticker\":{\"id\":\"1204\"}},\"id\":\"1203\",\"type\":\"DatetimeAxis\"},{\"attributes\":{\"line_alpha\":0.1,\"line_color\":\"#1f77b4\",\"x\":{\"field\":\"x\"},\"y\":{\"field\":\"y\"}},\"id\":\"1220\",\"type\":\"Line\"},{\"attributes\":{},\"id\":\"1201\",\"type\":\"LinearScale\"}],\"root_ids\":[\"1192\"]},\"title\":\"Bokeh Application\",\"version\":\"2.0.1\"}};\n",
       "  var render_items = [{\"docid\":\"40c0da43-f841-490b-8f03-031e98ea3cae\",\"root_ids\":[\"1192\"],\"roots\":{\"1192\":\"25180635-d251-400f-9c8f-5be1bb40ba0e\"}}];\n",
       "  root.Bokeh.embed.embed_items_notebook(docs_json, render_items);\n",
       "\n",
       "  }\n",
       "  if (root.Bokeh !== undefined) {\n",
       "    embed_document(root);\n",
       "  } else {\n",
       "    var attempts = 0;\n",
       "    var timer = setInterval(function(root) {\n",
       "      if (root.Bokeh !== undefined) {\n",
       "        clearInterval(timer);\n",
       "        embed_document(root);\n",
       "      } else {\n",
       "        attempts++;\n",
       "        if (attempts > 100) {\n",
       "          clearInterval(timer);\n",
       "          console.log(\"Bokeh: ERROR: Unable to run BokehJS code because BokehJS library is missing\");\n",
       "        }\n",
       "      }\n",
       "    }, 10, root)\n",
       "  }\n",
       "})(window);"
      ],
      "application/vnd.bokehjs_exec.v0+json": ""
     },
     "metadata": {
      "application/vnd.bokehjs_exec.v0+json": {
       "id": "1192"
      }
     },
     "output_type": "display_data"
    }
   ],
   "source": [
    "#source = ColumnDataSource(merged_subset) # coldatasources must exclude geometry column\n",
    "df = merged_subset\n",
    "\n",
    "metric = 'confirmed'\n",
    "\n",
    "p = figure(title='Country', plot_height=400 , plot_width=850, \n",
    "           toolbar_location='right', \n",
    "           tools='wheel_zoom, pan, reset', \n",
    "           x_axis_label='Date', y_axis_label='Count',\n",
    "        x_axis_type='datetime')\n",
    "\n",
    "# p.xgrid.grid_line_color = None\n",
    "# p.ygrid.grid_line_color = None\n",
    "\n",
    "p.line(df['day'], df[metric])\n",
    "\n",
    "# format the date on x axis\n",
    "p.xaxis.formatter = DatetimeTickFormatter(days=[\"%d %b\"])\n",
    "    \n",
    "# add thousand-separator to y axis\n",
    "p.yaxis.formatter=NumeralTickFormatter() \n",
    "\n",
    "\n",
    "# Create a HoverTool: hover\n",
    "hover = HoverTool(tooltips=TOOLTIPS)\n",
    "\n",
    "# Add the hover tool to the figure p\n",
    "p.add_tools(hover)\n",
    "\n",
    "\n",
    "output_notebook()\n",
    "show(p)"
   ]
  },
  {
   "cell_type": "markdown",
   "metadata": {},
   "source": [
    "# Map by province"
   ]
  },
  {
   "cell_type": "code",
   "execution_count": 51,
   "metadata": {
    "ExecuteTime": {
     "end_time": "2020-04-03T08:41:12.419034Z",
     "start_time": "2020-04-03T08:41:12.375251Z"
    }
   },
   "outputs": [],
   "source": [
    "# # source for mapping by province #TODO - need to unaggregate by province\n",
    "\n",
    "#merged_subset = merged.loc[merged['country'] == 'United Kingdom']\n",
    "\n",
    "# source = merged_subset.copy()\n",
    "# source = GeoJSONDataSource(geojson=json.dumps(json.loads(source.to_json()))) "
   ]
  },
  {
   "cell_type": "markdown",
   "metadata": {
    "ExecuteTime": {
     "end_time": "2020-04-08T17:58:36.344592Z",
     "start_time": "2020-04-08T17:58:19.525020Z"
    }
   },
   "source": [
    "# Colorcet palettes are larger and work with Bokeh \n",
    "(but colours are lairy...)"
   ]
  },
  {
   "cell_type": "code",
   "execution_count": 2,
   "metadata": {
    "ExecuteTime": {
     "end_time": "2020-04-08T18:09:09.670044Z",
     "start_time": "2020-04-08T18:09:09.667370Z"
    }
   },
   "outputs": [],
   "source": [
    "import colorcet "
   ]
  },
  {
   "cell_type": "code",
   "execution_count": null,
   "metadata": {},
   "outputs": [],
   "source": [
    "# view example palettes\n",
    "\n",
    "# import holoviews as hv\n",
    "# from colorcet.plotting import swatches, sine_combs\n",
    "# hv.notebook_extension(\"bokeh\")\n",
    "# swatches(group=\"linear\")"
   ]
  },
  {
   "cell_type": "code",
   "execution_count": 8,
   "metadata": {
    "ExecuteTime": {
     "end_time": "2020-04-08T18:19:39.572188Z",
     "start_time": "2020-04-08T18:19:39.564179Z"
    }
   },
   "outputs": [
    {
     "data": {
      "text/plain": [
       "['#f6f909',\n",
       " '#f6f70d',\n",
       " '#f6f610',\n",
       " '#f5f513',\n",
       " '#f5f415',\n",
       " '#f4f218',\n",
       " '#f4f11a',\n",
       " '#f3f01b',\n",
       " '#f3ef1d',\n",
       " '#f3ed1f',\n",
       " '#f2ec20',\n",
       " '#f2eb21',\n",
       " '#f2ea23',\n",
       " '#f1e824',\n",
       " '#f1e725',\n",
       " '#f1e626',\n",
       " '#f0e527',\n",
       " '#f0e328',\n",
       " '#f0e228',\n",
       " '#f0e129',\n",
       " '#f0df2a',\n",
       " '#efde2a',\n",
       " '#efdd2b',\n",
       " '#efdb2b',\n",
       " '#efda2c',\n",
       " '#efd92c',\n",
       " '#efd72c',\n",
       " '#efd62d',\n",
       " '#efd52d',\n",
       " '#efd32d',\n",
       " '#efd22d',\n",
       " '#efd02d',\n",
       " '#efcf2d',\n",
       " '#efce2d',\n",
       " '#efcc2d',\n",
       " '#efcb2d',\n",
       " '#f0c92d',\n",
       " '#f0c82c',\n",
       " '#f0c62c',\n",
       " '#f1c52b',\n",
       " '#f1c32b',\n",
       " '#f1c12a',\n",
       " '#f2c029',\n",
       " '#f3be28',\n",
       " '#f3bd27',\n",
       " '#f4bb26',\n",
       " '#f4b925',\n",
       " '#f5b824',\n",
       " '#f5b623',\n",
       " '#f6b422',\n",
       " '#f6b322',\n",
       " '#f7b121',\n",
       " '#f7af20',\n",
       " '#f8ae1f',\n",
       " '#f8ac1e',\n",
       " '#f8aa1e',\n",
       " '#f9a81d',\n",
       " '#f9a71c',\n",
       " '#faa51b',\n",
       " '#faa31b',\n",
       " '#faa21a',\n",
       " '#faa019',\n",
       " '#fb9e19',\n",
       " '#fb9d18',\n",
       " '#fb9b18',\n",
       " '#fb9917',\n",
       " '#fc9717',\n",
       " '#fc9616',\n",
       " '#fc9416',\n",
       " '#fc9215',\n",
       " '#fc9015',\n",
       " '#fd8f15',\n",
       " '#fd8d14',\n",
       " '#fd8b14',\n",
       " '#fd8914',\n",
       " '#fd8813',\n",
       " '#fd8613',\n",
       " '#fd8413',\n",
       " '#fd8212',\n",
       " '#fe8012',\n",
       " '#fe7e12',\n",
       " '#fe7d11',\n",
       " '#fe7b11',\n",
       " '#fe7911',\n",
       " '#fe7710',\n",
       " '#fe7510',\n",
       " '#fe7310',\n",
       " '#fe710f',\n",
       " '#fe6f0f',\n",
       " '#fe6d0f',\n",
       " '#fe6b0e',\n",
       " '#fe690e',\n",
       " '#fe670e',\n",
       " '#fe650d',\n",
       " '#fe630d',\n",
       " '#fe610c',\n",
       " '#fe5e0c',\n",
       " '#fe5c0c',\n",
       " '#fe5a0b',\n",
       " '#fe570b',\n",
       " '#fe550b',\n",
       " '#fe530a',\n",
       " '#fe500a',\n",
       " '#fe4e0a',\n",
       " '#fd4c09',\n",
       " '#fd4a09',\n",
       " '#fd4709',\n",
       " '#fc4509',\n",
       " '#fc4308',\n",
       " '#fb4108',\n",
       " '#fb3e08',\n",
       " '#fa3c08',\n",
       " '#f93a07',\n",
       " '#f93807',\n",
       " '#f83607',\n",
       " '#f73407',\n",
       " '#f63206',\n",
       " '#f53006',\n",
       " '#f42e06',\n",
       " '#f32c06',\n",
       " '#f22a06',\n",
       " '#f12806',\n",
       " '#f02605',\n",
       " '#ef2505',\n",
       " '#ee2305',\n",
       " '#ec2205',\n",
       " '#eb2105',\n",
       " '#ea1f05',\n",
       " '#e81e04',\n",
       " '#e71d04',\n",
       " '#e51c04',\n",
       " '#e41b04',\n",
       " '#e31a04',\n",
       " '#e11904',\n",
       " '#e01804',\n",
       " '#de1704',\n",
       " '#dd1603',\n",
       " '#db1503',\n",
       " '#da1403',\n",
       " '#d81303',\n",
       " '#d71203',\n",
       " '#d51103',\n",
       " '#d41103',\n",
       " '#d21003',\n",
       " '#d10f03',\n",
       " '#cf0e03',\n",
       " '#ce0d03',\n",
       " '#cc0d03',\n",
       " '#cb0c03',\n",
       " '#c90b03',\n",
       " '#c80b03',\n",
       " '#c60a03',\n",
       " '#c40a03',\n",
       " '#c30903',\n",
       " '#c10903',\n",
       " '#c00903',\n",
       " '#be0803',\n",
       " '#bc0803',\n",
       " '#bb0803',\n",
       " '#b90803',\n",
       " '#b80703',\n",
       " '#b60703',\n",
       " '#b40703',\n",
       " '#b30703',\n",
       " '#b10703',\n",
       " '#b00603',\n",
       " '#ae0603',\n",
       " '#ad0603',\n",
       " '#ab0603',\n",
       " '#a90503',\n",
       " '#a80503',\n",
       " '#a60503',\n",
       " '#a50503',\n",
       " '#a30503',\n",
       " '#a20503',\n",
       " '#a00403',\n",
       " '#9f0403',\n",
       " '#9d0402',\n",
       " '#9b0402',\n",
       " '#9a0402',\n",
       " '#980402',\n",
       " '#970302',\n",
       " '#950302',\n",
       " '#940302',\n",
       " '#920302',\n",
       " '#910302',\n",
       " '#8f0302',\n",
       " '#8e0302',\n",
       " '#8c0202',\n",
       " '#8b0202',\n",
       " '#890202',\n",
       " '#880202',\n",
       " '#860202',\n",
       " '#850202',\n",
       " '#830202',\n",
       " '#820202',\n",
       " '#800202',\n",
       " '#7f0202',\n",
       " '#7d0202',\n",
       " '#7c0202',\n",
       " '#7a0202',\n",
       " '#790202',\n",
       " '#770102',\n",
       " '#760102',\n",
       " '#740102',\n",
       " '#730102',\n",
       " '#710102',\n",
       " '#700103',\n",
       " '#6e0103',\n",
       " '#6d0103',\n",
       " '#6b0103',\n",
       " '#6a0103',\n",
       " '#680103',\n",
       " '#670203',\n",
       " '#650204',\n",
       " '#640204',\n",
       " '#620204',\n",
       " '#600304',\n",
       " '#5f0304',\n",
       " '#5d0405',\n",
       " '#5b0505',\n",
       " '#590505',\n",
       " '#570605',\n",
       " '#560706',\n",
       " '#540806',\n",
       " '#520806',\n",
       " '#500907',\n",
       " '#4e0a07',\n",
       " '#4c0b07',\n",
       " '#4a0b08',\n",
       " '#480c08',\n",
       " '#460c08',\n",
       " '#440d09',\n",
       " '#420e09',\n",
       " '#400e09',\n",
       " '#3e0f0a',\n",
       " '#3c0f0a',\n",
       " '#3a0f0a',\n",
       " '#38100b',\n",
       " '#36100b',\n",
       " '#34100b',\n",
       " '#32110c',\n",
       " '#30110c',\n",
       " '#2e110c',\n",
       " '#2c110d',\n",
       " '#29110d',\n",
       " '#27110d',\n",
       " '#25110e',\n",
       " '#23110e',\n",
       " '#21110e',\n",
       " '#1e110f',\n",
       " '#1c110f',\n",
       " '#1a110f',\n",
       " '#171110',\n",
       " '#141110',\n",
       " '#101010']"
      ]
     },
     "execution_count": 8,
     "metadata": {},
     "output_type": "execute_result"
    }
   ],
   "source": [
    "# access a named palette using colourcet.name, e.g.:\n",
    "# need b_ prefix to format as list that is accepted by Bokeh\n",
    "\n",
    "colorcet.b_linear_blue_5_95_c73 # confirmed\n",
    "colorcet.b_linear_green_5_95_c69 # recovered\n",
    "colorcet.b_linear_kry_5_95_c72 # deaths"
   ]
  }
 ],
 "metadata": {
  "kernelspec": {
   "display_name": "Python 3.7.5 64-bit",
   "language": "python",
   "name": "python37564bit674d040657f544d09b2855b0a3b48268"
  },
  "language_info": {
   "codemirror_mode": {
    "name": "ipython",
    "version": 3
   },
   "file_extension": ".py",
   "mimetype": "text/x-python",
   "name": "python",
   "nbconvert_exporter": "python",
   "pygments_lexer": "ipython3",
   "version": "3.7.5"
  },
  "toc": {
   "base_numbering": 1,
   "nav_menu": {},
   "number_sections": true,
   "sideBar": true,
   "skip_h1_title": false,
   "title_cell": "Table of Contents",
   "title_sidebar": "Contents",
   "toc_cell": false,
   "toc_position": {
    "height": "calc(100% - 180px)",
    "left": "10px",
    "top": "150px",
    "width": "165px"
   },
   "toc_section_display": true,
   "toc_window_display": true
  },
  "varInspector": {
   "cols": {
    "lenName": 16,
    "lenType": 16,
    "lenVar": 40
   },
   "kernels_config": {
    "python": {
     "delete_cmd_postfix": "",
     "delete_cmd_prefix": "del ",
     "library": "var_list.py",
     "varRefreshCmd": "print(var_dic_list())"
    },
    "r": {
     "delete_cmd_postfix": ") ",
     "delete_cmd_prefix": "rm(",
     "library": "var_list.r",
     "varRefreshCmd": "cat(var_dic_list()) "
    }
   },
   "types_to_exclude": [
    "module",
    "function",
    "builtin_function_or_method",
    "instance",
    "_Feature"
   ],
   "window_display": false
  }
 },
 "nbformat": 4,
 "nbformat_minor": 4
}
